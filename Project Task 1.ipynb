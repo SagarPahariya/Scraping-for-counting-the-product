{
 "cells": [
  {
   "cell_type": "code",
   "execution_count": 1,
   "id": "898f1f8f",
   "metadata": {
    "ExecuteTime": {
     "end_time": "2022-12-28T06:59:17.880542Z",
     "start_time": "2022-12-28T06:59:17.154363Z"
    }
   },
   "outputs": [],
   "source": [
    "from bs4 import BeautifulSoup\n",
    "import selenium\n",
    "from selenium import webdriver\n",
    "from selenium.webdriver import Chrome\n",
    "import pandas as pd"
   ]
  },
  {
   "cell_type": "code",
   "execution_count": 2,
   "id": "b401e5a3",
   "metadata": {
    "ExecuteTime": {
     "end_time": "2022-12-28T06:59:17.893356Z",
     "start_time": "2022-12-28T06:59:17.882532Z"
    }
   },
   "outputs": [],
   "source": [
    "from selenium.webdriver.common.by import By\n",
    "from selenium.webdriver.support.ui import WebDriverWait\n",
    "from selenium.webdriver.support import expected_conditions as EC"
   ]
  },
  {
   "cell_type": "code",
   "execution_count": 3,
   "id": "7ab4f968",
   "metadata": {
    "ExecuteTime": {
     "end_time": "2022-12-28T06:59:17.970574Z",
     "start_time": "2022-12-28T06:59:17.895289Z"
    }
   },
   "outputs": [],
   "source": [
    "import selenium\n",
    "from bs4 import BeautifulSoup\n",
    "from selenium import webdriver\n",
    "from webdriver_manager.chrome import ChromeDriverManager"
   ]
  },
  {
   "cell_type": "code",
   "execution_count": 4,
   "id": "8ea4fb0d",
   "metadata": {
    "ExecuteTime": {
     "end_time": "2022-12-28T06:59:27.802436Z",
     "start_time": "2022-12-28T06:59:17.972584Z"
    }
   },
   "outputs": [
    {
     "name": "stderr",
     "output_type": "stream",
     "text": [
      "C:\\Users\\Sagar\\AppData\\Local\\Temp\\ipykernel_5836\\2646492795.py:1: DeprecationWarning: executable_path has been deprecated, please pass in a Service object\n",
      "  driver=webdriver.Chrome(ChromeDriverManager().install())\n"
     ]
    }
   ],
   "source": [
    "driver=webdriver.Chrome(ChromeDriverManager().install())\n",
    "driver.get('https://yoshops.com/')"
   ]
  },
  {
   "cell_type": "code",
   "execution_count": 5,
   "id": "03897359",
   "metadata": {
    "ExecuteTime": {
     "end_time": "2022-12-28T06:59:27.833014Z",
     "start_time": "2022-12-28T06:59:27.803491Z"
    }
   },
   "outputs": [],
   "source": [
    "s=driver.page_source"
   ]
  },
  {
   "cell_type": "code",
   "execution_count": 6,
   "id": "36287730",
   "metadata": {
    "ExecuteTime": {
     "end_time": "2022-12-28T06:59:27.863435Z",
     "start_time": "2022-12-28T06:59:27.835297Z"
    }
   },
   "outputs": [],
   "source": [
    "src1=BeautifulSoup(s,'html')"
   ]
  },
  {
   "cell_type": "code",
   "execution_count": 7,
   "id": "f9727d9d",
   "metadata": {
    "ExecuteTime": {
     "end_time": "2022-12-28T06:59:27.879350Z",
     "start_time": "2022-12-28T06:59:27.864487Z"
    }
   },
   "outputs": [],
   "source": [
    "src2=src1.findChild()"
   ]
  },
  {
   "cell_type": "code",
   "execution_count": 8,
   "id": "17a1ac63",
   "metadata": {
    "ExecuteTime": {
     "end_time": "2022-12-28T06:59:27.971734Z",
     "start_time": "2022-12-28T06:59:27.880396Z"
    }
   },
   "outputs": [
    {
     "data": {
      "text/plain": [
       "<html><head>\n",
       "<title>Yoshops.com | India's Online Store For Toys And  Electronics Item</title>\n",
       "<meta charset=\"utf-8\"/>\n",
       "<meta content=\"IE=edge,chrome=1\" http-equiv=\"X-UA-Compatible\"/>\n",
       "<meta content=\"text/html; charset=utf-8\" http-equiv=\"Content-Type\"/>\n",
       "<meta content=\"width=device-width, initial-scale=1.0, maximum-scale=1\" name=\"viewport\"/>\n",
       "<meta content=\"Yoshops.com is online store offer Mobiles,Headphone,Bluetooth Headphone,Sony PlayStation,Earphone,Bags, FMCG Product,Led Tv,Mobile Accessories,Laptop Accesories, FREE SHIPPING,Cash On Delivery,Food,Free Internship,Online Live Classes,Training,RC Toys\" name=\"description\"/>\n",
       "<meta content=\"authenticity_token\" name=\"csrf-param\"/>\n",
       "<meta content=\"ALAIaRMwfIl48MgAdDuQVzcXTphHBYspw/uWxcgLa2/YjxwU/3ESefSHR4k7qG7HP5Er9p/EO+Ue+yk3yGnyGg==\" name=\"csrf-token\"/>\n",
       "<link href=\"//onlinestore.wsimg.com/assets/themes/__master/assets/stylesheets/master_styles-fefd94f7a32be14cfd662c001f992db70fce90011b6210f3062356f21d61f397.css\" rel=\"stylesheet\" type=\"text/css\"/>\n",
       "<link href=\"//fonts.googleapis.com/css?family=Fauna+One|Open+Sans:400,600\" rel=\"stylesheet\" type=\"text/css\"/>\n",
       "<link href=\"/store/a8efe83b-6857-477d-9d0f-f13ca0229a20/theme/asset/008/V1/assets/stylesheets/style-694994a81e61f8b384670f239aec238bdd31a6457d1f709996c8fa2d1706f72d.css\" rel=\"stylesheet\" type=\"text/css\"/>\n",
       "<!-- HTML5 Shim and Respond.js IE8 support of HTML5 elements and media queries -->\n",
       "<!-- WARNING: Respond.js doesn't work if you view the page via file:// -->\n",
       "<!--[if lt IE 9]>\n",
       "    <script src=\"https://oss.maxcdn.com/libs/html5shiv/3.7.0/html5shiv.js\"></script>\n",
       "    <script src=\"https://oss.maxcdn.com/libs/respond.js/1.3.0/respond.min.js\"></script>\n",
       "  <![endif]-->\n",
       "<script charset=\"UTF-8\" crossorigin=\"*\" src=\"https://embed.tawk.to/_s/v4/app/637ddf31c8f/js/twk-main.js\"></script><script charset=\"UTF-8\" crossorigin=\"*\" src=\"https://embed.tawk.to/_s/v4/app/637ddf31c8f/js/twk-vendor.js\"></script><script charset=\"UTF-8\" crossorigin=\"*\" src=\"https://embed.tawk.to/_s/v4/app/637ddf31c8f/js/twk-chunk-vendors.js\"></script><script charset=\"UTF-8\" crossorigin=\"*\" src=\"https://embed.tawk.to/_s/v4/app/637ddf31c8f/js/twk-chunk-common.js\"></script><script charset=\"UTF-8\" crossorigin=\"*\" src=\"https://embed.tawk.to/_s/v4/app/637ddf31c8f/js/twk-runtime.js\"></script><script charset=\"UTF-8\" crossorigin=\"*\" src=\"https://embed.tawk.to/_s/v4/app/637ddf31c8f/js/twk-app.js\"></script><script src=\"https://pagead2.googlesyndication.com/pagead/managed/js/adsense/m202212060101/reactive_library_fy2021.js?bust=31071250\"></script><script src=\"https://partner.googleadservices.com/gampad/cookie.js?domain=yoshops.com&amp;callback=_gfp_s_&amp;client=ca-pub-2880440375789047&amp;gpid_exp=1\"></script><script id=\"google_shimpl\" src=\"https://pagead2.googlesyndication.com/pagead/managed/js/adsense/m202212060101/show_ads_impl_fy2021.js?bust=31071250\"></script><script async=\"\" src=\"https://cdn.ywxi.net/js/1.js\" type=\"text/javascript\"></script><script async=\"\" src=\"https://static.getbutton.io/widget-send-button/js/init.js\" type=\"text/javascript\"></script><script async=\"\" charset=\"UTF-8\" crossorigin=\"*\" src=\"https://embed.tawk.to/5a0424fc198bd56b8c03a242/default\"></script><script async=\"\" src=\"//www.google-analytics.com/analytics.js\"></script><script async=\"\" data-ad-client=\"ca-pub-2880440375789047\" data-checked-head=\"true\" src=\"https://pagead2.googlesyndication.com/pagead/js/adsbygoogle.js\"></script>\n",
       "<link href=\"https://nebula.wsimg.com/obj/RjE0MTAzNDhCNkMzQ0Y1MzE2ODc6OTE1NjYwNTk1ZjA2YmY2NmZkYTY5OWRhZjJjYTJiN2Y6Ojo6OjA=\" rel=\"shortcut icon\" type=\"image/x-icon\"/>\n",
       "<script type=\"text/javascript\">\n",
       "  var DeferredLoader = (function () {\n",
       "\n",
       "    function downloadJS(script) {\n",
       "      var element = document.createElement(\"script\");\n",
       "      element.src = script;\n",
       "      document.body.appendChild(element);\n",
       "    }\n",
       "\n",
       "    return {\n",
       "      addScript: function (script) {\n",
       "        var add = function () {\n",
       "          downloadJS(script);\n",
       "        };\n",
       "\n",
       "        if (window.addEventListener) {\n",
       "          window.addEventListener(\"load\", add, false);\n",
       "        } else if (window.attachEvent) {\n",
       "          window.attachEvent(\"onload\", add);\n",
       "        } else {\n",
       "          window.onload = add;\n",
       "        }\n",
       "      }\n",
       "    };\n",
       "  })();\n",
       "</script>\n",
       "<script type=\"text/javascript\">\n",
       "  window.currency = {\"symbol\":\"₹\",\"format\":\"%u%n\",\"with_currency\":false,\"currency\":\"INR\",\"decimal_mark\":\".\",\"thousands_separator\":\",\",\"precision\":2} || {};\n",
       "</script>\n",
       "<script async=\"\" charset=\"utf-8\" src=\"https://rec.smartlook.com/recorder.js\" type=\"text/javascript\"></script><meta content=\"Az6AfRvI8mo7yiW5fLfj04W21t0ig6aMsGYpIqMTaX60H+b0DkO1uDr+7BrzMcimWzv/X7SXR8jI+uvbV0IJlwYAAACFeyJvcmlnaW4iOiJodHRwczovL2RvdWJsZWNsaWNrLm5ldDo0NDMiLCJmZWF0dXJlIjoiUHJpdmFjeVNhbmRib3hBZHNBUElzIiwiZXhwaXJ5IjoxNjgwNjUyNzk5LCJpc1N1YmRvbWFpbiI6dHJ1ZSwiaXNUaGlyZFBhcnR5Ijp0cnVlfQ==\" http-equiv=\"origin-trial\"/><meta content=\"A+USTya+tNvDPaxUgJooz+LaVk5hPoAxpLvSxjogX4Mk8awCTQ9iop6zJ9d5ldgU7WmHqBlnQB41LHHRFxoaBwoAAACLeyJvcmlnaW4iOiJodHRwczovL2dvb2dsZXN5bmRpY2F0aW9uLmNvbTo0NDMiLCJmZWF0dXJlIjoiUHJpdmFjeVNhbmRib3hBZHNBUElzIiwiZXhwaXJ5IjoxNjgwNjUyNzk5LCJpc1N1YmRvbWFpbiI6dHJ1ZSwiaXNUaGlyZFBhcnR5Ijp0cnVlfQ==\" http-equiv=\"origin-trial\"/><meta content=\"A7FovoGr67TUBYbnY+Z0IKoJbbmRmB8fCyirUGHavNDtD91CiGyHHSA2hDG9r9T3NjUKFi6egL3RbgTwhhcVDwUAAACLeyJvcmlnaW4iOiJodHRwczovL2dvb2dsZXRhZ3NlcnZpY2VzLmNvbTo0NDMiLCJmZWF0dXJlIjoiUHJpdmFjeVNhbmRib3hBZHNBUElzIiwiZXhwaXJ5IjoxNjgwNjUyNzk5LCJpc1N1YmRvbWFpbiI6dHJ1ZSwiaXNUaGlyZFBhcnR5Ijp0cnVlfQ==\" http-equiv=\"origin-trial\"/><script src=\"https://rec.smartlook.com/es6/init.7171b9a4c8e511f032f0.js\" type=\"module\"></script><script nomodule=\"\" src=\"https://rec.smartlook.com/es5/init.c022d6610d58297d7c5a.js\"></script><script src=\"https://www.trustedsite.com/rpc/ajax?do=tmjs-visit&amp;host=yoshops.com&amp;rand=1672210764676\" type=\"text/javascript\"></script><link as=\"script\" href=\"https://adservice.google.co.in/adsid/integrator.js?domain=yoshops.com\" rel=\"preload\"/><script src=\"https://adservice.google.co.in/adsid/integrator.js?domain=yoshops.com\" type=\"text/javascript\"></script><link as=\"script\" href=\"https://adservice.google.com/adsid/integrator.js?domain=yoshops.com\" rel=\"preload\"/><script src=\"https://adservice.google.com/adsid/integrator.js?domain=yoshops.com\" type=\"text/javascript\"></script><style data-styled=\"active\" data-styled-version=\"5.1.1\"></style><link as=\"script\" href=\"https://adservice.google.co.in/adsid/integrator.js?domain=yoshops.com\" rel=\"preload\"/><script src=\"https://adservice.google.co.in/adsid/integrator.js?domain=yoshops.com\" type=\"text/javascript\"></script><link as=\"script\" href=\"https://adservice.google.com/adsid/integrator.js?domain=yoshops.com\" rel=\"preload\"/><script src=\"https://adservice.google.com/adsid/integrator.js?domain=yoshops.com\" type=\"text/javascript\"></script><link as=\"script\" href=\"https://adservice.google.co.in/adsid/integrator.js?domain=yoshops.com\" rel=\"preload\"/><script src=\"https://adservice.google.co.in/adsid/integrator.js?domain=yoshops.com\" type=\"text/javascript\"></script><link as=\"script\" href=\"https://adservice.google.com/adsid/integrator.js?domain=yoshops.com\" rel=\"preload\"/><script src=\"https://adservice.google.com/adsid/integrator.js?domain=yoshops.com\" type=\"text/javascript\"></script></head>\n",
       "<body aria-hidden=\"false\" class=\"page-home mcafee-enabled\" style=\"padding: 0px 0px 154px;\">\n",
       "<div class=\"top-bar\">\n",
       "<div class=\"container\">\n",
       "<nav class=\"navbar navbar-default\" role=\"navigation\">\n",
       "<div class=\"navbar-header\">\n",
       "<button class=\"navbar-toggle\" data-target=\"#main-nav\" data-toggle=\"collapse\" type=\"button\">\n",
       "<span class=\"sr-only\">Toggle navigation</span>\n",
       "<span class=\"icon-bar\"></span>\n",
       "<span class=\"icon-bar\"></span>\n",
       "<span class=\"icon-bar\"></span>\n",
       "</button>\n",
       "</div>\n",
       "<ul class=\"nav navbar-nav navbar-right\" id=\"cart-info\">\n",
       "<li>\n",
       "<a data-ga=\"checkout_click_cart\" href=\"/cart\">\n",
       "<span id=\"cart-count\">View Cart (0 Items)</span>\n",
       "</a>\n",
       "</li>\n",
       "<li id=\"checkout-link\" style=\"display:none\">\n",
       "<a data-ga=\"checkout_click_checkout\" href=\"/checkout\">\n",
       "        Checkout\n",
       "    </a>\n",
       "</li>\n",
       "</ul>\n",
       "<div class=\"collapse navbar-collapse\" id=\"main-nav\">\n",
       "<ul class=\"nav navbar-nav navbar-right\">\n",
       "<li class=\"dropdown\">\n",
       "<a class=\"dropdown-toggle\" data-toggle=\"dropdown\" href=\"/products\">SHOP <span class=\"caret\"></span></a>\n",
       "<ul class=\"dropdown-menu\" id=\"nav-cat-list\">\n",
       "<li class=\"view-all\"><a href=\"/products\">View All</a></li>\n",
       "<li class=\"divider\" role=\"presentation\"></li>\n",
       "<li>\n",
       "<a href=\"/t/toys\">Toys &amp; Games</a>\n",
       "</li>\n",
       "<li>\n",
       "<a href=\"/t/mobile-phones\">Mobiles</a>\n",
       "</li>\n",
       "<li>\n",
       "<a href=\"/t/laptops\">Laptops</a>\n",
       "</li>\n",
       "<li>\n",
       "<a href=\"/t/accessories\">Accessories</a>\n",
       "</li>\n",
       "<li>\n",
       "<a href=\"/t/electronics\">Electronics</a>\n",
       "</li>\n",
       "<li>\n",
       "<a href=\"/t/home--kitchen\">Home &amp; Kitchen</a>\n",
       "</li>\n",
       "<li>\n",
       "<a href=\"/t/fashion\">Fashion</a>\n",
       "</li>\n",
       "<li>\n",
       "<a href=\"/t/food\">Foods</a>\n",
       "</li>\n",
       "<li>\n",
       "<a href=\"/t/Services\">Services</a>\n",
       "</li>\n",
       "</ul>\n",
       "</li>\n",
       "<li class=\"\"><a href=\"/about\">ABOUT US</a></li>\n",
       "<li class=\"\"><a href=\"/contact\">CONTACT US</a></li>\n",
       "<li class=\"\"><a href=\"/p/staffing\">CAREERS</a></li>\n",
       "<li class=\"\"><a href=\"https://yoshops.com/products/franchise-cum-investment-program\">FRANCHISE</a></li>\n",
       "<li class=\"\"><a href=\"https://yoshops.com/products/yoshops-referral-gift\" target=\"_blank\">REFER &amp; EARN</a></li>\n",
       "<li class=\"\"><a href=\"/p/finance\">FINANCE</a></li>\n",
       "<li class=\"\"><a href=\"https://yoshops.aftership.com/\">TRACK Your ORDER</a></li>\n",
       "<li class=\"\"><a href=\"/p/return\">RETURN</a></li>\n",
       "<li class=\"active\"><a href=\"/\">HOME</a></li>\n",
       "</ul>\n",
       "</div>\n",
       "</nav>\n",
       "</div>\n",
       "</div>\n",
       "<div class=\"container\" style=\"height: auto !important;\">\n",
       "<div class=\"row brand\">\n",
       "<div class=\"col-sm-8\">\n",
       "<span class=\"logo\"><a href=\"/\"><img alt=\" Yoshops.com All Rights Reserved\" class=\"img-responsive\" src=\"https://isteam.wsimg.com/ip/a8efe83b-6857-477d-9d0f-f13ca0229a20/ols/4062_original/:/rs=w:400,h:400\"/></a></span>\n",
       "<span class=\"tagline\">UDYAM-TN-02-0163910</span>\n",
       "</div>\n",
       "<div class=\"col-sm-4\">\n",
       "<form action=\"/products\" class=\"search\" method=\"GET\" role=\"search\">\n",
       "<label class=\"sr-only\" for=\"search\">Search</label>\n",
       "<input class=\"form-control input-sm\" id=\"search\" name=\"keywords\" placeholder=\"Start your search here\" type=\"text\"/>\n",
       "<button class=\"btn-none\"><span class=\"glyphicon glyphicon-search\"></span></button>\n",
       "</form>\n",
       "</div>\n",
       "</div><div class=\"google-auto-placed\" style=\"width: 100%; height: auto; clear: both; text-align: center;\"><ins class=\"adsbygoogle adsbygoogle-noablate\" data-ad-client=\"ca-pub-2880440375789047\" data-ad-format=\"auto\" data-ad-status=\"filled\" data-adsbygoogle-status=\"done\" style=\"display: block; margin: 10px auto 20px; background-color: transparent; height: 280px;\"><div aria-label=\"Advertisement\" id=\"aswift_1_host\" style=\"border: none; height: 280px; width: 940px; margin: 0px; padding: 0px; position: relative; visibility: visible; background-color: transparent; display: inline-block; overflow: visible;\" tabindex=\"0\" title=\"Advertisement\"><iframe allowtransparency=\"true\" data-google-container-id=\"a!2\" data-google-query-id=\"CKzRxcXem_wCFcU3lgodIU8GWA\" data-load-complete=\"true\" frameborder=\"0\" height=\"280\" hspace=\"0\" id=\"aswift_1\" marginheight=\"0\" marginwidth=\"0\" name=\"aswift_1\" sandbox=\"allow-forms allow-popups allow-popups-to-escape-sandbox allow-same-origin allow-scripts allow-top-navigation-by-user-activation\" scrolling=\"no\" src=\"https://googleads.g.doubleclick.net/pagead/ads?client=ca-pub-2880440375789047&amp;output=html&amp;h=280&amp;adk=3414408528&amp;adf=3215562993&amp;pi=t.aa~a.2811506910~rp.4&amp;w=940&amp;fwrn=4&amp;fwrnh=100&amp;lmt=1672210766&amp;rafmt=1&amp;to=qs&amp;pwprc=7790077290&amp;format=940x280&amp;url=https%3A%2F%2Fyoshops.com%2F&amp;fwr=0&amp;pra=3&amp;rpe=1&amp;resp_fmts=3&amp;wgl=1&amp;fa=40&amp;uach=WyJXaW5kb3dzIiwiMTUuMC4wIiwieDg2IiwiIiwiMTA4LjAuNTM1OS4xMjUiLFtdLGZhbHNlLG51bGwsIjY0IixbWyJOb3Q_QV9CcmFuZCIsIjguMC4wLjAiXSxbIkNocm9taXVtIiwiMTA4LjAuNTM1OS4xMjUiXSxbIkdvb2dsZSBDaHJvbWUiLCIxMDguMC41MzU5LjEyNSJdXSxmYWxzZV0.&amp;dt=1672210762662&amp;bpp=2&amp;bdt=1655&amp;idt=3444&amp;shv=r20221207&amp;mjsv=m202212060101&amp;ptt=9&amp;saldr=aa&amp;abxe=1&amp;prev_fmts=0x0&amp;nras=2&amp;correlator=647289135584&amp;frm=20&amp;pv=1&amp;ga_vid=1623000220.1672210763&amp;ga_sid=1672210766&amp;ga_hid=521732998&amp;ga_fc=1&amp;u_tz=330&amp;u_his=2&amp;u_h=864&amp;u_w=1536&amp;u_ah=816&amp;u_aw=1536&amp;u_cd=24&amp;u_sd=1.25&amp;dmc=8&amp;adx=40&amp;ady=277&amp;biw=1019&amp;bih=666&amp;scr_x=0&amp;scr_y=0&amp;eid=44759875%2C44759926%2C44759842%2C44767166%2C31071250%2C31071259%2C44779793%2C44780792&amp;oid=2&amp;pvsid=1463608547480230&amp;tmod=33283051&amp;uas=0&amp;nvt=1&amp;eae=0&amp;fc=1920&amp;brdim=9%2C9%2C9%2C9%2C1536%2C0%2C1051%2C798%2C1036%2C666&amp;vis=1&amp;rsz=%7C%7Cs%7C&amp;abl=NS&amp;fu=128&amp;bc=31&amp;ifi=2&amp;uci=a!2&amp;fsb=1&amp;xpc=Vb4VNBxrhb&amp;p=https%3A//yoshops.com&amp;dtd=3447\" style=\"left:0;position:absolute;top:0;border:0;width:940px;height:280px;\" vspace=\"0\" width=\"940\"></iframe></div></ins></div>\n",
       "<ul class=\"nav category-bar\">\n",
       "<li class=\"dropdown\">\n",
       "<a href=\"/t/toys\">Toys &amp; Games <span class=\"caret\"></span></a>\n",
       "<ul class=\"dropdown-menu\">\n",
       "<li>\n",
       "<a href=\"/t/playstation\">PlayStation</a>\n",
       "</li>\n",
       "<li>\n",
       "<a href=\"/t/drones\">Drones</a>\n",
       "</li>\n",
       "<li>\n",
       "<a href=\"/t/rc-helicopter\">RC Toys</a>\n",
       "</li>\n",
       "<li>\n",
       "<a href=\"/t/soft-toys\">Soft Toys</a>\n",
       "</li>\n",
       "<li>\n",
       "<a href=\"/t/gaming-accessories\">Gaming Accessories</a>\n",
       "</li>\n",
       "</ul>\n",
       "</li>\n",
       "<li class=\"dropdown\">\n",
       "<a href=\"/t/mobile-phones\">Mobiles <span class=\"caret\"></span></a>\n",
       "<ul class=\"dropdown-menu\">\n",
       "<li>\n",
       "<a href=\"/t/smartphones\">Smartphones</a>\n",
       "</li>\n",
       "<li>\n",
       "<a href=\"/t/headphones\">Headphones</a>\n",
       "</li>\n",
       "<li>\n",
       "<a href=\"/t/mobiles-accessories\">Mobiles Accessories</a>\n",
       "</li>\n",
       "<li>\n",
       "<a href=\"/t/basic-keypad-phone\">Feature Keypad Mobiles</a>\n",
       "</li>\n",
       "</ul>\n",
       "</li>\n",
       "<li class=\"dropdown\">\n",
       "<a href=\"/t/laptops\">Laptops <span class=\"caret\"></span></a>\n",
       "<ul class=\"dropdown-menu\">\n",
       "<li>\n",
       "<a href=\"/t/gaming-laptops\">Gaming Laptops</a>\n",
       "</li>\n",
       "<li>\n",
       "<a href=\"/t/personal-laptops\">Personal Laptops</a>\n",
       "</li>\n",
       "<li>\n",
       "<a href=\"/t/tablets\">Tablets</a>\n",
       "</li>\n",
       "<li>\n",
       "<a href=\"/t/laptop-accessories\">Laptop Accessories</a>\n",
       "</li>\n",
       "<li>\n",
       "<a href=\"/t/computers-accessories\">Computers Accessories</a>\n",
       "</li>\n",
       "</ul>\n",
       "</li>\n",
       "<li class=\"dropdown\">\n",
       "<a href=\"/t/accessories\">Accessories <span class=\"caret\"></span></a>\n",
       "<ul class=\"dropdown-menu\">\n",
       "<li>\n",
       "<a href=\"/t/books\">Books</a>\n",
       "</li>\n",
       "<li>\n",
       "<a href=\"/t/stationery\">Stationery</a>\n",
       "</li>\n",
       "<li>\n",
       "<a href=\"/t/books--bags\">Bags</a>\n",
       "</li>\n",
       "<li>\n",
       "<a href=\"/t/grocery\">SpareParts</a>\n",
       "<ul>\n",
       "<li>\n",
       "<a href=\"/t/bike\">Auto spare parts</a>\n",
       "</li>\n",
       "<li>\n",
       "<a href=\"/t/Mobile-Parts\">Mobile Spare Parts</a>\n",
       "</li>\n",
       "<li>\n",
       "<a href=\"/t/Laptop-spare-parts\">Laptop spare parts</a>\n",
       "</li>\n",
       "</ul>\n",
       "</li>\n",
       "<li>\n",
       "<a href=\"/t/more\">More</a>\n",
       "</li>\n",
       "</ul>\n",
       "</li>\n",
       "<li class=\"dropdown\">\n",
       "<a href=\"/t/electronics\">Electronics <span class=\"caret\"></span></a>\n",
       "<ul class=\"dropdown-menu\">\n",
       "<li>\n",
       "<a href=\"/t/led-tv\">Led TV</a>\n",
       "</li>\n",
       "<li>\n",
       "<a href=\"/t/jewelry--watches\">Others</a>\n",
       "</li>\n",
       "</ul>\n",
       "</li>\n",
       "<li class=\"dropdown\">\n",
       "<a href=\"/t/home--kitchen\">Home &amp; Kitchen <span class=\"caret\"></span></a>\n",
       "<ul class=\"dropdown-menu\">\n",
       "<li>\n",
       "<a href=\"/t/irons\">Irons</a>\n",
       "</li>\n",
       "<li>\n",
       "<a href=\"/t/mixer-grinder-juicer\">Mixer Grinder Juicer</a>\n",
       "</li>\n",
       "</ul>\n",
       "</li>\n",
       "<li class=\"dropdown\">\n",
       "<a href=\"/t/fashion\">Fashion <span class=\"caret\"></span></a>\n",
       "<ul class=\"dropdown-menu\">\n",
       "<li>\n",
       "<a href=\"/t/men\">Men</a>\n",
       "<ul>\n",
       "<li>\n",
       "<a href=\"/t/men-clothing\">Men Clothing</a>\n",
       "</li>\n",
       "<li>\n",
       "<a href=\"/t/sunglasses\">Sunglasses</a>\n",
       "</li>\n",
       "<li>\n",
       "<a href=\"/t/watches\">Watches</a>\n",
       "</li>\n",
       "<li>\n",
       "<a href=\"/t/mens-footwear\">Men's Footwear</a>\n",
       "</li>\n",
       "</ul>\n",
       "</li>\n",
       "<li>\n",
       "<a href=\"/t/womens\">Womens</a>\n",
       "<ul>\n",
       "<li>\n",
       "<a href=\"/t/women-clothing\">Women Clothing</a>\n",
       "</li>\n",
       "<li>\n",
       "<a href=\"/t/face-makeup\">Face Makeup</a>\n",
       "</li>\n",
       "<li>\n",
       "<a href=\"/t/personal-care\">Personal Care</a>\n",
       "</li>\n",
       "</ul>\n",
       "</li>\n",
       "<li>\n",
       "<a href=\"/t/kids\">Kids</a>\n",
       "<ul>\n",
       "<li>\n",
       "<a href=\"/t/kids-clothing\">Kids Clothing</a>\n",
       "</li>\n",
       "<li>\n",
       "<a href=\"/t/shoes\">Shoes</a>\n",
       "</li>\n",
       "</ul>\n",
       "</li>\n",
       "</ul>\n",
       "</li>\n",
       "<li class=\"dropdown\">\n",
       "<a href=\"/t/food\">Foods <span class=\"caret\"></span></a>\n",
       "<ul class=\"dropdown-menu\">\n",
       "<li>\n",
       "<a href=\"/t/organic\">Organic foods</a>\n",
       "</li>\n",
       "<li>\n",
       "<a href=\"/t/vegetable\">Vegetable</a>\n",
       "</li>\n",
       "<li>\n",
       "<a href=\"/t/non-veg\">Non Veg</a>\n",
       "</li>\n",
       "<li>\n",
       "<a href=\"/t/seafood\">Seafood</a>\n",
       "</li>\n",
       "<li>\n",
       "<a href=\"/t/biryani\">Biryani</a>\n",
       "</li>\n",
       "</ul>\n",
       "</li>\n",
       "<li class=\"dropdown\">\n",
       "<a href=\"/t/Services\">Services <span class=\"caret\"></span></a>\n",
       "<ul class=\"dropdown-menu\">\n",
       "<li>\n",
       "<a href=\"/t/tuition\">Online Live Tuition</a>\n",
       "</li>\n",
       "<li>\n",
       "<a href=\"/t/internship\">Training Internship Work From Home</a>\n",
       "</li>\n",
       "<li>\n",
       "<a href=\"/t/pcd-pharma-distributor\">Yoga Pharma Franchise</a>\n",
       "</li>\n",
       "<li>\n",
       "<a href=\"/t/sponsorship-marketing\">Sponsorship Marketing</a>\n",
       "<ul>\n",
       "<li>\n",
       "<a href=\"/t/teacher-sponsorship\">Teacher Sponsorship</a>\n",
       "</li>\n",
       "<li>\n",
       "<a href=\"/t/blog-sponsorship\">Blog Sponsorship</a>\n",
       "</li>\n",
       "<li>\n",
       "<a href=\"/t/instagram-sponsorship\">Instagram Sponsorship</a>\n",
       "</li>\n",
       "<li>\n",
       "<a href=\"/t/youtuber-sponsorship\">YouTube Sponsorship</a>\n",
       "</li>\n",
       "</ul>\n",
       "</li>\n",
       "<li>\n",
       "<a href=\"/t/refurbished-and-used-laptop-phone\">Refurbish Laptop Mobiles</a>\n",
       "</li>\n",
       "<li>\n",
       "<a href=\"/t/bengaluru\">Bengaluru</a>\n",
       "</li>\n",
       "<li>\n",
       "<a href=\"/t/chennai\">Chennai</a>\n",
       "</li>\n",
       "<li>\n",
       "<a href=\"/t/mumbai\">Mumbai</a>\n",
       "</li>\n",
       "</ul>\n",
       "</li>\n",
       "</ul>\n",
       "<div class=\"content\" style=\"height: auto !important; min-height: 0px !important;\">\n",
       "<div class=\"row\">\n",
       "<div class=\"col-sm-12\">\n",
       "<div class=\"hero\">\n",
       "<div id=\"slider-ph\" style=\"display: none;\"></div>\n",
       "<div class=\"bx-wrapper\" style=\"max-width: 100%;\"><div class=\"bx-viewport\" style=\"width: 100%; overflow: hidden; position: relative; height: 313px;\"><ul class=\"bxslider slider\" style=\"width: auto; position: relative;\">\n",
       "<li style=\"float: none; list-style: none; position: absolute; width: 940px; z-index: 50; display: block;\">\n",
       "<a href=\"https://www.paytmmoney.com/open-demat-trading-account?onelink=https://paytmmoney.onelink.me/9L59/752c12a4\">\n",
       "<div class=\"image-wrapper\">\n",
       "<img class=\"hero-img\" data-hook=\"image\" src=\"https://isteam.wsimg.com/ip/a8efe83b-6857-477d-9d0f-f13ca0229a20/ols/4090_original/:/cr=t:30.400000000000002,l:0,w:1024,h:340.8/rs=w:1200,h:1200\"/>\n",
       "</div>\n",
       "<div class=\"hero-text-position\">\n",
       "<div class=\"hero-text-table\">\n",
       "<div class=\"hero-text-cell\">\n",
       "<div class=\"hero-overlay\">\n",
       "<div class=\"hero-text\" data-empty-hide=\"overlay_text\" data-hook=\"overlay_text\" id=\"hero-text\" style=\"display:none\"></div>\n",
       "<div class=\"hero-button\" data-empty-hide=\"button_text\">\n",
       "<button class=\"btn btn-primary\" data-hook=\"button_text\" id=\"hero-button\">OPEN NOW</button>\n",
       "</div>\n",
       "</div>\n",
       "</div>\n",
       "</div>\n",
       "</div>\n",
       "</a>\n",
       "</li>\n",
       "<li style=\"float: none; list-style: none; position: absolute; width: 940px; z-index: 0; display: none;\">\n",
       "<a href=\"https://yoshops.com/t/internship\">\n",
       "<div class=\"image-wrapper\">\n",
       "<img class=\"hero-img\" data-hook=\"image\" src=\"https://isteam.wsimg.com/ip/a8efe83b-6857-477d-9d0f-f13ca0229a20/ols/4092_original/:/cr=t:0,l:0,w:860,h:286.21875/rs=w:1200,h:1200\"/>\n",
       "</div>\n",
       "<div class=\"hero-text-position\">\n",
       "<div class=\"hero-text-table\">\n",
       "<div class=\"hero-text-cell\">\n",
       "<div class=\"hero-overlay\">\n",
       "<div class=\"hero-text\" data-empty-hide=\"overlay_text\" data-hook=\"overlay_text\" id=\"hero-text\" style=\"display:none\"></div>\n",
       "<div class=\"hero-button\" data-empty-hide=\"button_text\">\n",
       "<button class=\"btn btn-primary\" data-hook=\"button_text\" id=\"hero-button\">Apply Now</button>\n",
       "</div>\n",
       "</div>\n",
       "</div>\n",
       "</div>\n",
       "</div>\n",
       "</a>\n",
       "</li>\n",
       "<li style=\"float: none; list-style: none; position: absolute; width: 940px; z-index: 0; display: none;\">\n",
       "<a href=\"https://upstox.com/open-account/?f=ND0V\">\n",
       "<div class=\"image-wrapper\">\n",
       "<img class=\"hero-img\" data-hook=\"image\" src=\"https://isteam.wsimg.com/ip/a8efe83b-6857-477d-9d0f-f13ca0229a20/ols/3253_original/:/cr=t:21.196875000000002,l:0,w:714,h:237.628125/rs=w:1200,h:1200\"/>\n",
       "</div>\n",
       "<div class=\"hero-text-position\">\n",
       "<div class=\"hero-text-table\">\n",
       "<div class=\"hero-text-cell\">\n",
       "<div class=\"hero-overlay\">\n",
       "<div class=\"hero-text\" data-empty-hide=\"overlay_text\" data-hook=\"overlay_text\" id=\"hero-text\" style=\"display:none\"></div>\n",
       "<div class=\"hero-button\" data-empty-hide=\"button_text\">\n",
       "<button class=\"btn btn-primary\" data-hook=\"button_text\" id=\"hero-button\">OPEN NOW</button>\n",
       "</div>\n",
       "</div>\n",
       "</div>\n",
       "</div>\n",
       "</div>\n",
       "</a>\n",
       "</li>\n",
       "<li style=\"float: none; list-style: none; position: absolute; width: 940px; z-index: 0; display: none;\">\n",
       "<a href=\"/products/\">\n",
       "<div class=\"image-wrapper\">\n",
       "<img class=\"hero-img\" data-hook=\"image\" src=\"https://isteam.wsimg.com/ip/a8efe83b-6857-477d-9d0f-f13ca0229a20/ols/1785_original/:/cr=t:8.45121951219512,l:0,w:504,h:168.25609756097558/rs=w:1200,h:1200\"/>\n",
       "</div>\n",
       "<div class=\"hero-text-position\">\n",
       "<div class=\"hero-text-table\">\n",
       "<div class=\"hero-text-cell\">\n",
       "<div class=\"hero-overlay\">\n",
       "<div class=\"hero-text\" data-empty-hide=\"overlay_text\" data-hook=\"overlay_text\" id=\"hero-text\" style=\"display:none\"></div>\n",
       "<div class=\"hero-button\" data-empty-hide=\"button_text\">\n",
       "<button class=\"btn btn-primary\" data-hook=\"button_text\" id=\"hero-button\">SHOP NOW</button>\n",
       "</div>\n",
       "</div>\n",
       "</div>\n",
       "</div>\n",
       "</div>\n",
       "</a>\n",
       "</li>\n",
       "</ul></div><div class=\"bx-controls bx-has-pager\"><div class=\"bx-pager bx-default-pager\"><div class=\"bx-pager-item\"><a class=\"bx-pager-link active\" data-slide-index=\"0\" href=\"\">1</a></div><div class=\"bx-pager-item\"><a class=\"bx-pager-link\" data-slide-index=\"1\" href=\"\">2</a></div><div class=\"bx-pager-item\"><a class=\"bx-pager-link\" data-slide-index=\"2\" href=\"\">3</a></div><div class=\"bx-pager-item\"><a class=\"bx-pager-link\" data-slide-index=\"3\" href=\"\">4</a></div></div></div></div>\n",
       "</div>\n",
       "</div>\n",
       "</div>\n",
       "<div class=\"products featured-products\" style=\"height: auto !important;\">\n",
       "<div class=\"row products-title\">\n",
       "<div class=\"col-sm-12\">\n",
       "<h2><span>Featured Products</span></h2>\n",
       "</div>\n",
       "</div>\n",
       "<div class=\"row\" style=\"height: auto !important;\">\n",
       "<div class=\"col-sm-3 col-xs-6\">\n",
       "<div class=\"product\">\n",
       "<a class=\"product-link\" href=\"/products/jiobook-laptop-29-46-cm-11-6-inch-1-2-kg-nb2112qb-jioos-octa-core-lte-2gb-lpddr4x-32gb-emmc-hd\">\n",
       "<div class=\"product-thumb\">\n",
       "<div class=\"product-thumb-inner\">\n",
       "<img alt=\"JioBook Laptop 29.46 cm (11.6 inch) 1.2 Kg With Free HRX Men Orange Printed Cotton T-shirt\" src=\"https://isteam.wsimg.com/ip/a8efe83b-6857-477d-9d0f-f13ca0229a20/ols/4132_original/:/rs=w:600,h:600\"/>\n",
       "</div>\n",
       "</div>\n",
       "<span class=\"product-title\" href=\"/products/jiobook-laptop-29-46-cm-11-6-inch-1-2-kg-nb2112qb-jioos-octa-core-lte-2gb-lpddr4x-32gb-emmc-hd\">JioBook Laptop 29.46 cm (11.6 inch) 1.2 Kg With Free HRX Men Orange Printed Cotton T-shirt</span>\n",
       "</a>\n",
       "<div class=\"product-price\" data-on-sale=\"true\"><span><span class=\"rupee\">₹</span>35,605.00</span><span><span class=\"rupee\">₹</span>16,779.00</span></div>\n",
       "<div class=\"free-shipping\">\n",
       "<div class=\"ship-table\">\n",
       "<svg enable-background=\"new 6.943 12.685 20 14\" id=\"Layer_1\" version=\"1.1\" viewbox=\"6.943 12.685 20 14\" x=\"0px\" xml:space=\"preserve\" xmlns=\"http://www.w3.org/2000/svg\" xmlns:xlink=\"http://www.w3.org/1999/xlink\" y=\"0px\">\n",
       "<path d=\"M39.451,34.034c0,2.032-1.578,3.61-3.611,3.61s-3.611-1.578-3.611-3.61\n",
       "      s1.578-3.611,3.611-3.611S39.451,32.002,39.451,34.034z M35.612,32.002c-1.13,0-1.806,0.902-1.806,1.805s0.902,1.806,1.806,1.806\n",
       "      c1.13,0,1.806-0.903,1.806-1.806S36.742,32.002,35.612,32.002z\" display=\"none\"></path>\n",
       "<rect display=\"none\" height=\"15.581\" width=\"20.322\" x=\"6.938\" y=\"13.03\"></rect>\n",
       "<path d=\"M17.999,33.58c0,2.032-1.578,3.61-3.611,3.61s-3.611-1.578-3.611-3.61\n",
       "      c0-2.033,1.579-3.611,3.611-3.611S17.999,31.547,17.999,33.58z M14.388,31.773c-1.13,0-1.806,0.903-1.806,1.807\n",
       "      c0,0.902,0.903,1.805,1.806,1.805s1.806-0.902,1.806-1.805C16.193,32.677,15.291,31.773,14.388,31.773z\" display=\"none\"></path>\n",
       "<path d=\"M28.384,34.255V19.356V17.55h8.358c0,0,6.32,0.455,6.32,6.32v8.579l-1.357,1.578h-0.903\n",
       "      c0,0,0.454-5.644-5.417-5.644c0,0-5.195-0.228-5.195,5.644h-1.806V34.255z M37.19,19.804c-2.708,0-4.065,0-4.065,0v3.384h5.645\n",
       "      h1.805C40.581,23.194,39.678,19.804,37.19,19.804z\" display=\"none\"></path>\n",
       "<path d=\"M6.938,29.969h3.611c0,0-1.806,1.805-1.578,4.293H6.938V29.969z\" display=\"none\"></path>\n",
       "<path d=\"M27.26,29.969h-9.034c0,0,1.806,1.805,1.578,4.293h7.45v-4.293H27.26z\" display=\"none\"></path>\n",
       "<path d=\"M10.976,22.635c1.119,0,2.025,0.907,2.025,2.026c0,1.119-0.906,2.025-2.025,2.025c-1.118,0-2.029-0.902-2.029-2.025\n",
       "      C8.946,23.542,9.857,22.635,10.976,22.635z M9.927,24.661c0,0.578,0.468,1.048,1.049,1.048c0.582,0,1.049-0.466,1.049-1.048\n",
       "      c0-0.578-0.468-1.05-1.049-1.05C10.395,23.611,9.927,24.083,9.927,24.661z\"></path>\n",
       "<rect height=\"8.974\" width=\"11.24\" x=\"15.703\" y=\"12.685\"></rect>\n",
       "<path d=\"M22.857,22.635c1.119,0,2.026,0.907,2.026,2.026c0,1.119-0.907,2.025-2.026,2.025c-1.118,0-2.026-0.906-2.026-2.025\n",
       "      C20.832,23.542,21.739,22.635,22.857,22.635z M21.808,24.661c0,0.577,0.467,1.048,1.049,1.048c0.577,0,1.05-0.468,1.05-1.048\n",
       "      c0-0.581-0.469-1.05-1.05-1.05C22.279,23.611,21.808,24.08,21.808,24.661z\"></path>\n",
       "<path d=\"M13.956,24.813c0-3.235-2.863-3.155-2.863-3.155c-3.294,0-2.979,3.155-2.979,3.155H7.682l-0.738-0.936v-4.77\n",
       "      c0-3.254,3.469-3.565,3.469-3.565h4.6v0.995v8.28h-1.057V24.813z M8.318,18.658h0.955h3.155v-1.89c0,0-0.684,0-2.219,0\n",
       "      C8.727,16.771,8.318,18.658,8.318,18.658z\"></path>\n",
       "<path d=\"M26.943,22.416h-1.959c0,0,1.032,1.005,0.853,2.409h1.106V22.416z\"></path>\n",
       "<path d=\"M15.703,22.416h5.009c0,0-1.032,1.005-0.852,2.409h-4.157V22.416z\"></path>\n",
       "</svg>\n",
       "<span>Free Shipping!</span>\n",
       "</div>\n",
       "</div>\n",
       "<div class=\"review-wrapper\">\n",
       "<div class=\"single-product-review\">\n",
       "<div class=\"yotpo bottomLine\" data-appkey=\"blvTZfFxLLY4ORJETmn8JsqzVHfudrJxLDPnwDXb\" data-domain=\"https://yoshops.com\" data-image-url=\"https%3A%2F%2Fisteam.wsimg.com%2Fip%2Fa8efe83b-6857-477d-9d0f-f13ca0229a20%2Fols%2F4132_original%2F%3A%2Frs%3Dw%3A600%2Ch%3A600\" data-name=\"JioBook Laptop 29.46 cm (11.6 inch) 1.2 Kg With Free HRX Men Orange Printed Cotton T-shirt\" data-product-id=\"582\" data-url=\"https%3A%2F%2Fyoshops.com%2Fproducts%2Fjiobook-laptop-29-46-cm-11-6-inch-1-2-kg-nb2112qb-jioos-octa-core-lte-2gb-lpddr4x-32gb-emmc-hd\" style=\"display:inline-block; width:auto;\">\n",
       "</div>\n",
       "</div>\n",
       "</div>\n",
       "</div>\n",
       "</div>\n",
       "<div class=\"col-sm-3 col-xs-6\">\n",
       "<div class=\"product\">\n",
       "<a class=\"product-link\" href=\"/products/jiophone-smartphone-next-32-gb-2-gb-ram-black\">\n",
       "<div class=\"product-thumb\">\n",
       "<div class=\"product-thumb-inner\">\n",
       "<img alt=\"JioPhone Smartphone Next 32 GB, 2 GB RAM, Black\" src=\"https://isteam.wsimg.com/ip/a8efe83b-6857-477d-9d0f-f13ca0229a20/ols/4032_original/:/rs=w:600,h:600\"/>\n",
       "</div>\n",
       "</div>\n",
       "<span class=\"product-title\" href=\"/products/jiophone-smartphone-next-32-gb-2-gb-ram-black\">JioPhone Smartphone Next 32 GB, 2 GB RAM, Black</span>\n",
       "</a>\n",
       "<div class=\"product-price\" data-on-sale=\"true\"><span><span class=\"rupee\">₹</span>8,500.00</span><span><span class=\"rupee\">₹</span>6,499.00</span></div>\n",
       "<div class=\"review-wrapper\">\n",
       "<div class=\"single-product-review\">\n",
       "<div class=\"yotpo bottomLine\" data-appkey=\"blvTZfFxLLY4ORJETmn8JsqzVHfudrJxLDPnwDXb\" data-domain=\"https://yoshops.com\" data-image-url=\"https%3A%2F%2Fisteam.wsimg.com%2Fip%2Fa8efe83b-6857-477d-9d0f-f13ca0229a20%2Fols%2F4032_original%2F%3A%2Frs%3Dw%3A600%2Ch%3A600\" data-name=\"JioPhone Smartphone Next 32 GB, 2 GB RAM, Black\" data-product-id=\"573\" data-url=\"https%3A%2F%2Fyoshops.com%2Fproducts%2Fjiophone-smartphone-next-32-gb-2-gb-ram-black\" style=\"display:inline-block; width:auto;\">\n",
       "</div>\n",
       "</div>\n",
       "</div>\n",
       "</div>\n",
       "</div>\n",
       "<div class=\"col-sm-3 col-xs-6\" style=\"height: auto !important; min-height: 0px !important;\">\n",
       "<div class=\"product\">\n",
       "<a class=\"product-link\" href=\"/products/machine-learning-training-internship-program-with-free-gift-jiobook-laptop\">\n",
       "<div class=\"product-thumb\">\n",
       "<div class=\"product-thumb-inner\">\n",
       "<img alt=\"Machine learning Training Internship Program with Free Gift JioBook Laptop\" src=\"https://isteam.wsimg.com/ip/a8efe83b-6857-477d-9d0f-f13ca0229a20/ols/4117_original/:/rs=w:600,h:600\"/>\n",
       "</div>\n",
       "</div>\n",
       "<span class=\"product-title\" href=\"/products/machine-learning-training-internship-program-with-free-gift-jiobook-laptop\">Machine learning Training Internship Program with Free Gift JioBook Laptop</span>\n",
       "</a>\n",
       "<div class=\"product-price\" data-on-sale=\"true\"><span><span class=\"rupee\">₹</span>34,985.00</span><span><span class=\"rupee\">₹</span>19,999.00</span></div>\n",
       "<div class=\"review-wrapper\">\n",
       "<div class=\"single-product-review\">\n",
       "<div class=\"yotpo bottomLine\" data-appkey=\"blvTZfFxLLY4ORJETmn8JsqzVHfudrJxLDPnwDXb\" data-domain=\"https://yoshops.com\" data-image-url=\"https%3A%2F%2Fisteam.wsimg.com%2Fip%2Fa8efe83b-6857-477d-9d0f-f13ca0229a20%2Fols%2F4117_original%2F%3A%2Frs%3Dw%3A600%2Ch%3A600\" data-name=\"Machine learning Training Internship Program with Free Gift JioBook Laptop\" data-product-id=\"450\" data-url=\"https%3A%2F%2Fyoshops.com%2Fproducts%2Fmachine-learning-training-internship-program-with-free-gift-jiobook-laptop\" style=\"display:inline-block; width:auto;\">\n",
       "</div>\n",
       "</div>\n",
       "</div>\n",
       "</div><div class=\"google-auto-placed\" style=\"width: 100%; height: auto; clear: none; text-align: center;\"><ins class=\"adsbygoogle adsbygoogle-noablate\" data-ad-client=\"ca-pub-2880440375789047\" data-ad-format=\"auto\" data-ad-status=\"filled\" data-adsbygoogle-status=\"done\" style=\"display: block; margin: 10px auto 30px; background-color: transparent; height: 600px;\"><div aria-label=\"Advertisement\" id=\"aswift_2_host\" style=\"border: none; height: 600px; width: 213px; margin: 0px; padding: 0px; position: relative; visibility: visible; background-color: transparent; display: inline-block; overflow: visible;\" tabindex=\"0\" title=\"Advertisement\"><iframe allowtransparency=\"true\" data-google-container-id=\"a!3\" data-google-query-id=\"CNrS88Xem_wCFdq8lgod83MLhQ\" data-load-complete=\"true\" frameborder=\"0\" height=\"600\" hspace=\"0\" id=\"aswift_2\" marginheight=\"0\" marginwidth=\"0\" name=\"aswift_2\" sandbox=\"allow-forms allow-popups allow-popups-to-escape-sandbox allow-same-origin allow-scripts allow-top-navigation-by-user-activation\" scrolling=\"no\" src=\"https://googleads.g.doubleclick.net/pagead/ads?client=ca-pub-2880440375789047&amp;output=html&amp;h=600&amp;adk=627465605&amp;adf=2826769062&amp;pi=t.aa~a.739199768~rp.4&amp;w=213&amp;fwrn=4&amp;fwrnh=100&amp;lmt=1672210766&amp;rafmt=1&amp;to=qs&amp;pwprc=7790077290&amp;format=213x600&amp;url=https%3A%2F%2Fyoshops.com%2F&amp;fwr=0&amp;pra=3&amp;rpe=1&amp;resp_fmts=4&amp;wgl=1&amp;fa=40&amp;uach=WyJXaW5kb3dzIiwiMTUuMC4wIiwieDg2IiwiIiwiMTA4LjAuNTM1OS4xMjUiLFtdLGZhbHNlLG51bGwsIjY0IixbWyJOb3Q_QV9CcmFuZCIsIjguMC4wLjAiXSxbIkNocm9taXVtIiwiMTA4LjAuNTM1OS4xMjUiXSxbIkdvb2dsZSBDaHJvbWUiLCIxMDguMC41MzU5LjEyNSJdXSxmYWxzZV0.&amp;dt=1672210766937&amp;bpp=1&amp;bdt=5930&amp;idt=-M&amp;shv=r20221207&amp;mjsv=m202212060101&amp;ptt=9&amp;saldr=aa&amp;abxe=1&amp;cookie=ID%3De091543b0da4db15-22bb2c580ed900d9%3AT%3D1672210765%3ART%3D1672210765%3AS%3DALNI_MYmkswKUFYJ5cqmtY6jlMQrnAYczA&amp;gpic=UID%3D00000b98d5d09374%3AT%3D1672210765%3ART%3D1672210765%3AS%3DALNI_MYVPKltU82o2N-u2FegNK6lIlkuYQ&amp;prev_fmts=0x0%2C940x280&amp;nras=3&amp;correlator=647289135584&amp;frm=20&amp;pv=1&amp;ga_vid=1623000220.1672210763&amp;ga_sid=1672210766&amp;ga_hid=521732998&amp;ga_fc=1&amp;u_tz=330&amp;u_his=2&amp;u_h=864&amp;u_w=1536&amp;u_ah=816&amp;u_aw=1536&amp;u_cd=24&amp;u_sd=1.25&amp;dmc=8&amp;adx=525&amp;ady=1447&amp;biw=1019&amp;bih=666&amp;scr_x=0&amp;scr_y=0&amp;eid=44759875%2C44759926%2C44759842%2C44767166%2C31071250%2C31071259%2C44779793%2C44780792&amp;oid=2&amp;pvsid=1463608547480230&amp;tmod=33283051&amp;uas=0&amp;nvt=1&amp;eae=0&amp;fc=1920&amp;brdim=9%2C9%2C9%2C9%2C1536%2C0%2C1051%2C798%2C1036%2C666&amp;vis=1&amp;rsz=%7C%7Cs%7C&amp;abl=NS&amp;fu=128&amp;bc=31&amp;ifi=3&amp;uci=a!3&amp;btvi=1&amp;fsb=1&amp;xpc=IiBDHTzhTU&amp;p=https%3A//yoshops.com&amp;dtd=11\" style=\"left:0;position:absolute;top:0;border:0;width:213px;height:600px;\" vspace=\"0\" width=\"213\"></iframe></div></ins></div>\n",
       "</div>\n",
       "<div class=\"col-sm-3 col-xs-6\">\n",
       "<div class=\"product\">\n",
       "<a class=\"product-link\" href=\"/products/data-science-internship-training-program-with-free-gift-jiobook-laptop\">\n",
       "<div class=\"product-thumb\">\n",
       "<div class=\"product-thumb-inner\">\n",
       "<img alt=\"Data Science Training Internship Program with Free Gift JioBook Laptop\" src=\"https://isteam.wsimg.com/ip/a8efe83b-6857-477d-9d0f-f13ca0229a20/ols/4135_original/:/rs=w:600,h:600\"/>\n",
       "</div>\n",
       "</div>\n",
       "<span class=\"product-title\" href=\"/products/data-science-internship-training-program-with-free-gift-jiobook-laptop\">Data Science Training Internship Program with Free Gift JioBook Laptop</span>\n",
       "</a>\n",
       "<div class=\"product-price\" data-on-sale=\"true\"><span><span class=\"rupee\">₹</span>25,000.00</span><span><span class=\"rupee\">₹</span>19,999.00</span></div>\n",
       "<div class=\"review-wrapper\">\n",
       "<div class=\"single-product-review\">\n",
       "<div class=\"yotpo bottomLine\" data-appkey=\"blvTZfFxLLY4ORJETmn8JsqzVHfudrJxLDPnwDXb\" data-domain=\"https://yoshops.com\" data-image-url=\"https%3A%2F%2Fisteam.wsimg.com%2Fip%2Fa8efe83b-6857-477d-9d0f-f13ca0229a20%2Fols%2F4135_original%2F%3A%2Frs%3Dw%3A600%2Ch%3A600\" data-name=\"Data Science Training Internship Program with Free Gift JioBook Laptop\" data-product-id=\"449\" data-url=\"https%3A%2F%2Fyoshops.com%2Fproducts%2Fdata-science-internship-training-program-with-free-gift-jiobook-laptop\" style=\"display:inline-block; width:auto;\">\n",
       "</div>\n",
       "</div>\n",
       "</div>\n",
       "</div>\n",
       "</div>\n",
       "<div class=\"col-sm-3 col-xs-6\">\n",
       "<div class=\"product\">\n",
       "<a class=\"product-link\" href=\"/products/data-analyst-training-program-with-real-time-project1\">\n",
       "<div class=\"product-thumb\">\n",
       "<div class=\"product-thumb-inner\">\n",
       "<img alt=\"Data Analyst Training Program With Real Time Project\" src=\"https://isteam.wsimg.com/ip/a8efe83b-6857-477d-9d0f-f13ca0229a20/ols/3987_original/:/rs=w:600,h:600\"/>\n",
       "</div>\n",
       "</div>\n",
       "<span class=\"product-title\" href=\"/products/data-analyst-training-program-with-real-time-project1\">Data Analyst Training Program With Real Time Project</span>\n",
       "</a>\n",
       "<div class=\"product-price\" data-on-sale=\"true\"><span><span class=\"rupee\">₹</span>5,745.00</span><span><span class=\"rupee\">₹</span>499.00</span></div>\n",
       "<div class=\"review-wrapper\">\n",
       "<div class=\"single-product-review\">\n",
       "<div class=\"yotpo bottomLine\" data-appkey=\"blvTZfFxLLY4ORJETmn8JsqzVHfudrJxLDPnwDXb\" data-domain=\"https://yoshops.com\" data-image-url=\"https%3A%2F%2Fisteam.wsimg.com%2Fip%2Fa8efe83b-6857-477d-9d0f-f13ca0229a20%2Fols%2F3987_original%2F%3A%2Frs%3Dw%3A600%2Ch%3A600\" data-name=\"Data Analyst Training Program With Real Time Project\" data-product-id=\"568\" data-url=\"https%3A%2F%2Fyoshops.com%2Fproducts%2Fdata-analyst-training-program-with-real-time-project1\" style=\"display:inline-block; width:auto;\">\n",
       "</div>\n",
       "</div>\n",
       "</div>\n",
       "</div>\n",
       "</div>\n",
       "<div class=\"col-sm-3 col-xs-6\">\n",
       "<div class=\"product\">\n",
       "<a class=\"product-link\" href=\"/products/hrx-by-hrithik-roshan-men-orange-printed-cotton-t-shirt-with-yoshops-free-gift-hear-phone-pouch\">\n",
       "<div class=\"product-thumb\">\n",
       "<div class=\"product-thumb-inner\">\n",
       "<img alt=\"HRX by Hrithik Roshan Men Orange Printed Cotton T-shirt With Yoshops Free Gift Hear phone Pouch\" src=\"https://isteam.wsimg.com/ip/a8efe83b-6857-477d-9d0f-f13ca0229a20/ols/4055_original/:/rs=w:600,h:600\"/>\n",
       "</div>\n",
       "</div>\n",
       "<span class=\"product-title\" href=\"/products/hrx-by-hrithik-roshan-men-orange-printed-cotton-t-shirt-with-yoshops-free-gift-hear-phone-pouch\">HRX by Hrithik Roshan Men Orange Printed Cotton T-shirt With Yoshops Free Gift Hear phone Pouch</span>\n",
       "</a>\n",
       "<div class=\"product-price\" data-on-sale=\"true\"><span><span class=\"rupee\">₹</span>899.00</span><span><span class=\"rupee\">₹</span>329.00</span></div>\n",
       "<div class=\"free-shipping\">\n",
       "<div class=\"ship-table\">\n",
       "<svg enable-background=\"new 6.943 12.685 20 14\" id=\"Layer_1\" version=\"1.1\" viewbox=\"6.943 12.685 20 14\" x=\"0px\" xml:space=\"preserve\" xmlns=\"http://www.w3.org/2000/svg\" xmlns:xlink=\"http://www.w3.org/1999/xlink\" y=\"0px\">\n",
       "<path d=\"M39.451,34.034c0,2.032-1.578,3.61-3.611,3.61s-3.611-1.578-3.611-3.61\n",
       "      s1.578-3.611,3.611-3.611S39.451,32.002,39.451,34.034z M35.612,32.002c-1.13,0-1.806,0.902-1.806,1.805s0.902,1.806,1.806,1.806\n",
       "      c1.13,0,1.806-0.903,1.806-1.806S36.742,32.002,35.612,32.002z\" display=\"none\"></path>\n",
       "<rect display=\"none\" height=\"15.581\" width=\"20.322\" x=\"6.938\" y=\"13.03\"></rect>\n",
       "<path d=\"M17.999,33.58c0,2.032-1.578,3.61-3.611,3.61s-3.611-1.578-3.611-3.61\n",
       "      c0-2.033,1.579-3.611,3.611-3.611S17.999,31.547,17.999,33.58z M14.388,31.773c-1.13,0-1.806,0.903-1.806,1.807\n",
       "      c0,0.902,0.903,1.805,1.806,1.805s1.806-0.902,1.806-1.805C16.193,32.677,15.291,31.773,14.388,31.773z\" display=\"none\"></path>\n",
       "<path d=\"M28.384,34.255V19.356V17.55h8.358c0,0,6.32,0.455,6.32,6.32v8.579l-1.357,1.578h-0.903\n",
       "      c0,0,0.454-5.644-5.417-5.644c0,0-5.195-0.228-5.195,5.644h-1.806V34.255z M37.19,19.804c-2.708,0-4.065,0-4.065,0v3.384h5.645\n",
       "      h1.805C40.581,23.194,39.678,19.804,37.19,19.804z\" display=\"none\"></path>\n",
       "<path d=\"M6.938,29.969h3.611c0,0-1.806,1.805-1.578,4.293H6.938V29.969z\" display=\"none\"></path>\n",
       "<path d=\"M27.26,29.969h-9.034c0,0,1.806,1.805,1.578,4.293h7.45v-4.293H27.26z\" display=\"none\"></path>\n",
       "<path d=\"M10.976,22.635c1.119,0,2.025,0.907,2.025,2.026c0,1.119-0.906,2.025-2.025,2.025c-1.118,0-2.029-0.902-2.029-2.025\n",
       "      C8.946,23.542,9.857,22.635,10.976,22.635z M9.927,24.661c0,0.578,0.468,1.048,1.049,1.048c0.582,0,1.049-0.466,1.049-1.048\n",
       "      c0-0.578-0.468-1.05-1.049-1.05C10.395,23.611,9.927,24.083,9.927,24.661z\"></path>\n",
       "<rect height=\"8.974\" width=\"11.24\" x=\"15.703\" y=\"12.685\"></rect>\n",
       "<path d=\"M22.857,22.635c1.119,0,2.026,0.907,2.026,2.026c0,1.119-0.907,2.025-2.026,2.025c-1.118,0-2.026-0.906-2.026-2.025\n",
       "      C20.832,23.542,21.739,22.635,22.857,22.635z M21.808,24.661c0,0.577,0.467,1.048,1.049,1.048c0.577,0,1.05-0.468,1.05-1.048\n",
       "      c0-0.581-0.469-1.05-1.05-1.05C22.279,23.611,21.808,24.08,21.808,24.661z\"></path>\n",
       "<path d=\"M13.956,24.813c0-3.235-2.863-3.155-2.863-3.155c-3.294,0-2.979,3.155-2.979,3.155H7.682l-0.738-0.936v-4.77\n",
       "      c0-3.254,3.469-3.565,3.469-3.565h4.6v0.995v8.28h-1.057V24.813z M8.318,18.658h0.955h3.155v-1.89c0,0-0.684,0-2.219,0\n",
       "      C8.727,16.771,8.318,18.658,8.318,18.658z\"></path>\n",
       "<path d=\"M26.943,22.416h-1.959c0,0,1.032,1.005,0.853,2.409h1.106V22.416z\"></path>\n",
       "<path d=\"M15.703,22.416h5.009c0,0-1.032,1.005-0.852,2.409h-4.157V22.416z\"></path>\n",
       "</svg>\n",
       "<span>Free Shipping!</span>\n",
       "</div>\n",
       "</div>\n",
       "<div class=\"review-wrapper\">\n",
       "<div class=\"single-product-review\">\n",
       "<div class=\"yotpo bottomLine\" data-appkey=\"blvTZfFxLLY4ORJETmn8JsqzVHfudrJxLDPnwDXb\" data-domain=\"https://yoshops.com\" data-image-url=\"https%3A%2F%2Fisteam.wsimg.com%2Fip%2Fa8efe83b-6857-477d-9d0f-f13ca0229a20%2Fols%2F4055_original%2F%3A%2Frs%3Dw%3A600%2Ch%3A600\" data-name=\"HRX by Hrithik Roshan Men Orange Printed Cotton T-shirt With Yoshops Free Gift Hear phone Pouch\" data-product-id=\"578\" data-url=\"https%3A%2F%2Fyoshops.com%2Fproducts%2Fhrx-by-hrithik-roshan-men-orange-printed-cotton-t-shirt-with-yoshops-free-gift-hear-phone-pouch\" style=\"display:inline-block; width:auto;\">\n",
       "</div>\n",
       "</div>\n",
       "</div>\n",
       "</div>\n",
       "</div>\n",
       "<div class=\"col-sm-3 col-xs-6\">\n",
       "<div class=\"product\">\n",
       "<a class=\"product-link\" href=\"/products/boat-rockerz-530-foldable-bluetooth-headphone-with-mic-carbon-black\">\n",
       "<div class=\"product-thumb\">\n",
       "<div class=\"product-thumb-inner\">\n",
       "<img alt=\"Boat Rockerz 530 Foldable Bluetooth Headphone with Mic (Carbon Black)\" src=\"https://isteam.wsimg.com/ip/a8efe83b-6857-477d-9d0f-f13ca0229a20/ols/3070_original/:/rs=w:600,h:600\"/>\n",
       "</div>\n",
       "</div>\n",
       "<span class=\"product-title\" href=\"/products/boat-rockerz-530-foldable-bluetooth-headphone-with-mic-carbon-black\">Boat Rockerz 530 Foldable Bluetooth Headphone with Mic (Carbon Black)</span>\n",
       "</a>\n",
       "<div class=\"product-price\" data-on-sale=\"true\"><span><span class=\"rupee\">₹</span>999.00</span><span><span class=\"rupee\">₹</span>799.00</span></div>\n",
       "<div class=\"free-shipping\">\n",
       "<div class=\"ship-table\">\n",
       "<svg enable-background=\"new 6.943 12.685 20 14\" id=\"Layer_1\" version=\"1.1\" viewbox=\"6.943 12.685 20 14\" x=\"0px\" xml:space=\"preserve\" xmlns=\"http://www.w3.org/2000/svg\" xmlns:xlink=\"http://www.w3.org/1999/xlink\" y=\"0px\">\n",
       "<path d=\"M39.451,34.034c0,2.032-1.578,3.61-3.611,3.61s-3.611-1.578-3.611-3.61\n",
       "      s1.578-3.611,3.611-3.611S39.451,32.002,39.451,34.034z M35.612,32.002c-1.13,0-1.806,0.902-1.806,1.805s0.902,1.806,1.806,1.806\n",
       "      c1.13,0,1.806-0.903,1.806-1.806S36.742,32.002,35.612,32.002z\" display=\"none\"></path>\n",
       "<rect display=\"none\" height=\"15.581\" width=\"20.322\" x=\"6.938\" y=\"13.03\"></rect>\n",
       "<path d=\"M17.999,33.58c0,2.032-1.578,3.61-3.611,3.61s-3.611-1.578-3.611-3.61\n",
       "      c0-2.033,1.579-3.611,3.611-3.611S17.999,31.547,17.999,33.58z M14.388,31.773c-1.13,0-1.806,0.903-1.806,1.807\n",
       "      c0,0.902,0.903,1.805,1.806,1.805s1.806-0.902,1.806-1.805C16.193,32.677,15.291,31.773,14.388,31.773z\" display=\"none\"></path>\n",
       "<path d=\"M28.384,34.255V19.356V17.55h8.358c0,0,6.32,0.455,6.32,6.32v8.579l-1.357,1.578h-0.903\n",
       "      c0,0,0.454-5.644-5.417-5.644c0,0-5.195-0.228-5.195,5.644h-1.806V34.255z M37.19,19.804c-2.708,0-4.065,0-4.065,0v3.384h5.645\n",
       "      h1.805C40.581,23.194,39.678,19.804,37.19,19.804z\" display=\"none\"></path>\n",
       "<path d=\"M6.938,29.969h3.611c0,0-1.806,1.805-1.578,4.293H6.938V29.969z\" display=\"none\"></path>\n",
       "<path d=\"M27.26,29.969h-9.034c0,0,1.806,1.805,1.578,4.293h7.45v-4.293H27.26z\" display=\"none\"></path>\n",
       "<path d=\"M10.976,22.635c1.119,0,2.025,0.907,2.025,2.026c0,1.119-0.906,2.025-2.025,2.025c-1.118,0-2.029-0.902-2.029-2.025\n",
       "      C8.946,23.542,9.857,22.635,10.976,22.635z M9.927,24.661c0,0.578,0.468,1.048,1.049,1.048c0.582,0,1.049-0.466,1.049-1.048\n",
       "      c0-0.578-0.468-1.05-1.049-1.05C10.395,23.611,9.927,24.083,9.927,24.661z\"></path>\n",
       "<rect height=\"8.974\" width=\"11.24\" x=\"15.703\" y=\"12.685\"></rect>\n",
       "<path d=\"M22.857,22.635c1.119,0,2.026,0.907,2.026,2.026c0,1.119-0.907,2.025-2.026,2.025c-1.118,0-2.026-0.906-2.026-2.025\n",
       "      C20.832,23.542,21.739,22.635,22.857,22.635z M21.808,24.661c0,0.577,0.467,1.048,1.049,1.048c0.577,0,1.05-0.468,1.05-1.048\n",
       "      c0-0.581-0.469-1.05-1.05-1.05C22.279,23.611,21.808,24.08,21.808,24.661z\"></path>\n",
       "<path d=\"M13.956,24.813c0-3.235-2.863-3.155-2.863-3.155c-3.294,0-2.979,3.155-2.979,3.155H7.682l-0.738-0.936v-4.77\n",
       "      c0-3.254,3.469-3.565,3.469-3.565h4.6v0.995v8.28h-1.057V24.813z M8.318,18.658h0.955h3.155v-1.89c0,0-0.684,0-2.219,0\n",
       "      C8.727,16.771,8.318,18.658,8.318,18.658z\"></path>\n",
       "<path d=\"M26.943,22.416h-1.959c0,0,1.032,1.005,0.853,2.409h1.106V22.416z\"></path>\n",
       "<path d=\"M15.703,22.416h5.009c0,0-1.032,1.005-0.852,2.409h-4.157V22.416z\"></path>\n",
       "</svg>\n",
       "<span>Free Shipping!</span>\n",
       "</div>\n",
       "</div>\n",
       "<div class=\"review-wrapper\">\n",
       "<div class=\"single-product-review\">\n",
       "<div class=\"yotpo bottomLine\" data-appkey=\"blvTZfFxLLY4ORJETmn8JsqzVHfudrJxLDPnwDXb\" data-domain=\"https://yoshops.com\" data-image-url=\"https%3A%2F%2Fisteam.wsimg.com%2Fip%2Fa8efe83b-6857-477d-9d0f-f13ca0229a20%2Fols%2F3070_original%2F%3A%2Frs%3Dw%3A600%2Ch%3A600\" data-name=\"Boat Rockerz 530 Foldable Bluetooth Headphone with Mic (Carbon Black)\" data-product-id=\"268\" data-url=\"https%3A%2F%2Fyoshops.com%2Fproducts%2Fboat-rockerz-530-foldable-bluetooth-headphone-with-mic-carbon-black\" style=\"display:inline-block; width:auto;\">\n",
       "</div>\n",
       "</div>\n",
       "</div>\n",
       "</div>\n",
       "</div>\n",
       "<div class=\"col-sm-3 col-xs-6\">\n",
       "<div class=\"product\">\n",
       "<a class=\"product-link\" href=\"/products/zebronics-saga-portable-bluetooth-wireless-speaker\">\n",
       "<div class=\"product-thumb\">\n",
       "<div class=\"product-thumb-inner\">\n",
       "<img alt=\"Zebronics SAGA Portable Bluetooth wireless speaker\" src=\"https://isteam.wsimg.com/ip/a8efe83b-6857-477d-9d0f-f13ca0229a20/ols/1309_original/:/rs=w:600,h:600\"/>\n",
       "</div>\n",
       "</div>\n",
       "<span class=\"product-title\" href=\"/products/zebronics-saga-portable-bluetooth-wireless-speaker\">Zebronics SAGA Portable Bluetooth wireless speaker</span>\n",
       "</a>\n",
       "<div class=\"product-price\" data-on-sale=\"true\"><span><span class=\"rupee\">₹</span>599.00</span><span><span class=\"rupee\">₹</span>559.00</span></div>\n",
       "<div class=\"free-shipping\">\n",
       "<div class=\"ship-table\">\n",
       "<svg enable-background=\"new 6.943 12.685 20 14\" id=\"Layer_1\" version=\"1.1\" viewbox=\"6.943 12.685 20 14\" x=\"0px\" xml:space=\"preserve\" xmlns=\"http://www.w3.org/2000/svg\" xmlns:xlink=\"http://www.w3.org/1999/xlink\" y=\"0px\">\n",
       "<path d=\"M39.451,34.034c0,2.032-1.578,3.61-3.611,3.61s-3.611-1.578-3.611-3.61\n",
       "      s1.578-3.611,3.611-3.611S39.451,32.002,39.451,34.034z M35.612,32.002c-1.13,0-1.806,0.902-1.806,1.805s0.902,1.806,1.806,1.806\n",
       "      c1.13,0,1.806-0.903,1.806-1.806S36.742,32.002,35.612,32.002z\" display=\"none\"></path>\n",
       "<rect display=\"none\" height=\"15.581\" width=\"20.322\" x=\"6.938\" y=\"13.03\"></rect>\n",
       "<path d=\"M17.999,33.58c0,2.032-1.578,3.61-3.611,3.61s-3.611-1.578-3.611-3.61\n",
       "      c0-2.033,1.579-3.611,3.611-3.611S17.999,31.547,17.999,33.58z M14.388,31.773c-1.13,0-1.806,0.903-1.806,1.807\n",
       "      c0,0.902,0.903,1.805,1.806,1.805s1.806-0.902,1.806-1.805C16.193,32.677,15.291,31.773,14.388,31.773z\" display=\"none\"></path>\n",
       "<path d=\"M28.384,34.255V19.356V17.55h8.358c0,0,6.32,0.455,6.32,6.32v8.579l-1.357,1.578h-0.903\n",
       "      c0,0,0.454-5.644-5.417-5.644c0,0-5.195-0.228-5.195,5.644h-1.806V34.255z M37.19,19.804c-2.708,0-4.065,0-4.065,0v3.384h5.645\n",
       "      h1.805C40.581,23.194,39.678,19.804,37.19,19.804z\" display=\"none\"></path>\n",
       "<path d=\"M6.938,29.969h3.611c0,0-1.806,1.805-1.578,4.293H6.938V29.969z\" display=\"none\"></path>\n",
       "<path d=\"M27.26,29.969h-9.034c0,0,1.806,1.805,1.578,4.293h7.45v-4.293H27.26z\" display=\"none\"></path>\n",
       "<path d=\"M10.976,22.635c1.119,0,2.025,0.907,2.025,2.026c0,1.119-0.906,2.025-2.025,2.025c-1.118,0-2.029-0.902-2.029-2.025\n",
       "      C8.946,23.542,9.857,22.635,10.976,22.635z M9.927,24.661c0,0.578,0.468,1.048,1.049,1.048c0.582,0,1.049-0.466,1.049-1.048\n",
       "      c0-0.578-0.468-1.05-1.049-1.05C10.395,23.611,9.927,24.083,9.927,24.661z\"></path>\n",
       "<rect height=\"8.974\" width=\"11.24\" x=\"15.703\" y=\"12.685\"></rect>\n",
       "<path d=\"M22.857,22.635c1.119,0,2.026,0.907,2.026,2.026c0,1.119-0.907,2.025-2.026,2.025c-1.118,0-2.026-0.906-2.026-2.025\n",
       "      C20.832,23.542,21.739,22.635,22.857,22.635z M21.808,24.661c0,0.577,0.467,1.048,1.049,1.048c0.577,0,1.05-0.468,1.05-1.048\n",
       "      c0-0.581-0.469-1.05-1.05-1.05C22.279,23.611,21.808,24.08,21.808,24.661z\"></path>\n",
       "<path d=\"M13.956,24.813c0-3.235-2.863-3.155-2.863-3.155c-3.294,0-2.979,3.155-2.979,3.155H7.682l-0.738-0.936v-4.77\n",
       "      c0-3.254,3.469-3.565,3.469-3.565h4.6v0.995v8.28h-1.057V24.813z M8.318,18.658h0.955h3.155v-1.89c0,0-0.684,0-2.219,0\n",
       "      C8.727,16.771,8.318,18.658,8.318,18.658z\"></path>\n",
       "<path d=\"M26.943,22.416h-1.959c0,0,1.032,1.005,0.853,2.409h1.106V22.416z\"></path>\n",
       "<path d=\"M15.703,22.416h5.009c0,0-1.032,1.005-0.852,2.409h-4.157V22.416z\"></path>\n",
       "</svg>\n",
       "<span>Free Shipping!</span>\n",
       "</div>\n",
       "</div>\n",
       "<div class=\"review-wrapper\">\n",
       "<div class=\"single-product-review\">\n",
       "<div class=\"yotpo bottomLine\" data-appkey=\"blvTZfFxLLY4ORJETmn8JsqzVHfudrJxLDPnwDXb\" data-domain=\"https://yoshops.com\" data-image-url=\"https%3A%2F%2Fisteam.wsimg.com%2Fip%2Fa8efe83b-6857-477d-9d0f-f13ca0229a20%2Fols%2F1309_original%2F%3A%2Frs%3Dw%3A600%2Ch%3A600\" data-name=\"Zebronics SAGA Portable Bluetooth wireless speaker\" data-product-id=\"193\" data-url=\"https%3A%2F%2Fyoshops.com%2Fproducts%2Fzebronics-saga-portable-bluetooth-wireless-speaker\" style=\"display:inline-block; width:auto;\">\n",
       "</div>\n",
       "</div>\n",
       "</div>\n",
       "</div>\n",
       "</div>\n",
       "<div class=\"col-sm-3 col-xs-6\" style=\"height: auto !important; min-height: 0px !important;\">\n",
       "<div class=\"google-auto-placed\" style=\"width: 100%; height: auto; clear: none; text-align: center;\"><ins class=\"adsbygoogle adsbygoogle-noablate\" data-ad-client=\"ca-pub-2880440375789047\" data-ad-format=\"auto\" data-ad-status=\"filled\" data-adsbygoogle-status=\"done\" style=\"display: block; margin: 10px auto; background-color: transparent; height: 240px;\"><div aria-label=\"Advertisement\" id=\"aswift_3_host\" style=\"border: none; height: 240px; width: 213px; margin: 0px; padding: 0px; position: relative; visibility: visible; background-color: transparent; display: inline-block; overflow: visible;\" tabindex=\"0\" title=\"Advertisement\"><iframe allowtransparency=\"true\" data-google-container-id=\"a!4\" data-google-query-id=\"CN-D9MXem_wCFe6_lgodRYEJCw\" data-load-complete=\"true\" frameborder=\"0\" height=\"240\" hspace=\"0\" id=\"aswift_3\" marginheight=\"0\" marginwidth=\"0\" name=\"aswift_3\" sandbox=\"allow-forms allow-popups allow-popups-to-escape-sandbox allow-same-origin allow-scripts allow-top-navigation-by-user-activation\" scrolling=\"no\" src=\"https://googleads.g.doubleclick.net/pagead/ads?client=ca-pub-2880440375789047&amp;output=html&amp;h=240&amp;adk=933176950&amp;adf=2325570164&amp;pi=t.aa~a.144390432~rp.1&amp;w=213&amp;fwrn=4&amp;fwrnh=100&amp;lmt=1672210766&amp;rafmt=1&amp;to=qs&amp;pwprc=7790077290&amp;format=213x240&amp;url=https%3A%2F%2Fyoshops.com%2F&amp;fwr=0&amp;pra=3&amp;rpe=1&amp;resp_fmts=4&amp;wgl=1&amp;fa=40&amp;uach=WyJXaW5kb3dzIiwiMTUuMC4wIiwieDg2IiwiIiwiMTA4LjAuNTM1OS4xMjUiLFtdLGZhbHNlLG51bGwsIjY0IixbWyJOb3Q_QV9CcmFuZCIsIjguMC4wLjAiXSxbIkNocm9taXVtIiwiMTA4LjAuNTM1OS4xMjUiXSxbIkdvb2dsZSBDaHJvbWUiLCIxMDguMC41MzU5LjEyNSJdXSxmYWxzZV0.&amp;dt=1672210766937&amp;bpp=1&amp;bdt=5930&amp;idt=1&amp;shv=r20221207&amp;mjsv=m202212060101&amp;ptt=9&amp;saldr=aa&amp;abxe=1&amp;cookie=ID%3De091543b0da4db15-22bb2c580ed900d9%3AT%3D1672210765%3ART%3D1672210765%3AS%3DALNI_MYmkswKUFYJ5cqmtY6jlMQrnAYczA&amp;gpic=UID%3D00000b98d5d09374%3AT%3D1672210765%3ART%3D1672210765%3AS%3DALNI_MYVPKltU82o2N-u2FegNK6lIlkuYQ&amp;prev_fmts=0x0%2C940x280%2C213x600&amp;nras=4&amp;correlator=647289135584&amp;frm=20&amp;pv=1&amp;ga_vid=1623000220.1672210763&amp;ga_sid=1672210766&amp;ga_hid=521732998&amp;ga_fc=1&amp;u_tz=330&amp;u_his=2&amp;u_h=864&amp;u_w=1536&amp;u_ah=816&amp;u_aw=1536&amp;u_cd=24&amp;u_sd=1.25&amp;dmc=8&amp;adx=40&amp;ady=2520&amp;biw=1019&amp;bih=666&amp;scr_x=0&amp;scr_y=0&amp;eid=44759875%2C44759926%2C44759842%2C44767166%2C31071250%2C31071259%2C44779793%2C44780792&amp;oid=2&amp;pvsid=1463608547480230&amp;tmod=33283051&amp;uas=0&amp;nvt=1&amp;eae=0&amp;fc=1920&amp;brdim=9%2C9%2C9%2C9%2C1536%2C0%2C1051%2C798%2C1036%2C666&amp;vis=1&amp;rsz=%7C%7Cs%7C&amp;abl=NS&amp;fu=128&amp;bc=31&amp;ifi=4&amp;uci=a!4&amp;btvi=2&amp;fsb=1&amp;xpc=CV5oKu2RuO&amp;p=https%3A//yoshops.com&amp;dtd=16\" style=\"left:0;position:absolute;top:0;border:0;width:213px;height:240px;\" vspace=\"0\" width=\"213\"></iframe></div></ins></div><div class=\"product\">\n",
       "<a class=\"product-link\" href=\"/products/mini-vr-box-virtual-reality-headsets-with-ultra-3d-glasses-compatible-with-android-and-ios-devices-blue-black\">\n",
       "<div class=\"product-thumb\">\n",
       "<div class=\"product-thumb-inner\">\n",
       "<img alt=\"Mini VR BOX Virtual Reality Headsets with ultra 3D glasses Compatible with Android and IOS Devices (Blue, Black)\" src=\"https://isteam.wsimg.com/ip/a8efe83b-6857-477d-9d0f-f13ca0229a20/ols/3148_original/:/rs=w:600,h:600\"/>\n",
       "</div>\n",
       "</div>\n",
       "<span class=\"product-title\" href=\"/products/mini-vr-box-virtual-reality-headsets-with-ultra-3d-glasses-compatible-with-android-and-ios-devices-blue-black\">Mini VR BOX Virtual Reality Headsets with ultra 3D glasses Compatible with Android and IOS Devices (Blue, Black)</span>\n",
       "</a>\n",
       "<div class=\"product-price\" data-on-sale=\"true\"><span><span class=\"rupee\">₹</span>1,487.00</span><span><span class=\"rupee\">₹</span>349.00</span></div>\n",
       "<div class=\"free-shipping\">\n",
       "<div class=\"ship-table\">\n",
       "<svg enable-background=\"new 6.943 12.685 20 14\" id=\"Layer_1\" version=\"1.1\" viewbox=\"6.943 12.685 20 14\" x=\"0px\" xml:space=\"preserve\" xmlns=\"http://www.w3.org/2000/svg\" xmlns:xlink=\"http://www.w3.org/1999/xlink\" y=\"0px\">\n",
       "<path d=\"M39.451,34.034c0,2.032-1.578,3.61-3.611,3.61s-3.611-1.578-3.611-3.61\n",
       "      s1.578-3.611,3.611-3.611S39.451,32.002,39.451,34.034z M35.612,32.002c-1.13,0-1.806,0.902-1.806,1.805s0.902,1.806,1.806,1.806\n",
       "      c1.13,0,1.806-0.903,1.806-1.806S36.742,32.002,35.612,32.002z\" display=\"none\"></path>\n",
       "<rect display=\"none\" height=\"15.581\" width=\"20.322\" x=\"6.938\" y=\"13.03\"></rect>\n",
       "<path d=\"M17.999,33.58c0,2.032-1.578,3.61-3.611,3.61s-3.611-1.578-3.611-3.61\n",
       "      c0-2.033,1.579-3.611,3.611-3.611S17.999,31.547,17.999,33.58z M14.388,31.773c-1.13,0-1.806,0.903-1.806,1.807\n",
       "      c0,0.902,0.903,1.805,1.806,1.805s1.806-0.902,1.806-1.805C16.193,32.677,15.291,31.773,14.388,31.773z\" display=\"none\"></path>\n",
       "<path d=\"M28.384,34.255V19.356V17.55h8.358c0,0,6.32,0.455,6.32,6.32v8.579l-1.357,1.578h-0.903\n",
       "      c0,0,0.454-5.644-5.417-5.644c0,0-5.195-0.228-5.195,5.644h-1.806V34.255z M37.19,19.804c-2.708,0-4.065,0-4.065,0v3.384h5.645\n",
       "      h1.805C40.581,23.194,39.678,19.804,37.19,19.804z\" display=\"none\"></path>\n",
       "<path d=\"M6.938,29.969h3.611c0,0-1.806,1.805-1.578,4.293H6.938V29.969z\" display=\"none\"></path>\n",
       "<path d=\"M27.26,29.969h-9.034c0,0,1.806,1.805,1.578,4.293h7.45v-4.293H27.26z\" display=\"none\"></path>\n",
       "<path d=\"M10.976,22.635c1.119,0,2.025,0.907,2.025,2.026c0,1.119-0.906,2.025-2.025,2.025c-1.118,0-2.029-0.902-2.029-2.025\n",
       "      C8.946,23.542,9.857,22.635,10.976,22.635z M9.927,24.661c0,0.578,0.468,1.048,1.049,1.048c0.582,0,1.049-0.466,1.049-1.048\n",
       "      c0-0.578-0.468-1.05-1.049-1.05C10.395,23.611,9.927,24.083,9.927,24.661z\"></path>\n",
       "<rect height=\"8.974\" width=\"11.24\" x=\"15.703\" y=\"12.685\"></rect>\n",
       "<path d=\"M22.857,22.635c1.119,0,2.026,0.907,2.026,2.026c0,1.119-0.907,2.025-2.026,2.025c-1.118,0-2.026-0.906-2.026-2.025\n",
       "      C20.832,23.542,21.739,22.635,22.857,22.635z M21.808,24.661c0,0.577,0.467,1.048,1.049,1.048c0.577,0,1.05-0.468,1.05-1.048\n",
       "      c0-0.581-0.469-1.05-1.05-1.05C22.279,23.611,21.808,24.08,21.808,24.661z\"></path>\n",
       "<path d=\"M13.956,24.813c0-3.235-2.863-3.155-2.863-3.155c-3.294,0-2.979,3.155-2.979,3.155H7.682l-0.738-0.936v-4.77\n",
       "      c0-3.254,3.469-3.565,3.469-3.565h4.6v0.995v8.28h-1.057V24.813z M8.318,18.658h0.955h3.155v-1.89c0,0-0.684,0-2.219,0\n",
       "      C8.727,16.771,8.318,18.658,8.318,18.658z\"></path>\n",
       "<path d=\"M26.943,22.416h-1.959c0,0,1.032,1.005,0.853,2.409h1.106V22.416z\"></path>\n",
       "<path d=\"M15.703,22.416h5.009c0,0-1.032,1.005-0.852,2.409h-4.157V22.416z\"></path>\n",
       "</svg>\n",
       "<span>Free Shipping!</span>\n",
       "</div>\n",
       "</div>\n",
       "<div class=\"review-wrapper\">\n",
       "<div class=\"single-product-review\">\n",
       "<div class=\"yotpo bottomLine\" data-appkey=\"blvTZfFxLLY4ORJETmn8JsqzVHfudrJxLDPnwDXb\" data-domain=\"https://yoshops.com\" data-image-url=\"https%3A%2F%2Fisteam.wsimg.com%2Fip%2Fa8efe83b-6857-477d-9d0f-f13ca0229a20%2Fols%2F3148_original%2F%3A%2Frs%3Dw%3A600%2Ch%3A600\" data-name=\"Mini VR BOX Virtual Reality Headsets with ultra 3D glasses Compatible with Android and IOS Devices (Blue, Black)\" data-product-id=\"456\" data-url=\"https%3A%2F%2Fyoshops.com%2Fproducts%2Fmini-vr-box-virtual-reality-headsets-with-ultra-3d-glasses-compatible-with-android-and-ios-devices-blue-black\" style=\"display:inline-block; width:auto;\">\n",
       "</div>\n",
       "</div>\n",
       "</div>\n",
       "</div>\n",
       "</div>\n",
       "<div class=\"col-sm-3 col-xs-6\">\n",
       "<div class=\"product\">\n",
       "<a class=\"product-link\" href=\"/products/hx-750-remote-control-flying-drone\">\n",
       "<div class=\"product-thumb\">\n",
       "<div class=\"product-thumb-inner\">\n",
       "<img alt=\"Vmax HX 750 Quadcopter Drone (No Camera)\" src=\"https://isteam.wsimg.com/ip/a8efe83b-6857-477d-9d0f-f13ca0229a20/ols/1660_original/:/rs=w:600,h:600\"/>\n",
       "</div>\n",
       "</div>\n",
       "<span class=\"product-title\" href=\"/products/hx-750-remote-control-flying-drone\">Vmax HX 750 Quadcopter Drone (No Camera)</span>\n",
       "</a>\n",
       "<div class=\"product-price\" data-on-sale=\"true\"><span><span class=\"rupee\">₹</span>4,000.00</span><span><span class=\"rupee\">₹</span>1,499.00</span></div>\n",
       "<div class=\"free-shipping\">\n",
       "<div class=\"ship-table\">\n",
       "<svg enable-background=\"new 6.943 12.685 20 14\" id=\"Layer_1\" version=\"1.1\" viewbox=\"6.943 12.685 20 14\" x=\"0px\" xml:space=\"preserve\" xmlns=\"http://www.w3.org/2000/svg\" xmlns:xlink=\"http://www.w3.org/1999/xlink\" y=\"0px\">\n",
       "<path d=\"M39.451,34.034c0,2.032-1.578,3.61-3.611,3.61s-3.611-1.578-3.611-3.61\n",
       "      s1.578-3.611,3.611-3.611S39.451,32.002,39.451,34.034z M35.612,32.002c-1.13,0-1.806,0.902-1.806,1.805s0.902,1.806,1.806,1.806\n",
       "      c1.13,0,1.806-0.903,1.806-1.806S36.742,32.002,35.612,32.002z\" display=\"none\"></path>\n",
       "<rect display=\"none\" height=\"15.581\" width=\"20.322\" x=\"6.938\" y=\"13.03\"></rect>\n",
       "<path d=\"M17.999,33.58c0,2.032-1.578,3.61-3.611,3.61s-3.611-1.578-3.611-3.61\n",
       "      c0-2.033,1.579-3.611,3.611-3.611S17.999,31.547,17.999,33.58z M14.388,31.773c-1.13,0-1.806,0.903-1.806,1.807\n",
       "      c0,0.902,0.903,1.805,1.806,1.805s1.806-0.902,1.806-1.805C16.193,32.677,15.291,31.773,14.388,31.773z\" display=\"none\"></path>\n",
       "<path d=\"M28.384,34.255V19.356V17.55h8.358c0,0,6.32,0.455,6.32,6.32v8.579l-1.357,1.578h-0.903\n",
       "      c0,0,0.454-5.644-5.417-5.644c0,0-5.195-0.228-5.195,5.644h-1.806V34.255z M37.19,19.804c-2.708,0-4.065,0-4.065,0v3.384h5.645\n",
       "      h1.805C40.581,23.194,39.678,19.804,37.19,19.804z\" display=\"none\"></path>\n",
       "<path d=\"M6.938,29.969h3.611c0,0-1.806,1.805-1.578,4.293H6.938V29.969z\" display=\"none\"></path>\n",
       "<path d=\"M27.26,29.969h-9.034c0,0,1.806,1.805,1.578,4.293h7.45v-4.293H27.26z\" display=\"none\"></path>\n",
       "<path d=\"M10.976,22.635c1.119,0,2.025,0.907,2.025,2.026c0,1.119-0.906,2.025-2.025,2.025c-1.118,0-2.029-0.902-2.029-2.025\n",
       "      C8.946,23.542,9.857,22.635,10.976,22.635z M9.927,24.661c0,0.578,0.468,1.048,1.049,1.048c0.582,0,1.049-0.466,1.049-1.048\n",
       "      c0-0.578-0.468-1.05-1.049-1.05C10.395,23.611,9.927,24.083,9.927,24.661z\"></path>\n",
       "<rect height=\"8.974\" width=\"11.24\" x=\"15.703\" y=\"12.685\"></rect>\n",
       "<path d=\"M22.857,22.635c1.119,0,2.026,0.907,2.026,2.026c0,1.119-0.907,2.025-2.026,2.025c-1.118,0-2.026-0.906-2.026-2.025\n",
       "      C20.832,23.542,21.739,22.635,22.857,22.635z M21.808,24.661c0,0.577,0.467,1.048,1.049,1.048c0.577,0,1.05-0.468,1.05-1.048\n",
       "      c0-0.581-0.469-1.05-1.05-1.05C22.279,23.611,21.808,24.08,21.808,24.661z\"></path>\n",
       "<path d=\"M13.956,24.813c0-3.235-2.863-3.155-2.863-3.155c-3.294,0-2.979,3.155-2.979,3.155H7.682l-0.738-0.936v-4.77\n",
       "      c0-3.254,3.469-3.565,3.469-3.565h4.6v0.995v8.28h-1.057V24.813z M8.318,18.658h0.955h3.155v-1.89c0,0-0.684,0-2.219,0\n",
       "      C8.727,16.771,8.318,18.658,8.318,18.658z\"></path>\n",
       "<path d=\"M26.943,22.416h-1.959c0,0,1.032,1.005,0.853,2.409h1.106V22.416z\"></path>\n",
       "<path d=\"M15.703,22.416h5.009c0,0-1.032,1.005-0.852,2.409h-4.157V22.416z\"></path>\n",
       "</svg>\n",
       "<span>Free Shipping!</span>\n",
       "</div>\n",
       "</div>\n",
       "<div class=\"review-wrapper\">\n",
       "<div class=\"single-product-review\">\n",
       "<div class=\"yotpo bottomLine\" data-appkey=\"blvTZfFxLLY4ORJETmn8JsqzVHfudrJxLDPnwDXb\" data-domain=\"https://yoshops.com\" data-image-url=\"https%3A%2F%2Fisteam.wsimg.com%2Fip%2Fa8efe83b-6857-477d-9d0f-f13ca0229a20%2Fols%2F1660_original%2F%3A%2Frs%3Dw%3A600%2Ch%3A600\" data-name=\"Vmax HX 750 Quadcopter Drone (No Camera)\" data-product-id=\"182\" data-url=\"https%3A%2F%2Fyoshops.com%2Fproducts%2Fhx-750-remote-control-flying-drone\" style=\"display:inline-block; width:auto;\">\n",
       "</div>\n",
       "</div>\n",
       "</div>\n",
       "</div>\n",
       "</div>\n",
       "<div class=\"col-sm-3 col-xs-6\">\n",
       "<div class=\"product\">\n",
       "<a class=\"product-link\" href=\"/products/sony-playstation-ps2-gaming-console-150-gb-hard-disk-with-50-games-preloaded-black\">\n",
       "<div class=\"product-thumb\">\n",
       "<div class=\"product-thumb-inner\">\n",
       "<img alt=\"Sony PlayStation PS2 Gaming Console 150 GB Hard Disk With 50 Games Preloaded(Black)\" src=\"https://isteam.wsimg.com/ip/a8efe83b-6857-477d-9d0f-f13ca0229a20/ols/3083_original/:/rs=w:600,h:600\"/>\n",
       "</div>\n",
       "</div>\n",
       "<span class=\"product-title\" href=\"/products/sony-playstation-ps2-gaming-console-150-gb-hard-disk-with-50-games-preloaded-black\">Sony PlayStation PS2 Gaming Console 150 GB Hard Disk With 50 Games Preloaded(Black)</span>\n",
       "</a>\n",
       "<div class=\"product-price\" data-on-sale=\"true\"><span><span class=\"rupee\">₹</span>12,289.00</span><span><span class=\"rupee\">₹</span>8,999.00</span></div>\n",
       "<div class=\"free-shipping\">\n",
       "<div class=\"ship-table\">\n",
       "<svg enable-background=\"new 6.943 12.685 20 14\" id=\"Layer_1\" version=\"1.1\" viewbox=\"6.943 12.685 20 14\" x=\"0px\" xml:space=\"preserve\" xmlns=\"http://www.w3.org/2000/svg\" xmlns:xlink=\"http://www.w3.org/1999/xlink\" y=\"0px\">\n",
       "<path d=\"M39.451,34.034c0,2.032-1.578,3.61-3.611,3.61s-3.611-1.578-3.611-3.61\n",
       "      s1.578-3.611,3.611-3.611S39.451,32.002,39.451,34.034z M35.612,32.002c-1.13,0-1.806,0.902-1.806,1.805s0.902,1.806,1.806,1.806\n",
       "      c1.13,0,1.806-0.903,1.806-1.806S36.742,32.002,35.612,32.002z\" display=\"none\"></path>\n",
       "<rect display=\"none\" height=\"15.581\" width=\"20.322\" x=\"6.938\" y=\"13.03\"></rect>\n",
       "<path d=\"M17.999,33.58c0,2.032-1.578,3.61-3.611,3.61s-3.611-1.578-3.611-3.61\n",
       "      c0-2.033,1.579-3.611,3.611-3.611S17.999,31.547,17.999,33.58z M14.388,31.773c-1.13,0-1.806,0.903-1.806,1.807\n",
       "      c0,0.902,0.903,1.805,1.806,1.805s1.806-0.902,1.806-1.805C16.193,32.677,15.291,31.773,14.388,31.773z\" display=\"none\"></path>\n",
       "<path d=\"M28.384,34.255V19.356V17.55h8.358c0,0,6.32,0.455,6.32,6.32v8.579l-1.357,1.578h-0.903\n",
       "      c0,0,0.454-5.644-5.417-5.644c0,0-5.195-0.228-5.195,5.644h-1.806V34.255z M37.19,19.804c-2.708,0-4.065,0-4.065,0v3.384h5.645\n",
       "      h1.805C40.581,23.194,39.678,19.804,37.19,19.804z\" display=\"none\"></path>\n",
       "<path d=\"M6.938,29.969h3.611c0,0-1.806,1.805-1.578,4.293H6.938V29.969z\" display=\"none\"></path>\n",
       "<path d=\"M27.26,29.969h-9.034c0,0,1.806,1.805,1.578,4.293h7.45v-4.293H27.26z\" display=\"none\"></path>\n",
       "<path d=\"M10.976,22.635c1.119,0,2.025,0.907,2.025,2.026c0,1.119-0.906,2.025-2.025,2.025c-1.118,0-2.029-0.902-2.029-2.025\n",
       "      C8.946,23.542,9.857,22.635,10.976,22.635z M9.927,24.661c0,0.578,0.468,1.048,1.049,1.048c0.582,0,1.049-0.466,1.049-1.048\n",
       "      c0-0.578-0.468-1.05-1.049-1.05C10.395,23.611,9.927,24.083,9.927,24.661z\"></path>\n",
       "<rect height=\"8.974\" width=\"11.24\" x=\"15.703\" y=\"12.685\"></rect>\n",
       "<path d=\"M22.857,22.635c1.119,0,2.026,0.907,2.026,2.026c0,1.119-0.907,2.025-2.026,2.025c-1.118,0-2.026-0.906-2.026-2.025\n",
       "      C20.832,23.542,21.739,22.635,22.857,22.635z M21.808,24.661c0,0.577,0.467,1.048,1.049,1.048c0.577,0,1.05-0.468,1.05-1.048\n",
       "      c0-0.581-0.469-1.05-1.05-1.05C22.279,23.611,21.808,24.08,21.808,24.661z\"></path>\n",
       "<path d=\"M13.956,24.813c0-3.235-2.863-3.155-2.863-3.155c-3.294,0-2.979,3.155-2.979,3.155H7.682l-0.738-0.936v-4.77\n",
       "      c0-3.254,3.469-3.565,3.469-3.565h4.6v0.995v8.28h-1.057V24.813z M8.318,18.658h0.955h3.155v-1.89c0,0-0.684,0-2.219,0\n",
       "      C8.727,16.771,8.318,18.658,8.318,18.658z\"></path>\n",
       "<path d=\"M26.943,22.416h-1.959c0,0,1.032,1.005,0.853,2.409h1.106V22.416z\"></path>\n",
       "<path d=\"M15.703,22.416h5.009c0,0-1.032,1.005-0.852,2.409h-4.157V22.416z\"></path>\n",
       "</svg>\n",
       "<span>Free Shipping!</span>\n",
       "</div>\n",
       "</div>\n",
       "<div class=\"review-wrapper\">\n",
       "<div class=\"single-product-review\">\n",
       "<div class=\"yotpo bottomLine\" data-appkey=\"blvTZfFxLLY4ORJETmn8JsqzVHfudrJxLDPnwDXb\" data-domain=\"https://yoshops.com\" data-image-url=\"https%3A%2F%2Fisteam.wsimg.com%2Fip%2Fa8efe83b-6857-477d-9d0f-f13ca0229a20%2Fols%2F3083_original%2F%3A%2Frs%3Dw%3A600%2Ch%3A600\" data-name=\"Sony PlayStation PS2 Gaming Console 150 GB Hard Disk With 50 Games Preloaded(Black)\" data-product-id=\"247\" data-url=\"https%3A%2F%2Fyoshops.com%2Fproducts%2Fsony-playstation-ps2-gaming-console-150-gb-hard-disk-with-50-games-preloaded-black\" style=\"display:inline-block; width:auto;\">\n",
       "</div>\n",
       "</div>\n",
       "</div>\n",
       "</div>\n",
       "</div>\n",
       "<div class=\"col-sm-3 col-xs-6\">\n",
       "<div class=\"product\">\n",
       "<a class=\"product-link\" href=\"/products/wedding-dolls\">\n",
       "<div class=\"product-thumb\">\n",
       "<div class=\"product-thumb-inner\">\n",
       "<img alt=\"Wedding Doll Toy\" src=\"https://isteam.wsimg.com/ip/a8efe83b-6857-477d-9d0f-f13ca0229a20/ols/4012_original/:/rs=w:600,h:600\"/>\n",
       "</div>\n",
       "</div>\n",
       "<span class=\"product-title\" href=\"/products/wedding-dolls\">Wedding Doll Toy</span>\n",
       "</a>\n",
       "<div class=\"product-price\" data-on-sale=\"true\"><span><span class=\"rupee\">₹</span>1,000.00</span><span><span class=\"rupee\">₹</span>750.00</span></div>\n",
       "<div class=\"free-shipping\">\n",
       "<div class=\"ship-table\">\n",
       "<svg enable-background=\"new 6.943 12.685 20 14\" id=\"Layer_1\" version=\"1.1\" viewbox=\"6.943 12.685 20 14\" x=\"0px\" xml:space=\"preserve\" xmlns=\"http://www.w3.org/2000/svg\" xmlns:xlink=\"http://www.w3.org/1999/xlink\" y=\"0px\">\n",
       "<path d=\"M39.451,34.034c0,2.032-1.578,3.61-3.611,3.61s-3.611-1.578-3.611-3.61\n",
       "      s1.578-3.611,3.611-3.611S39.451,32.002,39.451,34.034z M35.612,32.002c-1.13,0-1.806,0.902-1.806,1.805s0.902,1.806,1.806,1.806\n",
       "      c1.13,0,1.806-0.903,1.806-1.806S36.742,32.002,35.612,32.002z\" display=\"none\"></path>\n",
       "<rect display=\"none\" height=\"15.581\" width=\"20.322\" x=\"6.938\" y=\"13.03\"></rect>\n",
       "<path d=\"M17.999,33.58c0,2.032-1.578,3.61-3.611,3.61s-3.611-1.578-3.611-3.61\n",
       "      c0-2.033,1.579-3.611,3.611-3.611S17.999,31.547,17.999,33.58z M14.388,31.773c-1.13,0-1.806,0.903-1.806,1.807\n",
       "      c0,0.902,0.903,1.805,1.806,1.805s1.806-0.902,1.806-1.805C16.193,32.677,15.291,31.773,14.388,31.773z\" display=\"none\"></path>\n",
       "<path d=\"M28.384,34.255V19.356V17.55h8.358c0,0,6.32,0.455,6.32,6.32v8.579l-1.357,1.578h-0.903\n",
       "      c0,0,0.454-5.644-5.417-5.644c0,0-5.195-0.228-5.195,5.644h-1.806V34.255z M37.19,19.804c-2.708,0-4.065,0-4.065,0v3.384h5.645\n",
       "      h1.805C40.581,23.194,39.678,19.804,37.19,19.804z\" display=\"none\"></path>\n",
       "<path d=\"M6.938,29.969h3.611c0,0-1.806,1.805-1.578,4.293H6.938V29.969z\" display=\"none\"></path>\n",
       "<path d=\"M27.26,29.969h-9.034c0,0,1.806,1.805,1.578,4.293h7.45v-4.293H27.26z\" display=\"none\"></path>\n",
       "<path d=\"M10.976,22.635c1.119,0,2.025,0.907,2.025,2.026c0,1.119-0.906,2.025-2.025,2.025c-1.118,0-2.029-0.902-2.029-2.025\n",
       "      C8.946,23.542,9.857,22.635,10.976,22.635z M9.927,24.661c0,0.578,0.468,1.048,1.049,1.048c0.582,0,1.049-0.466,1.049-1.048\n",
       "      c0-0.578-0.468-1.05-1.049-1.05C10.395,23.611,9.927,24.083,9.927,24.661z\"></path>\n",
       "<rect height=\"8.974\" width=\"11.24\" x=\"15.703\" y=\"12.685\"></rect>\n",
       "<path d=\"M22.857,22.635c1.119,0,2.026,0.907,2.026,2.026c0,1.119-0.907,2.025-2.026,2.025c-1.118,0-2.026-0.906-2.026-2.025\n",
       "      C20.832,23.542,21.739,22.635,22.857,22.635z M21.808,24.661c0,0.577,0.467,1.048,1.049,1.048c0.577,0,1.05-0.468,1.05-1.048\n",
       "      c0-0.581-0.469-1.05-1.05-1.05C22.279,23.611,21.808,24.08,21.808,24.661z\"></path>\n",
       "<path d=\"M13.956,24.813c0-3.235-2.863-3.155-2.863-3.155c-3.294,0-2.979,3.155-2.979,3.155H7.682l-0.738-0.936v-4.77\n",
       "      c0-3.254,3.469-3.565,3.469-3.565h4.6v0.995v8.28h-1.057V24.813z M8.318,18.658h0.955h3.155v-1.89c0,0-0.684,0-2.219,0\n",
       "      C8.727,16.771,8.318,18.658,8.318,18.658z\"></path>\n",
       "<path d=\"M26.943,22.416h-1.959c0,0,1.032,1.005,0.853,2.409h1.106V22.416z\"></path>\n",
       "<path d=\"M15.703,22.416h5.009c0,0-1.032,1.005-0.852,2.409h-4.157V22.416z\"></path>\n",
       "</svg>\n",
       "<span>Free Shipping!</span>\n",
       "</div>\n",
       "</div>\n",
       "<div class=\"review-wrapper\">\n",
       "<div class=\"single-product-review\">\n",
       "<div class=\"yotpo bottomLine\" data-appkey=\"blvTZfFxLLY4ORJETmn8JsqzVHfudrJxLDPnwDXb\" data-domain=\"https://yoshops.com\" data-image-url=\"https%3A%2F%2Fisteam.wsimg.com%2Fip%2Fa8efe83b-6857-477d-9d0f-f13ca0229a20%2Fols%2F4012_original%2F%3A%2Frs%3Dw%3A600%2Ch%3A600\" data-name=\"Wedding Doll Toy\" data-product-id=\"100\" data-url=\"https%3A%2F%2Fyoshops.com%2Fproducts%2Fwedding-dolls\" style=\"display:inline-block; width:auto;\">\n",
       "</div>\n",
       "</div>\n",
       "</div>\n",
       "</div>\n",
       "</div>\n",
       "</div>\n",
       "</div>\n",
       "</div>\n",
       "<div class=\"google-auto-placed\" style=\"width: 100%; height: auto; clear: none; text-align: center;\"><ins class=\"adsbygoogle adsbygoogle-noablate\" data-ad-client=\"ca-pub-2880440375789047\" data-ad-format=\"auto\" data-adsbygoogle-status=\"done\" style=\"display: block; margin: 40px auto 10px; background-color: transparent; height: 60px;\"><div id=\"aswift_4_host\" style=\"border: none; height: 60px; width: 940px; margin: 0px; padding: 0px; position: relative; visibility: visible; background-color: transparent; display: inline-block;\"></div></ins></div><div class=\"row footer\">\n",
       "<div class=\"col-sm-6\">\n",
       "<ul class=\"nav nav-pills\">\n",
       "<li>\n",
       "<a href=\"/products\" id=\"featured-all\">View All Products</a>\n",
       "</li>\n",
       "</ul>\n",
       "</div>\n",
       "<div class=\"col-sm-6\">\n",
       "<ul class=\"nav nav-pills\" id=\"footer-nav\">\n",
       "<li class=\"\"><a href=\"/contact\">Contact Us</a></li>\n",
       "<li class=\"\"><a href=\"https://yoshops.com/products/teacher-partnership-program\" target=\"_blank\">Teacher Partnership</a></li>\n",
       "<li class=\"\"><a href=\"/p/coupon\">Coupon</a></li>\n",
       "<li class=\"\"><a href=\"https://yoshopes.blogspot.com/\" target=\"_blank\">Blogs</a></li>\n",
       "<li class=\"\"><a href=\"/terms\">Terms</a></li>\n",
       "</ul>\n",
       "</div>\n",
       "</div>\n",
       "<div class=\"row footer-extra\">\n",
       "<div class=\"col-sm-12\">\n",
       "<div class=\"connect\">\n",
       "<div id=\"email-widget-wrapper\">\n",
       "<form class=\"email-widget\">\n",
       "<label class=\"label-medium\">Join our email list</label>\n",
       "<div class=\"input-row clearfix\">\n",
       "<input class=\"email-input\" name=\"email\" placeholder=\"Email\"/>\n",
       "<button type=\"submit\">\n",
       "<div class=\"common-icon-arrow-right\"></div>\n",
       "</button>\n",
       "<div class=\"email-error\"></div>\n",
       "</div>\n",
       "</form>\n",
       "<div class=\"email-success-wrapper\">\n",
       "<div class=\"inset\">\n",
       "<span class=\"common-icon-checkmark\"></span>\n",
       "<span class=\"email-success\"></span>\n",
       "</div>\n",
       "</div>\n",
       "</div>\n",
       "<div id=\"follow\">\n",
       "<!-- AddThis Follow BEGIN -->\n",
       "<div class=\"addthis_toolbox addthis_32x32_style addthis_default_style\">\n",
       "<a addthis:userid=\"yoshops\" class=\"addthis_button_facebook_follow\"></a>\n",
       "<a addthis:userid=\"Yoshops2\" class=\"addthis_button_twitter_follow\"></a>\n",
       "<a addthis:userid=\"yoshops_official\" class=\"addthis_button_instagram_follow\"></a>\n",
       "</div>\n",
       "<script type=\"text/javascript\">DeferredLoader.addScript(\"//s7.addthis.com/js/300/addthis_widget.js#pubid=xa-533ee0135d741799\");</script>\n",
       "<!-- AddThis Follow END -->\n",
       "</div>\n",
       "</div>\n",
       "<div class=\"\" id=\"payment-logos\">\n",
       "<img alt=\"CCAvenue\" class=\"payment-logo ccavenue\" src=\"//onlinestore.wsimg.com/assets/themes/__master/assets/images/ccavenue-6106f444fd1de155913cc1948aef2a816c31ad57ed7c63eb678598ed32833f36.png\"/>\n",
       "</div>\n",
       "<div id=\"copyright\">Copyright © 2022  Yoshops.com All Rights Reserved\n",
       "  \n",
       "</div>\n",
       "</div>\n",
       "</div>\n",
       "</div><!--End Container-->\n",
       "<script src=\"//onlinestore.wsimg.com/assets/themes/008/V1/assets/javascripts/jquery.min-ecbbc9517c3b45f88b889d98c6ad167995ed49522b7f2cf323e1b32700f236f0.js\" type=\"text/javascript\"></script>\n",
       "<script src=\"//onlinestore.wsimg.com/assets/themes/008/V1/assets/javascripts/bootstrap.min-a2f520692df7d377f513dfb135239e9be3dbb5b6613c4c603beb5665fe44a4e7.js\" type=\"text/javascript\"></script>\n",
       "<script src=\"//onlinestore.wsimg.com/assets/themes/__master/assets/javascripts/lib/jquery.bxslider.min-ff876bc21a7ce03a7320d5cc39e259a5723e82c7731e6349787b0c5dcec956b2.js\" type=\"text/javascript\"></script>\n",
       "<script src=\"//onlinestore.wsimg.com/assets/themes/008/V1/assets/javascripts/theme-65be81d433a1004344f905a9a8c9967b070bacacb21914806b5807f8f001dfbc.js\" type=\"text/javascript\"></script>\n",
       "<script src=\"//onlinestore.wsimg.com/assets/themes/__master/assets/javascripts/nemo-894c9cd4454700922d8f386355d6f97889b4bdbb9fce7c16cc2c91b37910f716.js\" type=\"text/javascript\"></script>\n",
       "<script src=\"//onlinestore.wsimg.com/assets/themes/__master/assets/javascripts/lib/email_widget-3fea23d6f7b44abec2f7caee63265280899b05245f4f19a46ab170b4637ad3fa.js\" type=\"text/javascript\"></script>\n",
       "<script>\n",
       "jQuery(function($) {\n",
       "  $(window).load( function() {\n",
       "    $('#slider-ph').hide();\n",
       "    $('.bxslider').show().bxSlider({\n",
       "      auto: true,\n",
       "      speed: 800,\n",
       "      pause: 10000,\n",
       "      mode: 'fade',\n",
       "      controls: false\n",
       "      \n",
       "    });\n",
       "  });\n",
       "});\n",
       "</script>\n",
       "<script>\n",
       "  window.CART_COUNT_ONE = \"View Cart (1 Item)\";\n",
       "  window.CART_COUNT_OTHER = \"View Cart (%count% Items)\";\n",
       "</script>\n",
       "<script>\n",
       "window.CART_COUNT_ONE = window.CART_COUNT_ONE || \"Cart&nbsp;(1)\";\n",
       "window.CART_COUNT_OTHER = window.CART_COUNT_OTHER || \"Cart&nbsp;(%count%)\";\n",
       "\n",
       "jQuery(function($) {\n",
       "  $(window).load( function() {\n",
       "    $.get(Nemo.getURL('cart_count'), function (data) {\n",
       "      var quantity = data.total_quantity || 0\n",
       "      if ($(\"#cart-count\").length) {\n",
       "        var countString = window.CART_COUNT_OTHER.replace('%count%', quantity);\n",
       "        if (quantity === 1 && window.CART_COUNT_ONE) {\n",
       "          countString = window.CART_COUNT_ONE;\n",
       "        }\n",
       "        $(\"#cart-count\").html(countString);\n",
       "      }\n",
       "      if (quantity > 0) {\n",
       "        if ($(\"#checkout-link\")) {\n",
       "          $(\"#checkout-link\").show();\n",
       "        }\n",
       "        if ($(\"#cart-display\")) {\n",
       "          $(\"#cart-display\").show();\n",
       "        }\n",
       "      }\n",
       "    });\n",
       "  });\n",
       "});\n",
       "</script>\n",
       "<script type=\"text/javascript\">\n",
       "  window.sfEventMap = {\n",
       "    // START checkout events\n",
       "\n",
       "    // Any page\n",
       "    'checkout_click_cart': ['nemo-storefront-checkout', 'click-cart'],\n",
       "    'checkout_click_checkout': ['nemo-storefront-checkout', 'click-checkout'],\n",
       "\n",
       "    // Any checkout page\n",
       "    'checkout_click_edit_cart': ['nemo-storefront-checkout', 'click-edit-cart'],\n",
       "    'checkout_click_progress_address': ['nemo-storefront-checkout', 'click-progress-address'],\n",
       "    'checkout_click_progress_payment': ['nemo-storefront-checkout', 'click-progress-payment'],\n",
       "    'checkout_receive_error': ['nemo-storefront-checkout', 'receive-error'],\n",
       "\n",
       "    // Cart page\n",
       "    'checkout_cart_click_checkout': ['nemo-storefront-checkout-cart', 'click-checkout'],\n",
       "    'checkout_cart_click_update': ['nemo-storefront-checkout-cart', 'click-update'],\n",
       "    'checkout_cart_click_keep_shopping': ['nemo-storefront-checkout-cart', 'click-keep-shopping'],\n",
       "\n",
       "    // Address page\n",
       "    'checkout_address_click_shipping_checkbox': ['nemo-storefront-checkout-address', 'click-shipping-address-is-same-as-billing-checkbox'],\n",
       "    'checkout_address_click_continue': ['nemo-storefront-checkout-address', 'click-continue'],\n",
       "    'checkout_address_click_return_to_store': ['nemo-storefront-checkout-address', 'click-return-to-store'],\n",
       "    'checkout_address_click_paypal_redirect_button': ['nemo-storefront-checkout-address', 'click-paypal-redirect-button'],\n",
       "\n",
       "    // Payment page\n",
       "    'checkout_payment_click_edit_shipping_address': ['nemo-storefront-checkout-payment', 'click-edit-shipping-address'],\n",
       "    'checkout_payment_click_edit_billing_address': ['nemo-storefront-checkout-payment', 'click-edit-billing-address'],\n",
       "    'checkout_payment_click_payment_method_radio_option': ['nemo-storefront-checkout-payment', 'click-payment-method-radio-option'],\n",
       "    'checkout_payment_click_place_order': ['nemo-storefront-checkout-payment', 'click-place-order'],\n",
       "    'checkout_payment_click_check_out_with_paypal_button': ['nemo-storefront-checkout-payment', 'click-check-out-with-paypal-button'],\n",
       "    'checkout_payment_click_check_out_with_mercado_pago_button': ['nemo-storefront-checkout-payment', 'click-check-out-with-mercado-pago-button'],\n",
       "    'checkout_payment_click_finalize_paypal_redirect_button': ['nemo-storefront-checkout-payment', 'click-finalize-paypal-redirect-button'],\n",
       "    'checkout_payment_click_apply_coupon': ['nemo-storefront-checkout-payment', 'click-apply-coupon'],\n",
       "    'checkout_payment_receive_stripe_error': ['nemo-storefront-checkout-payment', 'receive-stripe-error'],\n",
       "\n",
       "    // Confirm page\n",
       "    'checkout_confirm_click_return_to_store': ['nemo-storefront-checkout-confirm', 'click-return-to-store'],\n",
       "    'checkout_confirm_click_contact_us': ['nemo-storefront-checkout-confirm', 'click-contact-us']\n",
       "\n",
       "    // END checkout events\n",
       "  };\n",
       "\n",
       "  // Make the object immutable\n",
       "  Object.freeze(window.sfEventMap);\n",
       "</script>\n",
       "<script type=\"text/javascript\">\n",
       "  window.VISIBILITY_ANIMATION_SPEED = 300;\n",
       "  // Add GA to global cart icon and checkout link with JS since both are in unique files for every theme (i.e. due to laziness).\n",
       "  // However, theme 010 has a different header structure, so the data-ga label for the checkout link was added onto the element in the liquid file.\n",
       "  var $cartIcon = $('a#cart-info[href=\"/cart\"]');\n",
       "  var $cartIconWrapper;\n",
       "\n",
       "  if ($cartIcon && $cartIcon.length) {\n",
       "    $cartIcon.attr('data-ga', 'checkout_click_cart');\n",
       "  } else {\n",
       "    $cartIconWrapper = $('#cart-info');\n",
       "    $cartIconWrapper.find('a[href=\"/cart\"]').attr('data-ga', 'checkout_click_cart');\n",
       "    $cartIconWrapper.find('a[href=\"/checkout\"]').attr('data-ga', 'checkout_click_checkout');\n",
       "  }\n",
       "\n",
       "  // START Google Analytics\n",
       "  (function(i,s,o,g,r,a,m){i['GoogleAnalyticsObject']=r;i[r]=i[r]||function(){\n",
       "  (i[r].q=i[r].q||[]).push(arguments)},i[r].l=1*new Date();a=s.createElement(o),\n",
       "  m=s.getElementsByTagName(o)[0];a.async=1;a.src=g;m.parentNode.insertBefore(a,m)\n",
       "  })(window,document,'script','//www.google-analytics.com/analytics.js','ga');\n",
       "\n",
       "  // Create GA tracker for Nemo Product Manager to track the storefront\n",
       "  ga('create', 'UA-85190973-1', 'auto', 'nemoPmTracker');\n",
       "\n",
       "  \n",
       "    // Create GA tracker for merchant\n",
       "    ga('create', 'UA-87949983-1', 'auto', {\n",
       "      name: 'merchantTracker',\n",
       "      allowLinker: true\n",
       "    });\n",
       "    ga('merchantTracker.require', 'linker'); // Load the plugin.\n",
       "    ga('merchantTracker.linker:autoLink', ['yoshops.com', 'mysimplestore.com']); // Define which domains to autoLink.\n",
       "    ga('merchantTracker.send', 'pageview');\n",
       "  \n",
       "\n",
       "  window.trackEvent = function (eventKey, label) {\n",
       "    if (typeof window.sfEventMap !== 'undefined') {\n",
       "      var eventValue = window.sfEventMap[eventKey];\n",
       "\n",
       "      if (!eventValue) {\n",
       "        return;\n",
       "      }\n",
       "\n",
       "      ga('nemoPmTracker.send', {\n",
       "        hitType: 'event',\n",
       "        eventCategory: eventValue[0],\n",
       "        eventAction: eventValue[1],\n",
       "        eventLabel: label\n",
       "      });\n",
       "    }\n",
       "  };\n",
       "\n",
       "  window.trackPageview = function (pagePath) {\n",
       "    if (!pagePath) {\n",
       "      return;\n",
       "    }\n",
       "\n",
       "    ga('nemoPmTracker.send', {\n",
       "      hitType: 'pageview',\n",
       "      page: pagePath\n",
       "    });\n",
       "  };\n",
       "  // END Google Analytics\n",
       "\n",
       "    if ($) {\n",
       "      // Listener for GA\n",
       "      $(document).ready(function () {\n",
       "        $(document).on('click', '[data-ga], [data-ga][data-ga-label]', function () {\n",
       "          var key = $(this).attr('data-ga');\n",
       "          var label = $(this).attr('data-ga-label');\n",
       "          window.trackEvent(key, label);\n",
       "        });\n",
       "      });\n",
       "\n",
       "      // GA: Track pageview for checkout pages and order confirmation page\n",
       "      \n",
       "\n",
       "      // GA: Track error event in checkout\n",
       "      \n",
       "\n",
       "      $.ajaxSetup({\n",
       "          headers: {\n",
       "              'X-CSRF-Token': $('meta[name=\"csrf-token\"]').attr('content')\n",
       "          }\n",
       "      });\n",
       "\n",
       "\n",
       "      \n",
       "\n",
       "      // Cart remove logic\n",
       "      $(document).on('click', '.cart-remove', function () {\n",
       "          var $form = $(this).closest('form'),\n",
       "              $quantity = $(this).closest('tr').find('.cart-quantity');\n",
       "\n",
       "          $('.cart-remove').addClass('cart-remove-disable')\n",
       "          $form.find('button').attr('disabled', 'disabled');\n",
       "          $quantity.val(0);\n",
       "          $form.submit();\n",
       "      });\n",
       "\n",
       "      // Attach a submit handler to the contact form\n",
       "      $(document).on('submit', '#contact-form', function (event) {\n",
       "          //Stop normal form submision\n",
       "          event.preventDefault();\n",
       "          var formData =  $('#contact-form').serialize();\n",
       "\n",
       "          Nemo.submitFormData({\n",
       "              data: formData,\n",
       "              method: \"POST\",\n",
       "              always: function (res) {\n",
       "                  if (res) {\n",
       "                      $('#contact-form-box').replaceWith(res);\n",
       "                  }\n",
       "              }\n",
       "          });\n",
       "\n",
       "          return false;\n",
       "      });\n",
       "    }\n",
       "</script>\n",
       "<script src=\"//onlinestore.wsimg.com/assets/themes/__master/assets/javascripts/lib/jquery.cookie-e9703d26744209e6a8c89c89a2b129f1c860fd708a1d958f6a6056c79b82ccb3.js\" type=\"text/javascript\"></script>\n",
       "<script type=\"text/javascript\">DeferredLoader.addScript(\"//staticw2.yotpo.com/blvTZfFxLLY4ORJETmn8JsqzVHfudrJxLDPnwDXb/widget.js\");</script>\n",
       "<img src=\"https://isteam.wsimg.com/ip/a8efe83b-6857-477d-9d0f-f13ca0229a20/ols/2292_original/:/rs=w:800,h:800\" style=\"box-sizing: border-box; border: 0px none; max-width: 100%; height: 144.601px; width: 332.583px;\"/>\n",
       "<div class=\"as-track-button\" data-domain=\"yoshops.aftership.com\" data-size=\"normal\"></div>\n",
       "<a href=\"https://goo.gl/Bkt2Uj\" target=\"_blank\">\n",
       "<div><img src=\"https://nebula.wsimg.com/obj/RjE0MTAzNDhCNkMzQ0Y1MzE2ODc6MzI1YmZlYzIyNDk3YTEzN2RkYTNlMThhYzRiYmVmZmU6Ojo6OjA=\" style=\"width: 304px;\"/><br/></div></a>\n",
       "<script type=\"text/javascript\">\n",
       "    window.smartlook||(function(d) {\n",
       "    var o=smartlook=function(){ o.api.push(arguments)},h=d.getElementsByTagName('head')[0];\n",
       "    var c=d.createElement('script');o.api=new Array();c.async=true;c.type='text/javascript';\n",
       "    c.charset='utf-8';c.src='https://rec.smartlook.com/recorder.js';h.appendChild(c);\n",
       "    })(document);\n",
       "    smartlook('init', '012ad59964ba098eb1064336f00d5d9e40f5f837');\n",
       "</script>\n",
       "<img src=\"https://isteam.wsimg.com/ip/a8efe83b-6857-477d-9d0f-f13ca0229a20/ols/2293_original/:/rs=w:800,h:800\" style=\"box-sizing: border-box; border: 0px; max-width: 100%; height: auto;\"/>\n",
       "<img src=\"https://isteam.wsimg.com/ip/a8efe83b-6857-477d-9d0f-f13ca0229a20/ols/2147_original/:/rs=w:800,h:800\" style=\"box-sizing: border-box; border: 0px; max-width: 100%; height: auto;\"/>\n",
       "<!--Start of Tawk.to Script-->\n",
       "<script type=\"text/javascript\">\n",
       "var Tawk_API=Tawk_API||{}, Tawk_LoadStart=new Date();\n",
       "(function(){\n",
       "var s1=document.createElement(\"script\"),s0=document.getElementsByTagName(\"script\")[0];\n",
       "s1.async=true;\n",
       "s1.src='https://embed.tawk.to/5a0424fc198bd56b8c03a242/default';\n",
       "s1.charset='UTF-8';\n",
       "s1.setAttribute('crossorigin','*');\n",
       "s0.parentNode.insertBefore(s1,s0);\n",
       "})();\n",
       "</script>\n",
       "<!--End of Tawk.to Script-->\n",
       "<!-- GetButton.io widget -->\n",
       "<script type=\"text/javascript\">\n",
       "    (function () {\n",
       "        var options = {\n",
       "            whatsapp: \"+91(9080)749858\", // WhatsApp number\n",
       "            call_to_action: \"Message us\", // Call to action\n",
       "            position: \"left\", // Position may be 'right' or 'left'\n",
       "        };\n",
       "        var proto = document.location.protocol, host = \"getbutton.io\", url = proto + \"//static.\" + host;\n",
       "        var s = document.createElement('script'); s.type = 'text/javascript'; s.async = true; s.src = url + '/widget-send-button/js/init.js';\n",
       "        s.onload = function () { WhWidgetSendButton.init(host, proto, options); };\n",
       "        var x = document.getElementsByTagName('script')[0]; x.parentNode.insertBefore(s, x);\n",
       "    })();\n",
       "</script>\n",
       "<!-- /GetButton.io widget -->\n",
       "<script>\n",
       "  (function() {\n",
       "    var sa = document.createElement('script'); sa.type = 'text/javascript'; sa.async = true;\n",
       "    sa.src = ('https:' == document.location.protocol ? 'https://cdn' : 'http://cdn') + '.ywxi.net/js/1.js';\n",
       "    var s = document.getElementsByTagName('script')[0]; s.parentNode.insertBefore(sa, s);\n",
       "  })();\n",
       "</script>\n",
       "<script>\n",
       "              \"undefined\"==typeof _trfd&&(window._trfd=[]),\n",
       "              _trfd.push({\"tccl.baseHost\":\"secureserver.net\"});\n",
       "              _trfd.push({\"ap\":\"OLS\"});\n",
       "              \n",
       "            </script>\n",
       "<script src=\"//img1.wsimg.com/tcc/tcc_l.combined.1.0.6.min.js\">\n",
       "</script>\n",
       "<ins class=\"adsbygoogle adsbygoogle-noablate\" data-adsbygoogle-status=\"done\" style=\"display: none !important;\"><div aria-label=\"Advertisement\" id=\"aswift_0_host\" style=\"border: none; height: 0px; width: 0px; margin: 0px; padding: 0px; position: relative; visibility: visible; background-color: transparent; display: inline-block;\" tabindex=\"0\" title=\"Advertisement\"><iframe allowtransparency=\"true\" data-google-container-id=\"a!1\" data-load-complete=\"true\" frameborder=\"0\" hspace=\"0\" id=\"aswift_0\" marginheight=\"0\" marginwidth=\"0\" name=\"aswift_0\" sandbox=\"allow-forms allow-popups allow-popups-to-escape-sandbox allow-same-origin allow-scripts allow-top-navigation-by-user-activation\" scrolling=\"no\" src=\"https://googleads.g.doubleclick.net/pagead/ads?client=ca-pub-2880440375789047&amp;output=html&amp;adk=1812271804&amp;adf=3025194257&amp;lmt=1672210766&amp;plat=3%3A65536%2C4%3A65536%2C9%3A32776%2C16%3A8388608%2C17%3A32%2C24%3A32%2C25%3A32%2C30%3A1048576%2C32%3A32%2C41%3A32&amp;format=0x0&amp;url=https%3A%2F%2Fyoshops.com%2F&amp;ea=0&amp;pra=5&amp;wgl=1&amp;uach=WyJXaW5kb3dzIiwiMTUuMC4wIiwieDg2IiwiIiwiMTA4LjAuNTM1OS4xMjUiLFtdLGZhbHNlLG51bGwsIjY0IixbWyJOb3Q_QV9CcmFuZCIsIjguMC4wLjAiXSxbIkNocm9taXVtIiwiMTA4LjAuNTM1OS4xMjUiXSxbIkdvb2dsZSBDaHJvbWUiLCIxMDguMC41MzU5LjEyNSJdXSxmYWxzZV0.&amp;dt=1672210762656&amp;bpp=6&amp;bdt=1649&amp;idt=3429&amp;shv=r20221207&amp;mjsv=m202212060101&amp;ptt=9&amp;saldr=aa&amp;abxe=1&amp;nras=1&amp;correlator=647289135584&amp;frm=20&amp;pv=2&amp;ga_vid=1623000220.1672210763&amp;ga_sid=1672210766&amp;ga_hid=521732998&amp;ga_fc=1&amp;u_tz=330&amp;u_his=2&amp;u_h=864&amp;u_w=1536&amp;u_ah=816&amp;u_aw=1536&amp;u_cd=24&amp;u_sd=1.25&amp;dmc=8&amp;adx=-12245933&amp;ady=-12245933&amp;biw=1019&amp;bih=666&amp;scr_x=0&amp;scr_y=0&amp;eid=44759875%2C44759926%2C44759842%2C44767166%2C31071250%2C31071259%2C44779793%2C44780792&amp;oid=2&amp;pvsid=1463608547480230&amp;tmod=33283051&amp;uas=0&amp;nvt=1&amp;eae=2&amp;fc=1920&amp;brdim=9%2C9%2C9%2C9%2C1536%2C0%2C1051%2C798%2C1036%2C666&amp;vis=1&amp;rsz=%7C%7Cs%7C&amp;abl=NS&amp;fu=32768&amp;bc=31&amp;ifi=1&amp;uci=a!1&amp;fsb=1&amp;dtd=3446\" style=\"left:0;position:absolute;top:0;border:0;width:undefinedpx;height:undefinedpx;\" vspace=\"0\"></iframe></div></ins><div id=\"gb-widget-4613\" style=\"bottom: 14px; left: 16px; opacity: 1; transition: opacity 0.5s ease 0s; box-sizing: border-box; direction: ltr; text-align: left; position: fixed !important; z-index: 16000160 !important;\"><div class=\"q8c6tt-2 fiKefb\"><a class=\"q8c6tt-0 jmDuqF\" color=\"#4dc247\" href=\"https://wa.me/919080749858\" id=\"\" size=\"50\" target=\"_blank\"><svg style=\"width: 100%; height: 100%; fill: rgb(255, 255, 255); stroke: none;\" viewbox=\"0 0 32 32\" xmlns=\"http://www.w3.org/2000/svg\" xmlns:xlink=\"http://www.w3.org/1999/xlink\"><path d=\"M19.11 17.205c-.372 0-1.088 1.39-1.518 1.39a.63.63 0 0 1-.315-.1c-.802-.402-1.504-.817-2.163-1.447-.545-.516-1.146-1.29-1.46-1.963a.426.426 0 0 1-.073-.215c0-.33.99-.945.99-1.49 0-.143-.73-2.09-.832-2.335-.143-.372-.214-.487-.6-.487-.187 0-.36-.043-.53-.043-.302 0-.53.115-.746.315-.688.645-1.032 1.318-1.06 2.264v.114c-.015.99.472 1.977 1.017 2.78 1.23 1.82 2.506 3.41 4.554 4.34.616.287 2.035.888 2.722.888.817 0 2.15-.515 2.478-1.318.13-.33.244-.73.244-1.088 0-.058 0-.144-.03-.215-.1-.172-2.434-1.39-2.678-1.39zm-2.908 7.593c-1.747 0-3.48-.53-4.942-1.49L7.793 24.41l1.132-3.337a8.955 8.955 0 0 1-1.72-5.272c0-4.955 4.04-8.995 8.997-8.995S25.2 10.845 25.2 15.8c0 4.958-4.04 8.998-8.998 8.998zm0-19.798c-5.96 0-10.8 4.842-10.8 10.8 0 1.964.53 3.898 1.546 5.574L5 27.176l5.974-1.92a10.807 10.807 0 0 0 16.03-9.455c0-5.958-4.842-10.8-10.802-10.8z\"></path></svg></a></div><div class=\"sbsi7l-0 eARkMz\" size=\"50\"><div class=\"sc-1au8ryl-0 dmopMx\"><svg viewbox=\"0 0 58.16 10.15\" xmlns=\"http://www.w3.org/2000/svg\"><path d=\"M2.49,6.42,1.65,9.75c-.09.27.18.54.4.21L3.68,7.89A5.49,5.49,0,0,0,4.76,8C7.4,8,9.53,6.21,9.53,4S7.4,0,4.76,0,0,1.79,0,4A3.47,3.47,0,0,0,.24,5.25a.45.45,0,0,0,.49.18,7.07,7.07,0,0,0,.7-.26s.24-.1.19-.48h0A2,2,0,0,1,1.49,4C1.49,2.62,3,1.5,4.76,1.5S8,2.62,8,4,6.57,6.5,4.76,6.5a4.06,4.06,0,0,1-1.68-.36A.49.49,0,0,0,2.49,6.42Z\" fill=\"#afafaf\"></path><path d=\"M11.12,10.15H11l-1.49-.9a5.45,5.45,0,0,1-2.4.6,4.16,4.16,0,0,1-2.27-.62L5,9.17c2.22,0,5.43-1.66,5.61-4.37h0a3,3,0,0,1,.57,1.86,2.33,2.33,0,0,1-.65,1.64l.52,1.29s.22.44.16.51-.06.05-.11.05Z\" fill=\"#afafaf\"></path><path d=\"M49.84,3.21h0a2.33,2.33,0,0,1,2.32,2.34v1.3a2.33,2.33,0,0,1-2.32,2.33h0a2.34,2.34,0,0,1-2.33-2.33V5.55A2.34,2.34,0,0,1,49.84,3.21Zm0,1.16h0a1,1,0,0,1,1,1V7a1,1,0,0,1-1,1h0a1,1,0,0,1-1-1V5.39A1,1,0,0,1,49.84,4.37Z\" fill=\"#afafaf\" fill-rule=\"evenodd\"></path><path d=\"M55.83,3.21h0a2.34,2.34,0,0,1,2.33,2.34V9.06H56.84V5.39a1,1,0,0,0-1-1h0a1,1,0,0,0-1,1V9.06H53.5V5.55A2.34,2.34,0,0,1,55.83,3.21Z\" fill=\"#afafaf\"></path><path d=\"M36.93,9.06h0a2.33,2.33,0,0,0,2.33-2.32V3.21H37.94V6.9a1,1,0,0,1-1,1h0a1,1,0,0,1-1-1V3.21H34.6V6.74A2.33,2.33,0,0,0,36.93,9.06Z\" fill=\"#afafaf\"></path><polygon fill=\"#afafaf\" points=\"43.2 3.37 42.12 3.37 42.12 1.79 40.97 1.79 40.97 3.37 39.91 3.37 40.26 4.39 40.97 4.39 40.97 9.03 42.12 9.03 42.12 4.39 43.2 4.39 43.2 3.37\"></polygon><polygon fill=\"#afafaf\" points=\"46.76 3.37 45.67 3.37 45.67 1.79 44.52 1.79 44.52 3.37 43.47 3.37 43.81 4.39 44.52 4.39 44.52 9.03 45.67 9.03 45.67 4.39 46.76 4.39 46.76 3.37\"></polygon><path d=\"M28.56,1.73H30.9a3.48,3.48,0,0,1,1.34.18,1.53,1.53,0,0,1,.66.63,2.11,2.11,0,0,1,.27,1,2,2,0,0,1-.23.95,1.6,1.6,0,0,1-.59.64,1.49,1.49,0,0,1,.8.64,2.09,2.09,0,0,1,.3,1.11,2.31,2.31,0,0,1-.38,1.35,1.54,1.54,0,0,1-.88.68A9,9,0,0,1,30.54,9h-2ZM29.73,3V4.64h.78a7.06,7.06,0,0,0,.87,0,.71.71,0,0,0,.47-.26A.86.86,0,0,0,32,3.77a.91.91,0,0,0-.14-.52A.64.64,0,0,0,31.55,3a8.16,8.16,0,0,0-1.14,0Zm0,2.9V7.79h1.1a3.49,3.49,0,0,0,.92-.07.71.71,0,0,0,.35-.3,1.13,1.13,0,0,0,.13-.58,1.2,1.2,0,0,0-.14-.59.88.88,0,0,0-.4-.32,4.1,4.1,0,0,0-1-.08Z\" fill=\"#afafaf\"></path><polygon fill=\"#afafaf\" points=\"27.56 3.37 26.47 3.37 26.47 1.79 25.32 1.79 25.32 3.37 24.27 3.37 24.62 4.39 25.32 4.39 25.32 9.03 26.47 9.03 26.47 4.39 27.56 4.39 27.56 3.37\"></polygon><path d=\"M21.49,3.21h0a2.34,2.34,0,0,1,2.33,2.34v1H20.48V7c0,1.25,1.94,1.19,2.3.72l1,.72c-1.13,1.36-4.59.87-4.59-1.61V5.55A2.34,2.34,0,0,1,21.49,3.21Zm-1,2.38h2v-.2a1,1,0,0,0-1-1h0a1,1,0,0,0-1,1Z\" fill=\"#afafaf\"></path><path d=\"M17.27,3.05a3.82,3.82,0,0,0-2.68,0,1.14,1.14,0,0,0-.5.79h0V6.86a1.17,1.17,0,0,0,1.06,1,3.9,3.9,0,0,0,1.54-.09V6.12H15.9V4.77H18v3.4a.64.64,0,0,1-.31.64,4.55,4.55,0,0,1-2.73.4A2.52,2.52,0,0,1,12.75,7V3.79h0a2.67,2.67,0,0,1,1.14-1.92l0,0c1.56-.91,3.82,0,3.83,0Z\" fill=\"#afafaf\"></path></svg></div></div></div><ins class=\"adsbygoogle adsbygoogle-noablate\" data-ad-status=\"filled\" data-adsbygoogle-status=\"done\" data-anchor-status=\"ready-to-display\" style=\"display: block; width: 100% !important; height: 129px !important; bottom: -25.4899px; clear: none !important; float: none !important; left: 0px; margin: 0px !important; max-height: none !important; max-width: none !important; opacity: 1; overflow: visible !important; padding: 0px !important; position: fixed; right: auto !important; top: auto !important; vertical-align: baseline !important; visibility: visible !important; z-index: 2147483647; background: rgb(250, 250, 250) !important;\"><div class=\"grippy-host\"></div><div aria-label=\"Advertisement\" id=\"aswift_6_host\" style=\"border: none !important; height: 124px !important; width: 100% !important; margin: 0px !important; padding: 0px !important; position: relative !important; visibility: visible !important; background-color: transparent !important; display: inline-block !important; inset: auto !important; clear: none !important; float: none !important; max-height: none !important; max-width: none !important; opacity: 1 !important; overflow: visible !important; vertical-align: baseline !important; z-index: auto !important;\" tabindex=\"0\" title=\"Advertisement\"><iframe allowtransparency=\"true\" data-google-container-id=\"a!7\" data-google-query-id=\"COfGxcXem_wCFcvFTAIdzaACkw\" data-load-complete=\"true\" frameborder=\"0\" height=\"124\" hspace=\"0\" id=\"aswift_6\" marginheight=\"0\" marginwidth=\"0\" name=\"aswift_6\" sandbox=\"allow-forms allow-popups allow-popups-to-escape-sandbox allow-same-origin allow-scripts allow-top-navigation-by-user-activation\" scrolling=\"no\" src=\"https://googleads.g.doubleclick.net/pagead/html/r20221207/r20110914/zrt_lookup.html?fsb=1#RS-1-&amp;adk=1812271801&amp;client=ca-pub-2880440375789047&amp;fa=1&amp;ifi=7&amp;uci=a!7&amp;btvi=3&amp;xpc=naFaZLouOz&amp;p=https%3A//yoshops.com\" style=\"width: 1005px !important; height: 124px !important; display: block; margin: 0px auto;\" vspace=\"0\" width=\"1005\"></iframe></div></ins><script src=\"//s7.addthis.com/js/300/addthis_widget.js#pubid=xa-533ee0135d741799\"></script><script src=\"//staticw2.yotpo.com/blvTZfFxLLY4ORJETmn8JsqzVHfudrJxLDPnwDXb/widget.js\"></script></body><iframe id=\"google_esf\" name=\"google_esf\" src=\"https://googleads.g.doubleclick.net/pagead/html/r20221207/r20190131/zrt_lookup.html\" style=\"display: none;\"></iframe><ins aria-hidden=\"true\" class=\"adsbygoogle adsbygoogle-noablate\" data-ad-status=\"filled\" data-adsbygoogle-status=\"done\" data-vignette-loaded=\"true\" style=\"display: none !important; width: 100vw !important; height: 100vh !important; inset: 0px auto auto 0px !important; clear: none !important; float: none !important; margin: 0px !important; max-height: none !important; max-width: none !important; opacity: 1 !important; overflow: visible !important; padding: 0px !important; position: fixed !important; vertical-align: baseline !important; visibility: visible !important; z-index: 2147483647 !important; background: transparent !important;\"><div aria-label=\"Advertisement\" id=\"aswift_5_host\" style=\"border: none !important; height: 100vh !important; width: 100vw !important; margin: 0px !important; padding: 0px !important; position: relative !important; visibility: visible !important; background-color: transparent !important; display: inline-block !important; inset: auto !important; clear: none !important; float: none !important; max-height: none !important; max-width: none !important; opacity: 1 !important; overflow: visible !important; vertical-align: baseline !important; z-index: auto !important;\" tabindex=\"0\" title=\"Advertisement\"><iframe allowtransparency=\"true\" data-google-container-id=\"a!6\" data-google-query-id=\"CObGxcXem_wCFcvFTAIdzaACkw\" data-load-complete=\"true\" frameborder=\"0\" height=\"\" hspace=\"0\" id=\"aswift_5\" marginheight=\"0\" marginwidth=\"0\" name=\"aswift_5\" sandbox=\"allow-forms allow-popups allow-popups-to-escape-sandbox allow-same-origin allow-scripts allow-top-navigation-by-user-activation\" scrolling=\"no\" src=\"https://googleads.g.doubleclick.net/pagead/html/r20221207/r20110914/zrt_lookup.html?fsb=1#RS-0-&amp;adk=1812271808&amp;client=ca-pub-2880440375789047&amp;fa=8&amp;ifi=6&amp;uci=a!6&amp;xpc=9rMxea8wLE&amp;p=https%3A//yoshops.com\" style=\"width: 100vw !important; height: 100vh !important; inset: 0px auto auto 0px !important; position: absolute !important; clear: none !important; display: inline !important; float: none !important; margin: 0px !important; max-height: none !important; max-width: none !important; opacity: 1 !important; overflow: visible !important; padding: 0px !important; vertical-align: baseline !important; visibility: visible !important; z-index: auto !important;\" vspace=\"0\" width=\"\"></iframe></div></ins></html>"
      ]
     },
     "execution_count": 8,
     "metadata": {},
     "output_type": "execute_result"
    }
   ],
   "source": [
    "src2"
   ]
  },
  {
   "cell_type": "code",
   "execution_count": 9,
   "id": "454e46ad",
   "metadata": {
    "ExecuteTime": {
     "end_time": "2022-12-28T06:59:27.987105Z",
     "start_time": "2022-12-28T06:59:27.973971Z"
    }
   },
   "outputs": [],
   "source": [
    "src3=src2.find('div',{'class' : \"collapse navbar-collapse\" })"
   ]
  },
  {
   "cell_type": "code",
   "execution_count": 10,
   "id": "3c00c9df",
   "metadata": {
    "ExecuteTime": {
     "end_time": "2022-12-28T06:59:28.001948Z",
     "start_time": "2022-12-28T06:59:27.990312Z"
    }
   },
   "outputs": [
    {
     "data": {
      "text/plain": [
       "<div class=\"collapse navbar-collapse\" id=\"main-nav\">\n",
       "<ul class=\"nav navbar-nav navbar-right\">\n",
       "<li class=\"dropdown\">\n",
       "<a class=\"dropdown-toggle\" data-toggle=\"dropdown\" href=\"/products\">SHOP <span class=\"caret\"></span></a>\n",
       "<ul class=\"dropdown-menu\" id=\"nav-cat-list\">\n",
       "<li class=\"view-all\"><a href=\"/products\">View All</a></li>\n",
       "<li class=\"divider\" role=\"presentation\"></li>\n",
       "<li>\n",
       "<a href=\"/t/toys\">Toys &amp; Games</a>\n",
       "</li>\n",
       "<li>\n",
       "<a href=\"/t/mobile-phones\">Mobiles</a>\n",
       "</li>\n",
       "<li>\n",
       "<a href=\"/t/laptops\">Laptops</a>\n",
       "</li>\n",
       "<li>\n",
       "<a href=\"/t/accessories\">Accessories</a>\n",
       "</li>\n",
       "<li>\n",
       "<a href=\"/t/electronics\">Electronics</a>\n",
       "</li>\n",
       "<li>\n",
       "<a href=\"/t/home--kitchen\">Home &amp; Kitchen</a>\n",
       "</li>\n",
       "<li>\n",
       "<a href=\"/t/fashion\">Fashion</a>\n",
       "</li>\n",
       "<li>\n",
       "<a href=\"/t/food\">Foods</a>\n",
       "</li>\n",
       "<li>\n",
       "<a href=\"/t/Services\">Services</a>\n",
       "</li>\n",
       "</ul>\n",
       "</li>\n",
       "<li class=\"\"><a href=\"/about\">ABOUT US</a></li>\n",
       "<li class=\"\"><a href=\"/contact\">CONTACT US</a></li>\n",
       "<li class=\"\"><a href=\"/p/staffing\">CAREERS</a></li>\n",
       "<li class=\"\"><a href=\"https://yoshops.com/products/franchise-cum-investment-program\">FRANCHISE</a></li>\n",
       "<li class=\"\"><a href=\"https://yoshops.com/products/yoshops-referral-gift\" target=\"_blank\">REFER &amp; EARN</a></li>\n",
       "<li class=\"\"><a href=\"/p/finance\">FINANCE</a></li>\n",
       "<li class=\"\"><a href=\"https://yoshops.aftership.com/\">TRACK Your ORDER</a></li>\n",
       "<li class=\"\"><a href=\"/p/return\">RETURN</a></li>\n",
       "<li class=\"active\"><a href=\"/\">HOME</a></li>\n",
       "</ul>\n",
       "</div>"
      ]
     },
     "execution_count": 10,
     "metadata": {},
     "output_type": "execute_result"
    }
   ],
   "source": [
    "src3"
   ]
  },
  {
   "cell_type": "code",
   "execution_count": 11,
   "id": "1ebafcc4",
   "metadata": {
    "ExecuteTime": {
     "end_time": "2022-12-28T06:59:28.017537Z",
     "start_time": "2022-12-28T06:59:28.002992Z"
    }
   },
   "outputs": [],
   "source": [
    "src4= src3.find('ul', {\"class\":\"dropdown-menu\"})"
   ]
  },
  {
   "cell_type": "code",
   "execution_count": 12,
   "id": "89dedf09",
   "metadata": {
    "ExecuteTime": {
     "end_time": "2022-12-28T06:59:28.032957Z",
     "start_time": "2022-12-28T06:59:28.019649Z"
    }
   },
   "outputs": [
    {
     "data": {
      "text/plain": [
       "<ul class=\"dropdown-menu\" id=\"nav-cat-list\">\n",
       "<li class=\"view-all\"><a href=\"/products\">View All</a></li>\n",
       "<li class=\"divider\" role=\"presentation\"></li>\n",
       "<li>\n",
       "<a href=\"/t/toys\">Toys &amp; Games</a>\n",
       "</li>\n",
       "<li>\n",
       "<a href=\"/t/mobile-phones\">Mobiles</a>\n",
       "</li>\n",
       "<li>\n",
       "<a href=\"/t/laptops\">Laptops</a>\n",
       "</li>\n",
       "<li>\n",
       "<a href=\"/t/accessories\">Accessories</a>\n",
       "</li>\n",
       "<li>\n",
       "<a href=\"/t/electronics\">Electronics</a>\n",
       "</li>\n",
       "<li>\n",
       "<a href=\"/t/home--kitchen\">Home &amp; Kitchen</a>\n",
       "</li>\n",
       "<li>\n",
       "<a href=\"/t/fashion\">Fashion</a>\n",
       "</li>\n",
       "<li>\n",
       "<a href=\"/t/food\">Foods</a>\n",
       "</li>\n",
       "<li>\n",
       "<a href=\"/t/Services\">Services</a>\n",
       "</li>\n",
       "</ul>"
      ]
     },
     "execution_count": 12,
     "metadata": {},
     "output_type": "execute_result"
    }
   ],
   "source": [
    "src4"
   ]
  },
  {
   "cell_type": "code",
   "execution_count": 13,
   "id": "6064ad07",
   "metadata": {
    "ExecuteTime": {
     "end_time": "2022-12-28T06:59:28.049022Z",
     "start_time": "2022-12-28T06:59:28.034958Z"
    }
   },
   "outputs": [],
   "source": [
    "src5=src4.find_all('a')"
   ]
  },
  {
   "cell_type": "code",
   "execution_count": 14,
   "id": "2f378e22",
   "metadata": {
    "ExecuteTime": {
     "end_time": "2022-12-28T06:59:28.064947Z",
     "start_time": "2022-12-28T06:59:28.050069Z"
    }
   },
   "outputs": [
    {
     "data": {
      "text/plain": [
       "[<a href=\"/products\">View All</a>,\n",
       " <a href=\"/t/toys\">Toys &amp; Games</a>,\n",
       " <a href=\"/t/mobile-phones\">Mobiles</a>,\n",
       " <a href=\"/t/laptops\">Laptops</a>,\n",
       " <a href=\"/t/accessories\">Accessories</a>,\n",
       " <a href=\"/t/electronics\">Electronics</a>,\n",
       " <a href=\"/t/home--kitchen\">Home &amp; Kitchen</a>,\n",
       " <a href=\"/t/fashion\">Fashion</a>,\n",
       " <a href=\"/t/food\">Foods</a>,\n",
       " <a href=\"/t/Services\">Services</a>]"
      ]
     },
     "execution_count": 14,
     "metadata": {},
     "output_type": "execute_result"
    }
   ],
   "source": [
    "src5"
   ]
  },
  {
   "cell_type": "code",
   "execution_count": 15,
   "id": "e50cb5b8",
   "metadata": {
    "ExecuteTime": {
     "end_time": "2022-12-28T06:59:28.080255Z",
     "start_time": "2022-12-28T06:59:28.066001Z"
    }
   },
   "outputs": [],
   "source": [
    "src6=list(src5)"
   ]
  },
  {
   "cell_type": "code",
   "execution_count": 16,
   "id": "67778c56",
   "metadata": {
    "ExecuteTime": {
     "end_time": "2022-12-28T06:59:28.095468Z",
     "start_time": "2022-12-28T06:59:28.082257Z"
    }
   },
   "outputs": [],
   "source": [
    "for i in range(len(src6)):\n",
    "    src6[i]=src6[i].attrs"
   ]
  },
  {
   "cell_type": "code",
   "execution_count": 17,
   "id": "ecf110f0",
   "metadata": {
    "ExecuteTime": {
     "end_time": "2022-12-28T06:59:28.111183Z",
     "start_time": "2022-12-28T06:59:28.098468Z"
    }
   },
   "outputs": [
    {
     "data": {
      "text/plain": [
       "[{'href': '/products'},\n",
       " {'href': '/t/toys'},\n",
       " {'href': '/t/mobile-phones'},\n",
       " {'href': '/t/laptops'},\n",
       " {'href': '/t/accessories'},\n",
       " {'href': '/t/electronics'},\n",
       " {'href': '/t/home--kitchen'},\n",
       " {'href': '/t/fashion'},\n",
       " {'href': '/t/food'},\n",
       " {'href': '/t/Services'}]"
      ]
     },
     "execution_count": 17,
     "metadata": {},
     "output_type": "execute_result"
    }
   ],
   "source": [
    "src6"
   ]
  },
  {
   "cell_type": "code",
   "execution_count": 18,
   "id": "2fba90ab",
   "metadata": {
    "ExecuteTime": {
     "end_time": "2022-12-28T06:59:28.127110Z",
     "start_time": "2022-12-28T06:59:28.112288Z"
    },
    "scrolled": true
   },
   "outputs": [],
   "source": [
    "q=[]"
   ]
  },
  {
   "cell_type": "code",
   "execution_count": 19,
   "id": "c317805b",
   "metadata": {
    "ExecuteTime": {
     "end_time": "2022-12-28T06:59:28.142686Z",
     "start_time": "2022-12-28T06:59:28.129396Z"
    }
   },
   "outputs": [],
   "source": [
    "for i in range(len(src6)):\n",
    "    s0=src6[i].values()\n",
    "    s0=str(s0)\n",
    "    s0=s0.partition('/')\n",
    "    s0=s0[2]\n",
    "    s0=s0.partition(\"'\")\n",
    "    s0=s0[0]\n",
    "    q.append(s0)"
   ]
  },
  {
   "cell_type": "code",
   "execution_count": 20,
   "id": "568f0247",
   "metadata": {
    "ExecuteTime": {
     "end_time": "2022-12-28T06:59:28.158731Z",
     "start_time": "2022-12-28T06:59:28.143763Z"
    }
   },
   "outputs": [],
   "source": [
    "del q[0]"
   ]
  },
  {
   "cell_type": "code",
   "execution_count": 21,
   "id": "046abd71",
   "metadata": {
    "ExecuteTime": {
     "end_time": "2022-12-28T06:59:28.174611Z",
     "start_time": "2022-12-28T06:59:28.161983Z"
    }
   },
   "outputs": [
    {
     "data": {
      "text/plain": [
       "['t/toys',\n",
       " 't/mobile-phones',\n",
       " 't/laptops',\n",
       " 't/accessories',\n",
       " 't/electronics',\n",
       " 't/home--kitchen',\n",
       " 't/fashion',\n",
       " 't/food',\n",
       " 't/Services']"
      ]
     },
     "execution_count": 21,
     "metadata": {},
     "output_type": "execute_result"
    }
   ],
   "source": [
    "q"
   ]
  },
  {
   "cell_type": "code",
   "execution_count": 22,
   "id": "29c2d539",
   "metadata": {
    "ExecuteTime": {
     "end_time": "2022-12-28T06:59:28.189868Z",
     "start_time": "2022-12-28T06:59:28.177715Z"
    }
   },
   "outputs": [],
   "source": [
    "l1=src5\n",
    "l2=list(l1)"
   ]
  },
  {
   "cell_type": "code",
   "execution_count": 23,
   "id": "f62ff405",
   "metadata": {
    "ExecuteTime": {
     "end_time": "2022-12-28T06:59:28.205082Z",
     "start_time": "2022-12-28T06:59:28.191891Z"
    }
   },
   "outputs": [],
   "source": [
    "q1=[]"
   ]
  },
  {
   "cell_type": "code",
   "execution_count": 24,
   "id": "25cbfb35",
   "metadata": {
    "ExecuteTime": {
     "end_time": "2022-12-28T06:59:28.220295Z",
     "start_time": "2022-12-28T06:59:28.207593Z"
    }
   },
   "outputs": [],
   "source": [
    "for i in range(len(l2)):\n",
    "    a=l2[i].contents\n",
    "    if type(a) == list :\n",
    "        q1.append(a[0])"
   ]
  },
  {
   "cell_type": "code",
   "execution_count": 25,
   "id": "e1a84a6c",
   "metadata": {
    "ExecuteTime": {
     "end_time": "2022-12-28T06:59:28.235443Z",
     "start_time": "2022-12-28T06:59:28.221362Z"
    }
   },
   "outputs": [],
   "source": [
    "del q1[0]"
   ]
  },
  {
   "cell_type": "code",
   "execution_count": 26,
   "id": "de1711cb",
   "metadata": {
    "ExecuteTime": {
     "end_time": "2022-12-28T06:59:28.251004Z",
     "start_time": "2022-12-28T06:59:28.237638Z"
    }
   },
   "outputs": [
    {
     "data": {
      "text/plain": [
       "['Toys & Games',\n",
       " 'Mobiles',\n",
       " 'Laptops',\n",
       " 'Accessories',\n",
       " 'Electronics',\n",
       " 'Home & Kitchen',\n",
       " 'Fashion',\n",
       " 'Foods',\n",
       " 'Services']"
      ]
     },
     "execution_count": 26,
     "metadata": {},
     "output_type": "execute_result"
    }
   ],
   "source": [
    "q1"
   ]
  },
  {
   "cell_type": "code",
   "execution_count": 27,
   "id": "a4549c11",
   "metadata": {
    "ExecuteTime": {
     "end_time": "2022-12-28T06:59:28.266613Z",
     "start_time": "2022-12-28T06:59:28.252004Z"
    }
   },
   "outputs": [
    {
     "data": {
      "text/plain": [
       "9"
      ]
     },
     "execution_count": 27,
     "metadata": {},
     "output_type": "execute_result"
    }
   ],
   "source": [
    "len(q1)"
   ]
  },
  {
   "cell_type": "code",
   "execution_count": 28,
   "id": "223a6039",
   "metadata": {
    "ExecuteTime": {
     "end_time": "2022-12-28T06:59:28.282518Z",
     "start_time": "2022-12-28T06:59:28.271045Z"
    }
   },
   "outputs": [],
   "source": [
    "src7=src1.find('ul',{\"class\":\"nav category-bar\"})"
   ]
  },
  {
   "cell_type": "code",
   "execution_count": 29,
   "id": "0dfd8b30",
   "metadata": {
    "ExecuteTime": {
     "end_time": "2022-12-28T06:59:28.297195Z",
     "start_time": "2022-12-28T06:59:28.283568Z"
    }
   },
   "outputs": [],
   "source": [
    "src8=[]"
   ]
  },
  {
   "cell_type": "code",
   "execution_count": 30,
   "id": "7c4d9489",
   "metadata": {
    "ExecuteTime": {
     "end_time": "2022-12-28T06:59:28.312229Z",
     "start_time": "2022-12-28T06:59:28.299275Z"
    }
   },
   "outputs": [],
   "source": [
    "src8=src7.contents   "
   ]
  },
  {
   "cell_type": "code",
   "execution_count": 31,
   "id": "887b0e22",
   "metadata": {
    "ExecuteTime": {
     "end_time": "2022-12-28T06:59:28.328054Z",
     "start_time": "2022-12-28T06:59:28.313230Z"
    }
   },
   "outputs": [
    {
     "data": {
      "text/plain": [
       "19"
      ]
     },
     "execution_count": 31,
     "metadata": {},
     "output_type": "execute_result"
    }
   ],
   "source": [
    "len(src8)"
   ]
  },
  {
   "cell_type": "code",
   "execution_count": 32,
   "id": "7d625de1",
   "metadata": {
    "ExecuteTime": {
     "end_time": "2022-12-28T06:59:28.343604Z",
     "start_time": "2022-12-28T06:59:28.329125Z"
    }
   },
   "outputs": [],
   "source": [
    "sc=[]"
   ]
  },
  {
   "cell_type": "code",
   "execution_count": 33,
   "id": "7f006f56",
   "metadata": {
    "ExecuteTime": {
     "end_time": "2022-12-28T06:59:28.358932Z",
     "start_time": "2022-12-28T06:59:28.345634Z"
    }
   },
   "outputs": [],
   "source": [
    "l3=[] # use it for separation or cate wise diivsion of sub cate"
   ]
  },
  {
   "cell_type": "code",
   "execution_count": 34,
   "id": "6dfb3466",
   "metadata": {
    "ExecuteTime": {
     "end_time": "2022-12-28T06:59:28.373595Z",
     "start_time": "2022-12-28T06:59:28.360308Z"
    }
   },
   "outputs": [],
   "source": [
    "for i in range(1,len(src8)):\n",
    "    if i % 2 == 0:\n",
    "        continue\n",
    "    else :\n",
    "        l1=src8[i].find_all('a')\n",
    "        l3.append(len(src8[i].find_all('a')))\n",
    "        for j in range (len(l1)):\n",
    "            l1=src8[i].find_all('a')[j]\n",
    "            sc.append(l1.contents[0])\n",
    "        "
   ]
  },
  {
   "cell_type": "code",
   "execution_count": 35,
   "id": "537b1630",
   "metadata": {
    "ExecuteTime": {
     "end_time": "2022-12-28T06:59:28.389022Z",
     "start_time": "2022-12-28T06:59:28.375642Z"
    }
   },
   "outputs": [
    {
     "data": {
      "text/plain": [
       "64"
      ]
     },
     "execution_count": 35,
     "metadata": {},
     "output_type": "execute_result"
    }
   ],
   "source": [
    "len(sc)"
   ]
  },
  {
   "cell_type": "code",
   "execution_count": 36,
   "id": "2c145112",
   "metadata": {
    "ExecuteTime": {
     "end_time": "2022-12-28T06:59:28.404504Z",
     "start_time": "2022-12-28T06:59:28.391092Z"
    }
   },
   "outputs": [],
   "source": [
    "src9=src7.find_all('a')"
   ]
  },
  {
   "cell_type": "code",
   "execution_count": 37,
   "id": "cc207751",
   "metadata": {
    "ExecuteTime": {
     "end_time": "2022-12-28T06:59:28.420059Z",
     "start_time": "2022-12-28T06:59:28.406013Z"
    }
   },
   "outputs": [],
   "source": [
    "src10=list(src9)"
   ]
  },
  {
   "cell_type": "code",
   "execution_count": 38,
   "id": "64238799",
   "metadata": {
    "ExecuteTime": {
     "end_time": "2022-12-28T06:59:28.435058Z",
     "start_time": "2022-12-28T06:59:28.422060Z"
    }
   },
   "outputs": [],
   "source": [
    "for i in range(len(src10)):\n",
    "    src10[i]=src10[i].attrs"
   ]
  },
  {
   "cell_type": "code",
   "execution_count": 39,
   "id": "81d964e7",
   "metadata": {
    "ExecuteTime": {
     "end_time": "2022-12-28T06:59:28.449863Z",
     "start_time": "2022-12-28T06:59:28.436202Z"
    }
   },
   "outputs": [],
   "source": [
    "q5=[]"
   ]
  },
  {
   "cell_type": "code",
   "execution_count": 40,
   "id": "a82597e6",
   "metadata": {
    "ExecuteTime": {
     "end_time": "2022-12-28T06:59:28.465868Z",
     "start_time": "2022-12-28T06:59:28.450901Z"
    }
   },
   "outputs": [],
   "source": [
    "for i in range(len(src10)):\n",
    "    s0=src10[i].values()\n",
    "    s0=str(s0)\n",
    "    s0=s0.partition('/')\n",
    "    s0=s0[2]\n",
    "    s0=s0.partition(\"'\")\n",
    "    s0=s0[0]\n",
    "    q5.append(s0)"
   ]
  },
  {
   "cell_type": "code",
   "execution_count": 41,
   "id": "b4869c19",
   "metadata": {
    "ExecuteTime": {
     "end_time": "2022-12-28T06:59:28.480651Z",
     "start_time": "2022-12-28T06:59:28.467346Z"
    }
   },
   "outputs": [
    {
     "data": {
      "text/plain": [
       "64"
      ]
     },
     "execution_count": 41,
     "metadata": {},
     "output_type": "execute_result"
    }
   ],
   "source": [
    "len(sc)"
   ]
  },
  {
   "cell_type": "code",
   "execution_count": 42,
   "id": "09dca648",
   "metadata": {
    "ExecuteTime": {
     "end_time": "2022-12-28T06:59:28.496209Z",
     "start_time": "2022-12-28T06:59:28.481678Z"
    }
   },
   "outputs": [
    {
     "data": {
      "text/plain": [
       "64"
      ]
     },
     "execution_count": 42,
     "metadata": {},
     "output_type": "execute_result"
    }
   ],
   "source": [
    "len(q5)"
   ]
  },
  {
   "cell_type": "code",
   "execution_count": 43,
   "id": "77fd3aee",
   "metadata": {
    "ExecuteTime": {
     "end_time": "2022-12-28T06:59:28.512299Z",
     "start_time": "2022-12-28T06:59:28.498255Z"
    }
   },
   "outputs": [],
   "source": [
    "sr='https://yoshops.com/'"
   ]
  },
  {
   "cell_type": "code",
   "execution_count": 44,
   "id": "f14ad0f3",
   "metadata": {
    "ExecuteTime": {
     "end_time": "2022-12-28T06:59:28.527696Z",
     "start_time": "2022-12-28T06:59:28.514452Z"
    }
   },
   "outputs": [],
   "source": [
    "for i in range(len(q5)):\n",
    "    q5[i]=sr+q5[i]"
   ]
  },
  {
   "cell_type": "code",
   "execution_count": 45,
   "id": "e998c029",
   "metadata": {
    "ExecuteTime": {
     "end_time": "2022-12-28T06:59:28.542649Z",
     "start_time": "2022-12-28T06:59:28.528800Z"
    }
   },
   "outputs": [],
   "source": [
    "d3=dict(zip(sc,q5))"
   ]
  },
  {
   "cell_type": "code",
   "execution_count": 46,
   "id": "81e9599a",
   "metadata": {
    "ExecuteTime": {
     "end_time": "2022-12-28T06:59:28.558578Z",
     "start_time": "2022-12-28T06:59:28.543923Z"
    }
   },
   "outputs": [
    {
     "data": {
      "text/plain": [
       "64"
      ]
     },
     "execution_count": 46,
     "metadata": {},
     "output_type": "execute_result"
    }
   ],
   "source": [
    "len(d3)"
   ]
  },
  {
   "cell_type": "code",
   "execution_count": 47,
   "id": "458ef5d8",
   "metadata": {
    "ExecuteTime": {
     "end_time": "2022-12-28T06:59:28.574161Z",
     "start_time": "2022-12-28T06:59:28.560625Z"
    }
   },
   "outputs": [],
   "source": [
    "d4={'Sub Product' : d3.keys(), 'Sub Product Link':d3.values()}"
   ]
  },
  {
   "cell_type": "code",
   "execution_count": 48,
   "id": "b2697bdb",
   "metadata": {
    "ExecuteTime": {
     "end_time": "2022-12-28T06:59:28.589421Z",
     "start_time": "2022-12-28T06:59:28.575258Z"
    }
   },
   "outputs": [],
   "source": [
    "df1=pd.DataFrame(data=d4)"
   ]
  },
  {
   "cell_type": "code",
   "execution_count": 49,
   "id": "39829083",
   "metadata": {
    "ExecuteTime": {
     "end_time": "2022-12-28T06:59:28.604511Z",
     "start_time": "2022-12-28T06:59:28.591598Z"
    }
   },
   "outputs": [
    {
     "data": {
      "text/html": [
       "<div>\n",
       "<style scoped>\n",
       "    .dataframe tbody tr th:only-of-type {\n",
       "        vertical-align: middle;\n",
       "    }\n",
       "\n",
       "    .dataframe tbody tr th {\n",
       "        vertical-align: top;\n",
       "    }\n",
       "\n",
       "    .dataframe thead th {\n",
       "        text-align: right;\n",
       "    }\n",
       "</style>\n",
       "<table border=\"1\" class=\"dataframe\">\n",
       "  <thead>\n",
       "    <tr style=\"text-align: right;\">\n",
       "      <th></th>\n",
       "      <th>Sub Product</th>\n",
       "      <th>Sub Product Link</th>\n",
       "    </tr>\n",
       "  </thead>\n",
       "  <tbody>\n",
       "    <tr>\n",
       "      <th>0</th>\n",
       "      <td>Toys &amp; Games</td>\n",
       "      <td>https://yoshops.com/t/toys</td>\n",
       "    </tr>\n",
       "    <tr>\n",
       "      <th>1</th>\n",
       "      <td>PlayStation</td>\n",
       "      <td>https://yoshops.com/t/playstation</td>\n",
       "    </tr>\n",
       "    <tr>\n",
       "      <th>2</th>\n",
       "      <td>Drones</td>\n",
       "      <td>https://yoshops.com/t/drones</td>\n",
       "    </tr>\n",
       "    <tr>\n",
       "      <th>3</th>\n",
       "      <td>RC Toys</td>\n",
       "      <td>https://yoshops.com/t/rc-helicopter</td>\n",
       "    </tr>\n",
       "    <tr>\n",
       "      <th>4</th>\n",
       "      <td>Soft Toys</td>\n",
       "      <td>https://yoshops.com/t/soft-toys</td>\n",
       "    </tr>\n",
       "    <tr>\n",
       "      <th>...</th>\n",
       "      <td>...</td>\n",
       "      <td>...</td>\n",
       "    </tr>\n",
       "    <tr>\n",
       "      <th>59</th>\n",
       "      <td>YouTube Sponsorship</td>\n",
       "      <td>https://yoshops.com/t/youtuber-sponsorship</td>\n",
       "    </tr>\n",
       "    <tr>\n",
       "      <th>60</th>\n",
       "      <td>Refurbish Laptop Mobiles</td>\n",
       "      <td>https://yoshops.com/t/refurbished-and-used-lap...</td>\n",
       "    </tr>\n",
       "    <tr>\n",
       "      <th>61</th>\n",
       "      <td>Bengaluru</td>\n",
       "      <td>https://yoshops.com/t/bengaluru</td>\n",
       "    </tr>\n",
       "    <tr>\n",
       "      <th>62</th>\n",
       "      <td>Chennai</td>\n",
       "      <td>https://yoshops.com/t/chennai</td>\n",
       "    </tr>\n",
       "    <tr>\n",
       "      <th>63</th>\n",
       "      <td>Mumbai</td>\n",
       "      <td>https://yoshops.com/t/mumbai</td>\n",
       "    </tr>\n",
       "  </tbody>\n",
       "</table>\n",
       "<p>64 rows × 2 columns</p>\n",
       "</div>"
      ],
      "text/plain": [
       "                 Sub Product  \\\n",
       "0              Toys & Games    \n",
       "1                PlayStation   \n",
       "2                     Drones   \n",
       "3                    RC Toys   \n",
       "4                  Soft Toys   \n",
       "..                       ...   \n",
       "59       YouTube Sponsorship   \n",
       "60  Refurbish Laptop Mobiles   \n",
       "61                 Bengaluru   \n",
       "62                   Chennai   \n",
       "63                    Mumbai   \n",
       "\n",
       "                                     Sub Product Link  \n",
       "0                          https://yoshops.com/t/toys  \n",
       "1                   https://yoshops.com/t/playstation  \n",
       "2                        https://yoshops.com/t/drones  \n",
       "3                 https://yoshops.com/t/rc-helicopter  \n",
       "4                     https://yoshops.com/t/soft-toys  \n",
       "..                                                ...  \n",
       "59         https://yoshops.com/t/youtuber-sponsorship  \n",
       "60  https://yoshops.com/t/refurbished-and-used-lap...  \n",
       "61                    https://yoshops.com/t/bengaluru  \n",
       "62                      https://yoshops.com/t/chennai  \n",
       "63                       https://yoshops.com/t/mumbai  \n",
       "\n",
       "[64 rows x 2 columns]"
      ]
     },
     "execution_count": 49,
     "metadata": {},
     "output_type": "execute_result"
    }
   ],
   "source": [
    "df1"
   ]
  },
  {
   "cell_type": "code",
   "execution_count": 50,
   "id": "a47e44d1",
   "metadata": {
    "ExecuteTime": {
     "end_time": "2022-12-28T06:59:28.620199Z",
     "start_time": "2022-12-28T06:59:28.605511Z"
    }
   },
   "outputs": [],
   "source": [
    "sr='https://yoshops.com/'\n",
    "for i in range(len(q)):\n",
    "    q[i]=sr + q[i]"
   ]
  },
  {
   "cell_type": "code",
   "execution_count": 51,
   "id": "4b04b3d8",
   "metadata": {
    "ExecuteTime": {
     "end_time": "2022-12-28T06:59:28.635685Z",
     "start_time": "2022-12-28T06:59:28.621263Z"
    }
   },
   "outputs": [],
   "source": [
    "d1=dict(zip(q1,q))"
   ]
  },
  {
   "cell_type": "code",
   "execution_count": 52,
   "id": "a987df94",
   "metadata": {
    "ExecuteTime": {
     "end_time": "2022-12-28T06:59:28.651156Z",
     "start_time": "2022-12-28T06:59:28.636713Z"
    }
   },
   "outputs": [
    {
     "data": {
      "text/plain": [
       "{'Toys & Games': 'https://yoshops.com/t/toys',\n",
       " 'Mobiles': 'https://yoshops.com/t/mobile-phones',\n",
       " 'Laptops': 'https://yoshops.com/t/laptops',\n",
       " 'Accessories': 'https://yoshops.com/t/accessories',\n",
       " 'Electronics': 'https://yoshops.com/t/electronics',\n",
       " 'Home & Kitchen': 'https://yoshops.com/t/home--kitchen',\n",
       " 'Fashion': 'https://yoshops.com/t/fashion',\n",
       " 'Foods': 'https://yoshops.com/t/food',\n",
       " 'Services': 'https://yoshops.com/t/Services'}"
      ]
     },
     "execution_count": 52,
     "metadata": {},
     "output_type": "execute_result"
    }
   ],
   "source": [
    "d1"
   ]
  },
  {
   "cell_type": "code",
   "execution_count": 53,
   "id": "c7eeb077",
   "metadata": {
    "ExecuteTime": {
     "end_time": "2022-12-28T06:59:28.666527Z",
     "start_time": "2022-12-28T06:59:28.653314Z"
    }
   },
   "outputs": [],
   "source": [
    "d2={'Product Category' : d1.keys(), 'Product Category Link' : d1.values()}"
   ]
  },
  {
   "cell_type": "code",
   "execution_count": 54,
   "id": "ca09e324",
   "metadata": {
    "ExecuteTime": {
     "end_time": "2022-12-28T06:59:28.681727Z",
     "start_time": "2022-12-28T06:59:28.667614Z"
    }
   },
   "outputs": [],
   "source": [
    "df=pd.DataFrame(data=d2)"
   ]
  },
  {
   "cell_type": "code",
   "execution_count": 55,
   "id": "d8d759a5",
   "metadata": {
    "ExecuteTime": {
     "end_time": "2022-12-28T06:59:28.697001Z",
     "start_time": "2022-12-28T06:59:28.683788Z"
    }
   },
   "outputs": [
    {
     "data": {
      "text/plain": [
       "['Toys & Games',\n",
       " 'Mobiles',\n",
       " 'Laptops',\n",
       " 'Accessories',\n",
       " 'Electronics',\n",
       " 'Home & Kitchen',\n",
       " 'Fashion',\n",
       " 'Foods',\n",
       " 'Services']"
      ]
     },
     "execution_count": 55,
     "metadata": {},
     "output_type": "execute_result"
    }
   ],
   "source": [
    "q1"
   ]
  },
  {
   "cell_type": "code",
   "execution_count": 56,
   "id": "2098a886",
   "metadata": {
    "ExecuteTime": {
     "end_time": "2022-12-28T06:59:28.711724Z",
     "start_time": "2022-12-28T06:59:28.698057Z"
    }
   },
   "outputs": [
    {
     "data": {
      "text/plain": [
       "['https://yoshops.com/t/toys',\n",
       " 'https://yoshops.com/t/mobile-phones',\n",
       " 'https://yoshops.com/t/laptops',\n",
       " 'https://yoshops.com/t/accessories',\n",
       " 'https://yoshops.com/t/electronics',\n",
       " 'https://yoshops.com/t/home--kitchen',\n",
       " 'https://yoshops.com/t/fashion',\n",
       " 'https://yoshops.com/t/food',\n",
       " 'https://yoshops.com/t/Services']"
      ]
     },
     "execution_count": 56,
     "metadata": {},
     "output_type": "execute_result"
    }
   ],
   "source": [
    "q"
   ]
  },
  {
   "cell_type": "code",
   "execution_count": 57,
   "id": "2d319d00",
   "metadata": {
    "ExecuteTime": {
     "end_time": "2022-12-28T06:59:28.727227Z",
     "start_time": "2022-12-28T06:59:28.712745Z"
    }
   },
   "outputs": [
    {
     "data": {
      "text/plain": [
       "['Toys & Games ',\n",
       " 'PlayStation',\n",
       " 'Drones',\n",
       " 'RC Toys',\n",
       " 'Soft Toys',\n",
       " 'Gaming Accessories',\n",
       " 'Mobiles ',\n",
       " 'Smartphones',\n",
       " 'Headphones',\n",
       " 'Mobiles Accessories',\n",
       " 'Feature Keypad Mobiles',\n",
       " 'Laptops ',\n",
       " 'Gaming Laptops',\n",
       " 'Personal Laptops',\n",
       " 'Tablets',\n",
       " 'Laptop Accessories',\n",
       " 'Computers Accessories',\n",
       " 'Accessories ',\n",
       " 'Books',\n",
       " 'Stationery',\n",
       " 'Bags',\n",
       " 'SpareParts',\n",
       " 'Auto spare parts',\n",
       " 'Mobile Spare Parts',\n",
       " 'Laptop spare parts',\n",
       " 'More',\n",
       " 'Electronics ',\n",
       " 'Led TV',\n",
       " 'Others',\n",
       " 'Home & Kitchen ',\n",
       " 'Irons',\n",
       " 'Mixer Grinder Juicer',\n",
       " 'Fashion ',\n",
       " 'Men',\n",
       " 'Men Clothing',\n",
       " 'Sunglasses',\n",
       " 'Watches',\n",
       " \"Men's Footwear\",\n",
       " 'Womens',\n",
       " 'Women Clothing',\n",
       " 'Face Makeup',\n",
       " 'Personal Care',\n",
       " 'Kids',\n",
       " 'Kids Clothing',\n",
       " 'Shoes',\n",
       " 'Foods ',\n",
       " 'Organic foods',\n",
       " 'Vegetable',\n",
       " 'Non Veg',\n",
       " 'Seafood',\n",
       " 'Biryani',\n",
       " 'Services ',\n",
       " 'Online Live Tuition',\n",
       " 'Training Internship Work From Home',\n",
       " 'Yoga Pharma Franchise',\n",
       " 'Sponsorship Marketing',\n",
       " 'Teacher Sponsorship',\n",
       " 'Blog Sponsorship',\n",
       " 'Instagram Sponsorship',\n",
       " 'YouTube Sponsorship',\n",
       " 'Refurbish Laptop Mobiles',\n",
       " 'Bengaluru',\n",
       " 'Chennai',\n",
       " 'Mumbai']"
      ]
     },
     "execution_count": 57,
     "metadata": {},
     "output_type": "execute_result"
    }
   ],
   "source": [
    "sc"
   ]
  },
  {
   "cell_type": "code",
   "execution_count": 58,
   "id": "7e0a388b",
   "metadata": {
    "ExecuteTime": {
     "end_time": "2022-12-28T06:59:28.742569Z",
     "start_time": "2022-12-28T06:59:28.729230Z"
    }
   },
   "outputs": [
    {
     "data": {
      "text/plain": [
       "['https://yoshops.com/t/toys',\n",
       " 'https://yoshops.com/t/playstation',\n",
       " 'https://yoshops.com/t/drones',\n",
       " 'https://yoshops.com/t/rc-helicopter',\n",
       " 'https://yoshops.com/t/soft-toys',\n",
       " 'https://yoshops.com/t/gaming-accessories',\n",
       " 'https://yoshops.com/t/mobile-phones',\n",
       " 'https://yoshops.com/t/smartphones',\n",
       " 'https://yoshops.com/t/headphones',\n",
       " 'https://yoshops.com/t/mobiles-accessories',\n",
       " 'https://yoshops.com/t/basic-keypad-phone',\n",
       " 'https://yoshops.com/t/laptops',\n",
       " 'https://yoshops.com/t/gaming-laptops',\n",
       " 'https://yoshops.com/t/personal-laptops',\n",
       " 'https://yoshops.com/t/tablets',\n",
       " 'https://yoshops.com/t/laptop-accessories',\n",
       " 'https://yoshops.com/t/computers-accessories',\n",
       " 'https://yoshops.com/t/accessories',\n",
       " 'https://yoshops.com/t/books',\n",
       " 'https://yoshops.com/t/stationery',\n",
       " 'https://yoshops.com/t/books--bags',\n",
       " 'https://yoshops.com/t/grocery',\n",
       " 'https://yoshops.com/t/bike',\n",
       " 'https://yoshops.com/t/Mobile-Parts',\n",
       " 'https://yoshops.com/t/Laptop-spare-parts',\n",
       " 'https://yoshops.com/t/more',\n",
       " 'https://yoshops.com/t/electronics',\n",
       " 'https://yoshops.com/t/led-tv',\n",
       " 'https://yoshops.com/t/jewelry--watches',\n",
       " 'https://yoshops.com/t/home--kitchen',\n",
       " 'https://yoshops.com/t/irons',\n",
       " 'https://yoshops.com/t/mixer-grinder-juicer',\n",
       " 'https://yoshops.com/t/fashion',\n",
       " 'https://yoshops.com/t/men',\n",
       " 'https://yoshops.com/t/men-clothing',\n",
       " 'https://yoshops.com/t/sunglasses',\n",
       " 'https://yoshops.com/t/watches',\n",
       " 'https://yoshops.com/t/mens-footwear',\n",
       " 'https://yoshops.com/t/womens',\n",
       " 'https://yoshops.com/t/women-clothing',\n",
       " 'https://yoshops.com/t/face-makeup',\n",
       " 'https://yoshops.com/t/personal-care',\n",
       " 'https://yoshops.com/t/kids',\n",
       " 'https://yoshops.com/t/kids-clothing',\n",
       " 'https://yoshops.com/t/shoes',\n",
       " 'https://yoshops.com/t/food',\n",
       " 'https://yoshops.com/t/organic',\n",
       " 'https://yoshops.com/t/vegetable',\n",
       " 'https://yoshops.com/t/non-veg',\n",
       " 'https://yoshops.com/t/seafood',\n",
       " 'https://yoshops.com/t/biryani',\n",
       " 'https://yoshops.com/t/Services',\n",
       " 'https://yoshops.com/t/tuition',\n",
       " 'https://yoshops.com/t/internship',\n",
       " 'https://yoshops.com/t/pcd-pharma-distributor',\n",
       " 'https://yoshops.com/t/sponsorship-marketing',\n",
       " 'https://yoshops.com/t/teacher-sponsorship',\n",
       " 'https://yoshops.com/t/blog-sponsorship',\n",
       " 'https://yoshops.com/t/instagram-sponsorship',\n",
       " 'https://yoshops.com/t/youtuber-sponsorship',\n",
       " 'https://yoshops.com/t/refurbished-and-used-laptop-phone',\n",
       " 'https://yoshops.com/t/bengaluru',\n",
       " 'https://yoshops.com/t/chennai',\n",
       " 'https://yoshops.com/t/mumbai']"
      ]
     },
     "execution_count": 58,
     "metadata": {},
     "output_type": "execute_result"
    }
   ],
   "source": [
    "q5"
   ]
  },
  {
   "cell_type": "code",
   "execution_count": 59,
   "id": "3d20f4f1",
   "metadata": {
    "ExecuteTime": {
     "end_time": "2022-12-28T06:59:28.757803Z",
     "start_time": "2022-12-28T06:59:28.744672Z"
    }
   },
   "outputs": [
    {
     "data": {
      "text/plain": [
       "[6, 5, 6, 9, 3, 3, 13, 6, 13]"
      ]
     },
     "execution_count": 59,
     "metadata": {},
     "output_type": "execute_result"
    }
   ],
   "source": [
    "l3"
   ]
  },
  {
   "cell_type": "code",
   "execution_count": 60,
   "id": "82d03d37",
   "metadata": {
    "ExecuteTime": {
     "end_time": "2022-12-28T06:59:28.773354Z",
     "start_time": "2022-12-28T06:59:28.759849Z"
    }
   },
   "outputs": [
    {
     "data": {
      "text/html": [
       "<div>\n",
       "<style scoped>\n",
       "    .dataframe tbody tr th:only-of-type {\n",
       "        vertical-align: middle;\n",
       "    }\n",
       "\n",
       "    .dataframe tbody tr th {\n",
       "        vertical-align: top;\n",
       "    }\n",
       "\n",
       "    .dataframe thead th {\n",
       "        text-align: right;\n",
       "    }\n",
       "</style>\n",
       "<table border=\"1\" class=\"dataframe\">\n",
       "  <thead>\n",
       "    <tr style=\"text-align: right;\">\n",
       "      <th></th>\n",
       "      <th>Product Category</th>\n",
       "      <th>Product Category Link</th>\n",
       "    </tr>\n",
       "  </thead>\n",
       "  <tbody>\n",
       "    <tr>\n",
       "      <th>0</th>\n",
       "      <td>Toys &amp; Games</td>\n",
       "      <td>https://yoshops.com/t/toys</td>\n",
       "    </tr>\n",
       "    <tr>\n",
       "      <th>1</th>\n",
       "      <td>Mobiles</td>\n",
       "      <td>https://yoshops.com/t/mobile-phones</td>\n",
       "    </tr>\n",
       "    <tr>\n",
       "      <th>2</th>\n",
       "      <td>Laptops</td>\n",
       "      <td>https://yoshops.com/t/laptops</td>\n",
       "    </tr>\n",
       "    <tr>\n",
       "      <th>3</th>\n",
       "      <td>Accessories</td>\n",
       "      <td>https://yoshops.com/t/accessories</td>\n",
       "    </tr>\n",
       "    <tr>\n",
       "      <th>4</th>\n",
       "      <td>Electronics</td>\n",
       "      <td>https://yoshops.com/t/electronics</td>\n",
       "    </tr>\n",
       "    <tr>\n",
       "      <th>5</th>\n",
       "      <td>Home &amp; Kitchen</td>\n",
       "      <td>https://yoshops.com/t/home--kitchen</td>\n",
       "    </tr>\n",
       "    <tr>\n",
       "      <th>6</th>\n",
       "      <td>Fashion</td>\n",
       "      <td>https://yoshops.com/t/fashion</td>\n",
       "    </tr>\n",
       "    <tr>\n",
       "      <th>7</th>\n",
       "      <td>Foods</td>\n",
       "      <td>https://yoshops.com/t/food</td>\n",
       "    </tr>\n",
       "    <tr>\n",
       "      <th>8</th>\n",
       "      <td>Services</td>\n",
       "      <td>https://yoshops.com/t/Services</td>\n",
       "    </tr>\n",
       "  </tbody>\n",
       "</table>\n",
       "</div>"
      ],
      "text/plain": [
       "  Product Category                Product Category Link\n",
       "0     Toys & Games           https://yoshops.com/t/toys\n",
       "1          Mobiles  https://yoshops.com/t/mobile-phones\n",
       "2          Laptops        https://yoshops.com/t/laptops\n",
       "3      Accessories    https://yoshops.com/t/accessories\n",
       "4      Electronics    https://yoshops.com/t/electronics\n",
       "5   Home & Kitchen  https://yoshops.com/t/home--kitchen\n",
       "6          Fashion        https://yoshops.com/t/fashion\n",
       "7            Foods           https://yoshops.com/t/food\n",
       "8         Services       https://yoshops.com/t/Services"
      ]
     },
     "execution_count": 60,
     "metadata": {},
     "output_type": "execute_result"
    }
   ],
   "source": [
    "df"
   ]
  },
  {
   "cell_type": "code",
   "execution_count": 61,
   "id": "5650a3b6",
   "metadata": {
    "ExecuteTime": {
     "end_time": "2022-12-28T06:59:28.788759Z",
     "start_time": "2022-12-28T06:59:28.774402Z"
    }
   },
   "outputs": [
    {
     "data": {
      "text/plain": [
       "9"
      ]
     },
     "execution_count": 61,
     "metadata": {},
     "output_type": "execute_result"
    }
   ],
   "source": [
    "len(df['Product Category'])"
   ]
  },
  {
   "cell_type": "code",
   "execution_count": 62,
   "id": "7f5885d6",
   "metadata": {
    "ExecuteTime": {
     "end_time": "2022-12-28T06:59:28.804298Z",
     "start_time": "2022-12-28T06:59:28.789880Z"
    }
   },
   "outputs": [],
   "source": [
    "pri_k=[]   # for adding keys as pk in df and pk1 in df1"
   ]
  },
  {
   "cell_type": "code",
   "execution_count": 63,
   "id": "f6df7bc2",
   "metadata": {
    "ExecuteTime": {
     "end_time": "2022-12-28T06:59:28.819435Z",
     "start_time": "2022-12-28T06:59:28.806813Z"
    }
   },
   "outputs": [],
   "source": [
    "for i in range(1,(len(df['Product Category'])+1)):\n",
    "    pri_k.append(i)"
   ]
  },
  {
   "cell_type": "code",
   "execution_count": 64,
   "id": "e6e6e37f",
   "metadata": {
    "ExecuteTime": {
     "end_time": "2022-12-28T06:59:28.834873Z",
     "start_time": "2022-12-28T06:59:28.821498Z"
    }
   },
   "outputs": [
    {
     "data": {
      "text/plain": [
       "[1, 2, 3, 4, 5, 6, 7, 8, 9]"
      ]
     },
     "execution_count": 64,
     "metadata": {},
     "output_type": "execute_result"
    }
   ],
   "source": [
    "pri_k"
   ]
  },
  {
   "cell_type": "code",
   "execution_count": 65,
   "id": "57e97027",
   "metadata": {
    "ExecuteTime": {
     "end_time": "2022-12-28T06:59:28.850401Z",
     "start_time": "2022-12-28T06:59:28.836947Z"
    }
   },
   "outputs": [],
   "source": [
    "df[\"Pri_Key\"]=pri_k"
   ]
  },
  {
   "cell_type": "code",
   "execution_count": 66,
   "id": "51c7cdf3",
   "metadata": {
    "ExecuteTime": {
     "end_time": "2022-12-28T06:59:28.865663Z",
     "start_time": "2022-12-28T06:59:28.852923Z"
    }
   },
   "outputs": [
    {
     "data": {
      "text/html": [
       "<div>\n",
       "<style scoped>\n",
       "    .dataframe tbody tr th:only-of-type {\n",
       "        vertical-align: middle;\n",
       "    }\n",
       "\n",
       "    .dataframe tbody tr th {\n",
       "        vertical-align: top;\n",
       "    }\n",
       "\n",
       "    .dataframe thead th {\n",
       "        text-align: right;\n",
       "    }\n",
       "</style>\n",
       "<table border=\"1\" class=\"dataframe\">\n",
       "  <thead>\n",
       "    <tr style=\"text-align: right;\">\n",
       "      <th></th>\n",
       "      <th>Product Category</th>\n",
       "      <th>Product Category Link</th>\n",
       "      <th>Pri_Key</th>\n",
       "    </tr>\n",
       "  </thead>\n",
       "  <tbody>\n",
       "    <tr>\n",
       "      <th>0</th>\n",
       "      <td>Toys &amp; Games</td>\n",
       "      <td>https://yoshops.com/t/toys</td>\n",
       "      <td>1</td>\n",
       "    </tr>\n",
       "    <tr>\n",
       "      <th>1</th>\n",
       "      <td>Mobiles</td>\n",
       "      <td>https://yoshops.com/t/mobile-phones</td>\n",
       "      <td>2</td>\n",
       "    </tr>\n",
       "    <tr>\n",
       "      <th>2</th>\n",
       "      <td>Laptops</td>\n",
       "      <td>https://yoshops.com/t/laptops</td>\n",
       "      <td>3</td>\n",
       "    </tr>\n",
       "    <tr>\n",
       "      <th>3</th>\n",
       "      <td>Accessories</td>\n",
       "      <td>https://yoshops.com/t/accessories</td>\n",
       "      <td>4</td>\n",
       "    </tr>\n",
       "    <tr>\n",
       "      <th>4</th>\n",
       "      <td>Electronics</td>\n",
       "      <td>https://yoshops.com/t/electronics</td>\n",
       "      <td>5</td>\n",
       "    </tr>\n",
       "    <tr>\n",
       "      <th>5</th>\n",
       "      <td>Home &amp; Kitchen</td>\n",
       "      <td>https://yoshops.com/t/home--kitchen</td>\n",
       "      <td>6</td>\n",
       "    </tr>\n",
       "    <tr>\n",
       "      <th>6</th>\n",
       "      <td>Fashion</td>\n",
       "      <td>https://yoshops.com/t/fashion</td>\n",
       "      <td>7</td>\n",
       "    </tr>\n",
       "    <tr>\n",
       "      <th>7</th>\n",
       "      <td>Foods</td>\n",
       "      <td>https://yoshops.com/t/food</td>\n",
       "      <td>8</td>\n",
       "    </tr>\n",
       "    <tr>\n",
       "      <th>8</th>\n",
       "      <td>Services</td>\n",
       "      <td>https://yoshops.com/t/Services</td>\n",
       "      <td>9</td>\n",
       "    </tr>\n",
       "  </tbody>\n",
       "</table>\n",
       "</div>"
      ],
      "text/plain": [
       "  Product Category                Product Category Link  Pri_Key\n",
       "0     Toys & Games           https://yoshops.com/t/toys        1\n",
       "1          Mobiles  https://yoshops.com/t/mobile-phones        2\n",
       "2          Laptops        https://yoshops.com/t/laptops        3\n",
       "3      Accessories    https://yoshops.com/t/accessories        4\n",
       "4      Electronics    https://yoshops.com/t/electronics        5\n",
       "5   Home & Kitchen  https://yoshops.com/t/home--kitchen        6\n",
       "6          Fashion        https://yoshops.com/t/fashion        7\n",
       "7            Foods           https://yoshops.com/t/food        8\n",
       "8         Services       https://yoshops.com/t/Services        9"
      ]
     },
     "execution_count": 66,
     "metadata": {},
     "output_type": "execute_result"
    }
   ],
   "source": [
    "df"
   ]
  },
  {
   "cell_type": "code",
   "execution_count": 67,
   "id": "1d5a5f25",
   "metadata": {
    "ExecuteTime": {
     "end_time": "2022-12-28T06:59:28.881066Z",
     "start_time": "2022-12-28T06:59:28.866668Z"
    }
   },
   "outputs": [
    {
     "data": {
      "text/html": [
       "<div>\n",
       "<style scoped>\n",
       "    .dataframe tbody tr th:only-of-type {\n",
       "        vertical-align: middle;\n",
       "    }\n",
       "\n",
       "    .dataframe tbody tr th {\n",
       "        vertical-align: top;\n",
       "    }\n",
       "\n",
       "    .dataframe thead th {\n",
       "        text-align: right;\n",
       "    }\n",
       "</style>\n",
       "<table border=\"1\" class=\"dataframe\">\n",
       "  <thead>\n",
       "    <tr style=\"text-align: right;\">\n",
       "      <th></th>\n",
       "      <th>Sub Product</th>\n",
       "      <th>Sub Product Link</th>\n",
       "    </tr>\n",
       "  </thead>\n",
       "  <tbody>\n",
       "    <tr>\n",
       "      <th>0</th>\n",
       "      <td>Toys &amp; Games</td>\n",
       "      <td>https://yoshops.com/t/toys</td>\n",
       "    </tr>\n",
       "    <tr>\n",
       "      <th>1</th>\n",
       "      <td>PlayStation</td>\n",
       "      <td>https://yoshops.com/t/playstation</td>\n",
       "    </tr>\n",
       "    <tr>\n",
       "      <th>2</th>\n",
       "      <td>Drones</td>\n",
       "      <td>https://yoshops.com/t/drones</td>\n",
       "    </tr>\n",
       "    <tr>\n",
       "      <th>3</th>\n",
       "      <td>RC Toys</td>\n",
       "      <td>https://yoshops.com/t/rc-helicopter</td>\n",
       "    </tr>\n",
       "    <tr>\n",
       "      <th>4</th>\n",
       "      <td>Soft Toys</td>\n",
       "      <td>https://yoshops.com/t/soft-toys</td>\n",
       "    </tr>\n",
       "    <tr>\n",
       "      <th>5</th>\n",
       "      <td>Gaming Accessories</td>\n",
       "      <td>https://yoshops.com/t/gaming-accessories</td>\n",
       "    </tr>\n",
       "    <tr>\n",
       "      <th>6</th>\n",
       "      <td>Mobiles</td>\n",
       "      <td>https://yoshops.com/t/mobile-phones</td>\n",
       "    </tr>\n",
       "    <tr>\n",
       "      <th>7</th>\n",
       "      <td>Smartphones</td>\n",
       "      <td>https://yoshops.com/t/smartphones</td>\n",
       "    </tr>\n",
       "  </tbody>\n",
       "</table>\n",
       "</div>"
      ],
      "text/plain": [
       "          Sub Product                          Sub Product Link\n",
       "0       Toys & Games                 https://yoshops.com/t/toys\n",
       "1         PlayStation         https://yoshops.com/t/playstation\n",
       "2              Drones              https://yoshops.com/t/drones\n",
       "3             RC Toys       https://yoshops.com/t/rc-helicopter\n",
       "4           Soft Toys           https://yoshops.com/t/soft-toys\n",
       "5  Gaming Accessories  https://yoshops.com/t/gaming-accessories\n",
       "6            Mobiles        https://yoshops.com/t/mobile-phones\n",
       "7         Smartphones         https://yoshops.com/t/smartphones"
      ]
     },
     "execution_count": 67,
     "metadata": {},
     "output_type": "execute_result"
    }
   ],
   "source": [
    "df1.head(8)"
   ]
  },
  {
   "cell_type": "code",
   "execution_count": 68,
   "id": "87ad877c",
   "metadata": {
    "ExecuteTime": {
     "end_time": "2022-12-28T06:59:28.897109Z",
     "start_time": "2022-12-28T06:59:28.883489Z"
    }
   },
   "outputs": [
    {
     "data": {
      "text/plain": [
       "[6, 5, 6, 9, 3, 3, 13, 6, 13]"
      ]
     },
     "execution_count": 68,
     "metadata": {},
     "output_type": "execute_result"
    }
   ],
   "source": [
    "l3"
   ]
  },
  {
   "cell_type": "code",
   "execution_count": 69,
   "id": "4e185ebe",
   "metadata": {
    "ExecuteTime": {
     "end_time": "2022-12-28T06:59:28.912772Z",
     "start_time": "2022-12-28T06:59:28.898114Z"
    }
   },
   "outputs": [],
   "source": [
    "pri_k1=[]"
   ]
  },
  {
   "cell_type": "code",
   "execution_count": 70,
   "id": "f1896edb",
   "metadata": {
    "ExecuteTime": {
     "end_time": "2022-12-28T06:59:28.928623Z",
     "start_time": "2022-12-28T06:59:28.913959Z"
    }
   },
   "outputs": [],
   "source": [
    "m=1"
   ]
  },
  {
   "cell_type": "code",
   "execution_count": 71,
   "id": "18222b8b",
   "metadata": {
    "ExecuteTime": {
     "end_time": "2022-12-28T06:59:28.944669Z",
     "start_time": "2022-12-28T06:59:28.930295Z"
    }
   },
   "outputs": [],
   "source": [
    "for i in l3:\n",
    "    for j in range(i):\n",
    "        pri_k1.append(m)\n",
    "    m+=1"
   ]
  },
  {
   "cell_type": "code",
   "execution_count": 72,
   "id": "4e71df61",
   "metadata": {
    "ExecuteTime": {
     "end_time": "2022-12-28T06:59:28.960396Z",
     "start_time": "2022-12-28T06:59:28.945963Z"
    }
   },
   "outputs": [],
   "source": [
    "df1[\"Prim_Key\"]=pri_k1"
   ]
  },
  {
   "cell_type": "code",
   "execution_count": 73,
   "id": "d28a0b8d",
   "metadata": {
    "ExecuteTime": {
     "end_time": "2022-12-28T06:59:28.975913Z",
     "start_time": "2022-12-28T06:59:28.962174Z"
    },
    "scrolled": true
   },
   "outputs": [
    {
     "data": {
      "text/html": [
       "<div>\n",
       "<style scoped>\n",
       "    .dataframe tbody tr th:only-of-type {\n",
       "        vertical-align: middle;\n",
       "    }\n",
       "\n",
       "    .dataframe tbody tr th {\n",
       "        vertical-align: top;\n",
       "    }\n",
       "\n",
       "    .dataframe thead th {\n",
       "        text-align: right;\n",
       "    }\n",
       "</style>\n",
       "<table border=\"1\" class=\"dataframe\">\n",
       "  <thead>\n",
       "    <tr style=\"text-align: right;\">\n",
       "      <th></th>\n",
       "      <th>Sub Product</th>\n",
       "      <th>Sub Product Link</th>\n",
       "      <th>Prim_Key</th>\n",
       "    </tr>\n",
       "  </thead>\n",
       "  <tbody>\n",
       "    <tr>\n",
       "      <th>0</th>\n",
       "      <td>Toys &amp; Games</td>\n",
       "      <td>https://yoshops.com/t/toys</td>\n",
       "      <td>1</td>\n",
       "    </tr>\n",
       "    <tr>\n",
       "      <th>1</th>\n",
       "      <td>PlayStation</td>\n",
       "      <td>https://yoshops.com/t/playstation</td>\n",
       "      <td>1</td>\n",
       "    </tr>\n",
       "    <tr>\n",
       "      <th>2</th>\n",
       "      <td>Drones</td>\n",
       "      <td>https://yoshops.com/t/drones</td>\n",
       "      <td>1</td>\n",
       "    </tr>\n",
       "    <tr>\n",
       "      <th>3</th>\n",
       "      <td>RC Toys</td>\n",
       "      <td>https://yoshops.com/t/rc-helicopter</td>\n",
       "      <td>1</td>\n",
       "    </tr>\n",
       "    <tr>\n",
       "      <th>4</th>\n",
       "      <td>Soft Toys</td>\n",
       "      <td>https://yoshops.com/t/soft-toys</td>\n",
       "      <td>1</td>\n",
       "    </tr>\n",
       "    <tr>\n",
       "      <th>...</th>\n",
       "      <td>...</td>\n",
       "      <td>...</td>\n",
       "      <td>...</td>\n",
       "    </tr>\n",
       "    <tr>\n",
       "      <th>59</th>\n",
       "      <td>YouTube Sponsorship</td>\n",
       "      <td>https://yoshops.com/t/youtuber-sponsorship</td>\n",
       "      <td>9</td>\n",
       "    </tr>\n",
       "    <tr>\n",
       "      <th>60</th>\n",
       "      <td>Refurbish Laptop Mobiles</td>\n",
       "      <td>https://yoshops.com/t/refurbished-and-used-lap...</td>\n",
       "      <td>9</td>\n",
       "    </tr>\n",
       "    <tr>\n",
       "      <th>61</th>\n",
       "      <td>Bengaluru</td>\n",
       "      <td>https://yoshops.com/t/bengaluru</td>\n",
       "      <td>9</td>\n",
       "    </tr>\n",
       "    <tr>\n",
       "      <th>62</th>\n",
       "      <td>Chennai</td>\n",
       "      <td>https://yoshops.com/t/chennai</td>\n",
       "      <td>9</td>\n",
       "    </tr>\n",
       "    <tr>\n",
       "      <th>63</th>\n",
       "      <td>Mumbai</td>\n",
       "      <td>https://yoshops.com/t/mumbai</td>\n",
       "      <td>9</td>\n",
       "    </tr>\n",
       "  </tbody>\n",
       "</table>\n",
       "<p>64 rows × 3 columns</p>\n",
       "</div>"
      ],
      "text/plain": [
       "                 Sub Product  \\\n",
       "0              Toys & Games    \n",
       "1                PlayStation   \n",
       "2                     Drones   \n",
       "3                    RC Toys   \n",
       "4                  Soft Toys   \n",
       "..                       ...   \n",
       "59       YouTube Sponsorship   \n",
       "60  Refurbish Laptop Mobiles   \n",
       "61                 Bengaluru   \n",
       "62                   Chennai   \n",
       "63                    Mumbai   \n",
       "\n",
       "                                     Sub Product Link  Prim_Key  \n",
       "0                          https://yoshops.com/t/toys         1  \n",
       "1                   https://yoshops.com/t/playstation         1  \n",
       "2                        https://yoshops.com/t/drones         1  \n",
       "3                 https://yoshops.com/t/rc-helicopter         1  \n",
       "4                     https://yoshops.com/t/soft-toys         1  \n",
       "..                                                ...       ...  \n",
       "59         https://yoshops.com/t/youtuber-sponsorship         9  \n",
       "60  https://yoshops.com/t/refurbished-and-used-lap...         9  \n",
       "61                    https://yoshops.com/t/bengaluru         9  \n",
       "62                      https://yoshops.com/t/chennai         9  \n",
       "63                       https://yoshops.com/t/mumbai         9  \n",
       "\n",
       "[64 rows x 3 columns]"
      ]
     },
     "execution_count": 73,
     "metadata": {},
     "output_type": "execute_result"
    }
   ],
   "source": [
    "df1"
   ]
  },
  {
   "cell_type": "code",
   "execution_count": 74,
   "id": "dc820fdf",
   "metadata": {
    "ExecuteTime": {
     "end_time": "2022-12-28T06:59:28.990823Z",
     "start_time": "2022-12-28T06:59:28.977966Z"
    }
   },
   "outputs": [
    {
     "data": {
      "text/html": [
       "<div>\n",
       "<style scoped>\n",
       "    .dataframe tbody tr th:only-of-type {\n",
       "        vertical-align: middle;\n",
       "    }\n",
       "\n",
       "    .dataframe tbody tr th {\n",
       "        vertical-align: top;\n",
       "    }\n",
       "\n",
       "    .dataframe thead th {\n",
       "        text-align: right;\n",
       "    }\n",
       "</style>\n",
       "<table border=\"1\" class=\"dataframe\">\n",
       "  <thead>\n",
       "    <tr style=\"text-align: right;\">\n",
       "      <th></th>\n",
       "      <th>Sub Product</th>\n",
       "      <th>Sub Product Link</th>\n",
       "      <th>Prim_Key</th>\n",
       "    </tr>\n",
       "  </thead>\n",
       "  <tbody>\n",
       "    <tr>\n",
       "      <th>0</th>\n",
       "      <td>Toys &amp; Games</td>\n",
       "      <td>https://yoshops.com/t/toys</td>\n",
       "      <td>1</td>\n",
       "    </tr>\n",
       "    <tr>\n",
       "      <th>1</th>\n",
       "      <td>PlayStation</td>\n",
       "      <td>https://yoshops.com/t/playstation</td>\n",
       "      <td>1</td>\n",
       "    </tr>\n",
       "    <tr>\n",
       "      <th>2</th>\n",
       "      <td>Drones</td>\n",
       "      <td>https://yoshops.com/t/drones</td>\n",
       "      <td>1</td>\n",
       "    </tr>\n",
       "    <tr>\n",
       "      <th>3</th>\n",
       "      <td>RC Toys</td>\n",
       "      <td>https://yoshops.com/t/rc-helicopter</td>\n",
       "      <td>1</td>\n",
       "    </tr>\n",
       "    <tr>\n",
       "      <th>4</th>\n",
       "      <td>Soft Toys</td>\n",
       "      <td>https://yoshops.com/t/soft-toys</td>\n",
       "      <td>1</td>\n",
       "    </tr>\n",
       "    <tr>\n",
       "      <th>5</th>\n",
       "      <td>Gaming Accessories</td>\n",
       "      <td>https://yoshops.com/t/gaming-accessories</td>\n",
       "      <td>1</td>\n",
       "    </tr>\n",
       "  </tbody>\n",
       "</table>\n",
       "</div>"
      ],
      "text/plain": [
       "          Sub Product                          Sub Product Link  Prim_Key\n",
       "0       Toys & Games                 https://yoshops.com/t/toys         1\n",
       "1         PlayStation         https://yoshops.com/t/playstation         1\n",
       "2              Drones              https://yoshops.com/t/drones         1\n",
       "3             RC Toys       https://yoshops.com/t/rc-helicopter         1\n",
       "4           Soft Toys           https://yoshops.com/t/soft-toys         1\n",
       "5  Gaming Accessories  https://yoshops.com/t/gaming-accessories         1"
      ]
     },
     "execution_count": 74,
     "metadata": {},
     "output_type": "execute_result"
    }
   ],
   "source": [
    "df1[df1['Prim_Key'] == 1]"
   ]
  },
  {
   "cell_type": "code",
   "execution_count": 75,
   "id": "22bebc55",
   "metadata": {
    "ExecuteTime": {
     "end_time": "2022-12-28T06:59:29.006319Z",
     "start_time": "2022-12-28T06:59:28.992661Z"
    }
   },
   "outputs": [],
   "source": [
    "df1['Prim_Key']=df1['Prim_Key'].replace(to_replace=1, value='Toys & Games')"
   ]
  },
  {
   "cell_type": "code",
   "execution_count": 76,
   "id": "0cf4d23c",
   "metadata": {
    "ExecuteTime": {
     "end_time": "2022-12-28T06:59:29.022400Z",
     "start_time": "2022-12-28T06:59:29.007376Z"
    }
   },
   "outputs": [],
   "source": [
    "df1['Prim_Key']=df1['Prim_Key'].replace(to_replace=2, value='Mobiles')"
   ]
  },
  {
   "cell_type": "code",
   "execution_count": 77,
   "id": "d9cfe278",
   "metadata": {
    "ExecuteTime": {
     "end_time": "2022-12-28T06:59:29.038712Z",
     "start_time": "2022-12-28T06:59:29.024461Z"
    }
   },
   "outputs": [],
   "source": [
    "df1['Prim_Key']=df1['Prim_Key'].replace(to_replace=3, value='Laptops')"
   ]
  },
  {
   "cell_type": "code",
   "execution_count": 78,
   "id": "dac1fd52",
   "metadata": {
    "ExecuteTime": {
     "end_time": "2022-12-28T06:59:29.054429Z",
     "start_time": "2022-12-28T06:59:29.041265Z"
    }
   },
   "outputs": [],
   "source": [
    "df1['Prim_Key']=df1['Prim_Key'].replace(to_replace=4, value='Accessories')"
   ]
  },
  {
   "cell_type": "code",
   "execution_count": 79,
   "id": "a9bc7f9c",
   "metadata": {
    "ExecuteTime": {
     "end_time": "2022-12-28T06:59:29.070299Z",
     "start_time": "2022-12-28T06:59:29.055433Z"
    }
   },
   "outputs": [],
   "source": [
    "df1['Prim_Key']=df1['Prim_Key'].replace(to_replace=5, value='Electronics')"
   ]
  },
  {
   "cell_type": "code",
   "execution_count": 80,
   "id": "20a8d4cf",
   "metadata": {
    "ExecuteTime": {
     "end_time": "2022-12-28T06:59:29.085208Z",
     "start_time": "2022-12-28T06:59:29.072906Z"
    }
   },
   "outputs": [],
   "source": [
    "df1['Prim_Key']=df1['Prim_Key'].replace(to_replace=6, value='Home & Kitchen')"
   ]
  },
  {
   "cell_type": "code",
   "execution_count": 81,
   "id": "aeb19210",
   "metadata": {
    "ExecuteTime": {
     "end_time": "2022-12-28T06:59:29.101185Z",
     "start_time": "2022-12-28T06:59:29.086796Z"
    }
   },
   "outputs": [],
   "source": [
    "df1['Prim_Key']=df1['Prim_Key'].replace(to_replace=7, value='Fashion')"
   ]
  },
  {
   "cell_type": "code",
   "execution_count": 82,
   "id": "fd89ee0b",
   "metadata": {
    "ExecuteTime": {
     "end_time": "2022-12-28T06:59:29.116977Z",
     "start_time": "2022-12-28T06:59:29.107685Z"
    }
   },
   "outputs": [],
   "source": [
    "df1['Prim_Key']=df1['Prim_Key'].replace(to_replace=8, value='Foods')"
   ]
  },
  {
   "cell_type": "code",
   "execution_count": 83,
   "id": "17ea0668",
   "metadata": {
    "ExecuteTime": {
     "end_time": "2022-12-28T06:59:29.132127Z",
     "start_time": "2022-12-28T06:59:29.118296Z"
    }
   },
   "outputs": [],
   "source": [
    "df1['Prim_Key']=df1['Prim_Key'].replace(to_replace=9, value='Services')"
   ]
  },
  {
   "cell_type": "code",
   "execution_count": 84,
   "id": "03d131ff",
   "metadata": {
    "ExecuteTime": {
     "end_time": "2022-12-28T06:59:29.147802Z",
     "start_time": "2022-12-28T06:59:29.133283Z"
    }
   },
   "outputs": [],
   "source": [
    "for i in q1:\n",
    "    (df1[df1['Prim_Key'] == i].index)"
   ]
  },
  {
   "cell_type": "code",
   "execution_count": 85,
   "id": "c8062896",
   "metadata": {
    "ExecuteTime": {
     "end_time": "2022-12-28T06:59:29.163790Z",
     "start_time": "2022-12-28T06:59:29.148802Z"
    }
   },
   "outputs": [],
   "source": [
    "df1.rename(columns={'Prim_Key' : \"Product Category\"},inplace=True)"
   ]
  },
  {
   "cell_type": "code",
   "execution_count": 86,
   "id": "a527b48b",
   "metadata": {
    "ExecuteTime": {
     "end_time": "2022-12-28T06:59:29.179845Z",
     "start_time": "2022-12-28T06:59:29.165901Z"
    }
   },
   "outputs": [],
   "source": [
    "df1.rename(columns={'Sub Product' : \"Sub Product Category\"},inplace=True)"
   ]
  },
  {
   "cell_type": "code",
   "execution_count": 87,
   "id": "a8e3e411",
   "metadata": {
    "ExecuteTime": {
     "end_time": "2022-12-28T06:59:29.195701Z",
     "start_time": "2022-12-28T06:59:29.181920Z"
    }
   },
   "outputs": [],
   "source": [
    "for i in q1:\n",
    "    f01=list(df1[df1['Product Category'] == i].index)\n",
    "    f02=f01[0]\n",
    "    df1.drop(f02,inplace=True)"
   ]
  },
  {
   "cell_type": "code",
   "execution_count": 88,
   "id": "508069ad",
   "metadata": {
    "ExecuteTime": {
     "end_time": "2022-12-28T06:59:29.211232Z",
     "start_time": "2022-12-28T06:59:29.196896Z"
    }
   },
   "outputs": [
    {
     "name": "stdout",
     "output_type": "stream",
     "text": [
      "|    | Sub Product Category               | Sub Product Link                                        | Product Category   |\n",
      "|---:|:-----------------------------------|:--------------------------------------------------------|:-------------------|\n",
      "|  1 | PlayStation                        | https://yoshops.com/t/playstation                       | Toys & Games       |\n",
      "|  2 | Drones                             | https://yoshops.com/t/drones                            | Toys & Games       |\n",
      "|  3 | RC Toys                            | https://yoshops.com/t/rc-helicopter                     | Toys & Games       |\n",
      "|  4 | Soft Toys                          | https://yoshops.com/t/soft-toys                         | Toys & Games       |\n",
      "|  5 | Gaming Accessories                 | https://yoshops.com/t/gaming-accessories                | Toys & Games       |\n",
      "|  7 | Smartphones                        | https://yoshops.com/t/smartphones                       | Mobiles            |\n",
      "|  8 | Headphones                         | https://yoshops.com/t/headphones                        | Mobiles            |\n",
      "|  9 | Mobiles Accessories                | https://yoshops.com/t/mobiles-accessories               | Mobiles            |\n",
      "| 10 | Feature Keypad Mobiles             | https://yoshops.com/t/basic-keypad-phone                | Mobiles            |\n",
      "| 12 | Gaming Laptops                     | https://yoshops.com/t/gaming-laptops                    | Laptops            |\n",
      "| 13 | Personal Laptops                   | https://yoshops.com/t/personal-laptops                  | Laptops            |\n",
      "| 14 | Tablets                            | https://yoshops.com/t/tablets                           | Laptops            |\n",
      "| 15 | Laptop Accessories                 | https://yoshops.com/t/laptop-accessories                | Laptops            |\n",
      "| 16 | Computers Accessories              | https://yoshops.com/t/computers-accessories             | Laptops            |\n",
      "| 18 | Books                              | https://yoshops.com/t/books                             | Accessories        |\n",
      "| 19 | Stationery                         | https://yoshops.com/t/stationery                        | Accessories        |\n",
      "| 20 | Bags                               | https://yoshops.com/t/books--bags                       | Accessories        |\n",
      "| 21 | SpareParts                         | https://yoshops.com/t/grocery                           | Accessories        |\n",
      "| 22 | Auto spare parts                   | https://yoshops.com/t/bike                              | Accessories        |\n",
      "| 23 | Mobile Spare Parts                 | https://yoshops.com/t/Mobile-Parts                      | Accessories        |\n",
      "| 24 | Laptop spare parts                 | https://yoshops.com/t/Laptop-spare-parts                | Accessories        |\n",
      "| 25 | More                               | https://yoshops.com/t/more                              | Accessories        |\n",
      "| 27 | Led TV                             | https://yoshops.com/t/led-tv                            | Electronics        |\n",
      "| 28 | Others                             | https://yoshops.com/t/jewelry--watches                  | Electronics        |\n",
      "| 30 | Irons                              | https://yoshops.com/t/irons                             | Home & Kitchen     |\n",
      "| 31 | Mixer Grinder Juicer               | https://yoshops.com/t/mixer-grinder-juicer              | Home & Kitchen     |\n",
      "| 33 | Men                                | https://yoshops.com/t/men                               | Fashion            |\n",
      "| 34 | Men Clothing                       | https://yoshops.com/t/men-clothing                      | Fashion            |\n",
      "| 35 | Sunglasses                         | https://yoshops.com/t/sunglasses                        | Fashion            |\n",
      "| 36 | Watches                            | https://yoshops.com/t/watches                           | Fashion            |\n",
      "| 37 | Men's Footwear                     | https://yoshops.com/t/mens-footwear                     | Fashion            |\n",
      "| 38 | Womens                             | https://yoshops.com/t/womens                            | Fashion            |\n",
      "| 39 | Women Clothing                     | https://yoshops.com/t/women-clothing                    | Fashion            |\n",
      "| 40 | Face Makeup                        | https://yoshops.com/t/face-makeup                       | Fashion            |\n",
      "| 41 | Personal Care                      | https://yoshops.com/t/personal-care                     | Fashion            |\n",
      "| 42 | Kids                               | https://yoshops.com/t/kids                              | Fashion            |\n",
      "| 43 | Kids Clothing                      | https://yoshops.com/t/kids-clothing                     | Fashion            |\n",
      "| 44 | Shoes                              | https://yoshops.com/t/shoes                             | Fashion            |\n",
      "| 46 | Organic foods                      | https://yoshops.com/t/organic                           | Foods              |\n",
      "| 47 | Vegetable                          | https://yoshops.com/t/vegetable                         | Foods              |\n",
      "| 48 | Non Veg                            | https://yoshops.com/t/non-veg                           | Foods              |\n",
      "| 49 | Seafood                            | https://yoshops.com/t/seafood                           | Foods              |\n",
      "| 50 | Biryani                            | https://yoshops.com/t/biryani                           | Foods              |\n",
      "| 52 | Online Live Tuition                | https://yoshops.com/t/tuition                           | Services           |\n",
      "| 53 | Training Internship Work From Home | https://yoshops.com/t/internship                        | Services           |\n",
      "| 54 | Yoga Pharma Franchise              | https://yoshops.com/t/pcd-pharma-distributor            | Services           |\n",
      "| 55 | Sponsorship Marketing              | https://yoshops.com/t/sponsorship-marketing             | Services           |\n",
      "| 56 | Teacher Sponsorship                | https://yoshops.com/t/teacher-sponsorship               | Services           |\n",
      "| 57 | Blog Sponsorship                   | https://yoshops.com/t/blog-sponsorship                  | Services           |\n",
      "| 58 | Instagram Sponsorship              | https://yoshops.com/t/instagram-sponsorship             | Services           |\n",
      "| 59 | YouTube Sponsorship                | https://yoshops.com/t/youtuber-sponsorship              | Services           |\n",
      "| 60 | Refurbish Laptop Mobiles           | https://yoshops.com/t/refurbished-and-used-laptop-phone | Services           |\n",
      "| 61 | Bengaluru                          | https://yoshops.com/t/bengaluru                         | Services           |\n",
      "| 62 | Chennai                            | https://yoshops.com/t/chennai                           | Services           |\n",
      "| 63 | Mumbai                             | https://yoshops.com/t/mumbai                            | Services           |\n"
     ]
    }
   ],
   "source": [
    "print(df1.to_markdown())"
   ]
  },
  {
   "cell_type": "code",
   "execution_count": 89,
   "id": "1a4196d3",
   "metadata": {
    "ExecuteTime": {
     "end_time": "2022-12-28T06:59:29.226815Z",
     "start_time": "2022-12-28T06:59:29.212292Z"
    }
   },
   "outputs": [
    {
     "data": {
      "text/plain": [
       "55"
      ]
     },
     "execution_count": 89,
     "metadata": {},
     "output_type": "execute_result"
    }
   ],
   "source": [
    "len(df1['Sub Product Link'])"
   ]
  },
  {
   "cell_type": "code",
   "execution_count": 90,
   "id": "3540b02d",
   "metadata": {
    "ExecuteTime": {
     "end_time": "2022-12-28T06:59:29.242679Z",
     "start_time": "2022-12-28T06:59:29.227868Z"
    }
   },
   "outputs": [],
   "source": [
    "l4=[]"
   ]
  },
  {
   "cell_type": "code",
   "execution_count": null,
   "id": "3bd7c624",
   "metadata": {
    "ExecuteTime": {
     "start_time": "2022-12-28T06:59:17.283Z"
    }
   },
   "outputs": [],
   "source": [
    "for i in df1['Sub Product Link']:\n",
    "    driver.get(i)\n",
    "    src11=driver.page_source\n",
    "    src12=BeautifulSoup(src11,'html')\n",
    "    src13=src12.find('ul', {\"class\":\"pagination pull-right\"})\n",
    "    if src13 != None :\n",
    "        a=0\n",
    "        src14=src13.find_all('li',{'class':'num'})\n",
    "        for j in range(1,((len(src14))+1)):\n",
    "            driver.get(i+\"?page={}\".format(j))\n",
    "            src15=driver.page_source\n",
    "            src16=BeautifulSoup(src15,'html')\n",
    "            src17=src16.find('div',{'class': 'content'})\n",
    "            src18=src17.find('div',{'class': 'products'})\n",
    "            src19=len(src18.find_all('div',{'class': 'col-sm-3 col-xs-6'}))\n",
    "            a+=src19\n",
    "                       \n",
    "        l4.append(a)\n",
    "    else :\n",
    "        driver.get(i)\n",
    "        src15=driver.page_source\n",
    "        src16=BeautifulSoup(src15,'html')\n",
    "        src17=src16.find('div',{'class': 'content'})\n",
    "        src18=src17.find('div',{'class': 'products'})\n",
    "        src19=len(src18.find_all('div',{'class': 'col-sm-3 col-xs-6'}))\n",
    "        l4.append(src19)\n",
    "        \n",
    "        "
   ]
  },
  {
   "cell_type": "code",
   "execution_count": null,
   "id": "7cdcd65e",
   "metadata": {
    "ExecuteTime": {
     "start_time": "2022-12-28T06:59:17.284Z"
    }
   },
   "outputs": [],
   "source": [
    "len(l4)"
   ]
  },
  {
   "cell_type": "code",
   "execution_count": null,
   "id": "5000ca59",
   "metadata": {
    "ExecuteTime": {
     "start_time": "2022-12-28T06:59:17.286Z"
    }
   },
   "outputs": [],
   "source": [
    "df1"
   ]
  },
  {
   "cell_type": "code",
   "execution_count": null,
   "id": "76fd688c",
   "metadata": {},
   "outputs": [],
   "source": []
  },
  {
   "cell_type": "code",
   "execution_count": null,
   "id": "4e4a0d21",
   "metadata": {},
   "outputs": [],
   "source": []
  },
  {
   "cell_type": "code",
   "execution_count": null,
   "id": "05e6e2e5",
   "metadata": {
    "ExecuteTime": {
     "start_time": "2022-12-28T06:59:17.290Z"
    }
   },
   "outputs": [],
   "source": [
    "c1=dict(df1['Product Category'])"
   ]
  },
  {
   "cell_type": "code",
   "execution_count": null,
   "id": "a9f40b45",
   "metadata": {
    "ExecuteTime": {
     "start_time": "2022-12-28T06:59:17.291Z"
    }
   },
   "outputs": [],
   "source": [
    "nd=pd.DataFrame(c1.values(),columns=['Product Category'])"
   ]
  },
  {
   "cell_type": "code",
   "execution_count": null,
   "id": "902e6916",
   "metadata": {
    "ExecuteTime": {
     "start_time": "2022-12-28T06:59:17.292Z"
    }
   },
   "outputs": [],
   "source": [
    "c2=dict(df1['Sub Product Category'])"
   ]
  },
  {
   "cell_type": "code",
   "execution_count": null,
   "id": "3aaa246b",
   "metadata": {
    "ExecuteTime": {
     "start_time": "2022-12-28T06:59:17.294Z"
    }
   },
   "outputs": [],
   "source": [
    "nd[\"Sub Product Category\"] = c2.values()"
   ]
  },
  {
   "cell_type": "code",
   "execution_count": null,
   "id": "f28fbad8",
   "metadata": {
    "ExecuteTime": {
     "start_time": "2022-12-28T06:59:17.295Z"
    }
   },
   "outputs": [],
   "source": [
    "c3=dict(df1['Sub Product Link'])"
   ]
  },
  {
   "cell_type": "code",
   "execution_count": null,
   "id": "c12bde89",
   "metadata": {
    "ExecuteTime": {
     "start_time": "2022-12-28T06:59:17.296Z"
    }
   },
   "outputs": [],
   "source": [
    "nd['Sub Product Link'] = c3.values()"
   ]
  },
  {
   "cell_type": "code",
   "execution_count": null,
   "id": "1540ac38",
   "metadata": {
    "ExecuteTime": {
     "start_time": "2022-12-28T06:59:17.297Z"
    }
   },
   "outputs": [],
   "source": [
    "nd['Sub Products Count'] = l4"
   ]
  },
  {
   "cell_type": "code",
   "execution_count": null,
   "id": "a14e5c67",
   "metadata": {
    "ExecuteTime": {
     "start_time": "2022-12-28T06:59:17.299Z"
    }
   },
   "outputs": [],
   "source": [
    "nd"
   ]
  },
  {
   "cell_type": "code",
   "execution_count": null,
   "id": "42b646ec",
   "metadata": {
    "ExecuteTime": {
     "start_time": "2022-12-28T06:59:17.300Z"
    }
   },
   "outputs": [],
   "source": [
    "import xlsxwriter"
   ]
  },
  {
   "cell_type": "code",
   "execution_count": null,
   "id": "567f94a4",
   "metadata": {
    "ExecuteTime": {
     "start_time": "2022-12-28T06:59:17.302Z"
    }
   },
   "outputs": [],
   "source": [
    "workbook=xlsxwriter.Workbook('Counts.xlsx')\n",
    "worksheet=workbook.add_worksheet()\n"
   ]
  },
  {
   "cell_type": "code",
   "execution_count": null,
   "id": "0d0c8bd7",
   "metadata": {
    "ExecuteTime": {
     "start_time": "2022-12-28T06:59:17.303Z"
    }
   },
   "outputs": [],
   "source": [
    "col0=[]"
   ]
  },
  {
   "cell_type": "code",
   "execution_count": null,
   "id": "44d4227b",
   "metadata": {
    "ExecuteTime": {
     "start_time": "2022-12-28T06:59:17.305Z"
    }
   },
   "outputs": [],
   "source": [
    "for i in q1:\n",
    "    v=0\n",
    "    for j in range(len(nd[nd['Product Category'] == i])):\n",
    "        if v == 0:\n",
    "            col0.append(i)\n",
    "            v+=1\n",
    "\n",
    "        else :\n",
    "            col0.append('')\n",
    "        v+=1\n",
    "            \n",
    "        "
   ]
  },
  {
   "cell_type": "code",
   "execution_count": null,
   "id": "6270d1f5",
   "metadata": {
    "ExecuteTime": {
     "start_time": "2022-12-28T06:59:17.306Z"
    }
   },
   "outputs": [],
   "source": [
    "col1=list(nd['Sub Product Category'])"
   ]
  },
  {
   "cell_type": "code",
   "execution_count": null,
   "id": "fed39a25",
   "metadata": {
    "ExecuteTime": {
     "start_time": "2022-12-28T06:59:17.307Z"
    }
   },
   "outputs": [],
   "source": [
    "col2=list(nd['Sub Products Count'])"
   ]
  },
  {
   "cell_type": "code",
   "execution_count": null,
   "id": "694fdfa6",
   "metadata": {
    "ExecuteTime": {
     "start_time": "2022-12-28T06:59:17.309Z"
    }
   },
   "outputs": [],
   "source": [
    "total=0\n",
    "total_list =[]"
   ]
  },
  {
   "cell_type": "code",
   "execution_count": null,
   "id": "145aa951",
   "metadata": {
    "ExecuteTime": {
     "start_time": "2022-12-28T06:59:17.310Z"
    }
   },
   "outputs": [],
   "source": [
    "\n",
    "for i in range(len(nd['Sub Products Count'])):\n",
    "    total += col2[i]\n",
    "    if i ==54:\n",
    "        total_list.append(total)\n",
    "    else :\n",
    "        total_list.append('')\n",
    "    "
   ]
  },
  {
   "cell_type": "code",
   "execution_count": null,
   "id": "b3c93b3b",
   "metadata": {
    "ExecuteTime": {
     "start_time": "2022-12-28T06:59:17.311Z"
    }
   },
   "outputs": [],
   "source": [
    "len(total_list)"
   ]
  },
  {
   "cell_type": "code",
   "execution_count": null,
   "id": "807761d5",
   "metadata": {
    "ExecuteTime": {
     "start_time": "2022-12-28T06:59:17.313Z"
    }
   },
   "outputs": [],
   "source": [
    "total_list.insert(0,'Total Products Count')"
   ]
  },
  {
   "cell_type": "code",
   "execution_count": null,
   "id": "ac842b5f",
   "metadata": {
    "ExecuteTime": {
     "start_time": "2022-12-28T06:59:17.314Z"
    }
   },
   "outputs": [],
   "source": [
    "total_list.insert(6,'')"
   ]
  },
  {
   "cell_type": "code",
   "execution_count": null,
   "id": "3e1ff100",
   "metadata": {
    "ExecuteTime": {
     "start_time": "2022-12-28T06:59:17.315Z"
    }
   },
   "outputs": [],
   "source": [
    "  total_list"
   ]
  },
  {
   "cell_type": "code",
   "execution_count": null,
   "id": "03b07fd1",
   "metadata": {
    "ExecuteTime": {
     "start_time": "2022-12-28T06:59:17.317Z"
    }
   },
   "outputs": [],
   "source": [
    "len(  total_list)"
   ]
  },
  {
   "cell_type": "code",
   "execution_count": null,
   "id": "8b81ef12",
   "metadata": {
    "ExecuteTime": {
     "start_time": "2022-12-28T06:59:17.318Z"
    }
   },
   "outputs": [],
   "source": [
    "col0.insert(0,'Product Category')\n",
    "col1.insert(0,'Sub Category Product')\n",
    "col2.insert(0,'Sub Products Count')"
   ]
  },
  {
   "cell_type": "code",
   "execution_count": null,
   "id": "d2016620",
   "metadata": {
    "ExecuteTime": {
     "start_time": "2022-12-28T06:59:17.319Z"
    }
   },
   "outputs": [],
   "source": [
    "row, col =0,0\n",
    "for j in range(4):\n",
    "    if j ==0:\n",
    "        for i in col0 :\n",
    "            worksheet.write(row, col, i)\n",
    "            row += 1\n",
    "    if j == 1:\n",
    "        row=0\n",
    "        col = j\n",
    "        for i in col1 :\n",
    "            worksheet.write(row, col, i)\n",
    "            row += 1\n",
    "    if j == 2:\n",
    "        row=0\n",
    "        col = j\n",
    "        for i in col2 :\n",
    "            worksheet.write(row, col, i)\n",
    "            row += 1\n",
    "    if j == 3:\n",
    "        row=0\n",
    "        col = j\n",
    "        for i in total_list :\n",
    "            worksheet.write(row, col, i)\n",
    "            row += 1\n",
    "\n",
    "            \n",
    "workbook.close()"
   ]
  },
  {
   "cell_type": "code",
   "execution_count": null,
   "id": "6765defa",
   "metadata": {
    "ExecuteTime": {
     "start_time": "2022-12-28T06:59:17.321Z"
    }
   },
   "outputs": [],
   "source": [
    "len(total_list)"
   ]
  },
  {
   "cell_type": "code",
   "execution_count": null,
   "id": "b63dbcf5",
   "metadata": {
    "ExecuteTime": {
     "start_time": "2022-12-28T06:59:17.322Z"
    }
   },
   "outputs": [],
   "source": [
    "import openpyxl\n",
    "from openpyxl.styles import PatternFill\n",
    "wb = openpyxl.load_workbook('Counts.xlsx')\n",
    "sheet = wb['Sheet1']"
   ]
  },
  {
   "cell_type": "code",
   "execution_count": null,
   "id": "44a74141",
   "metadata": {
    "ExecuteTime": {
     "start_time": "2022-12-28T06:59:17.323Z"
    }
   },
   "outputs": [],
   "source": [
    "for i in range (2,(len(total_list)+1)):\n",
    "    sheet['D{}'.format(i)].fill = PatternFill(patternType='solid',fgColor='03FCF4')"
   ]
  },
  {
   "cell_type": "code",
   "execution_count": null,
   "id": "8e49d0fb",
   "metadata": {
    "ExecuteTime": {
     "start_time": "2022-12-28T06:59:17.325Z"
    }
   },
   "outputs": [],
   "source": [
    "sheet['A57'].fill = PatternFill(patternType='solid',fgColor='03FCF4')"
   ]
  },
  {
   "cell_type": "code",
   "execution_count": null,
   "id": "0a170474",
   "metadata": {
    "ExecuteTime": {
     "start_time": "2022-12-28T06:59:17.326Z"
    }
   },
   "outputs": [],
   "source": [
    "sheet['B57'].fill = PatternFill(patternType='solid',fgColor='03FCF4')"
   ]
  },
  {
   "cell_type": "code",
   "execution_count": null,
   "id": "6b88e997",
   "metadata": {
    "ExecuteTime": {
     "start_time": "2022-12-28T06:59:17.327Z"
    }
   },
   "outputs": [],
   "source": [
    "sheet['C57'].fill = PatternFill(patternType='solid',fgColor='03FCF4')"
   ]
  },
  {
   "cell_type": "code",
   "execution_count": null,
   "id": "1391a6f6",
   "metadata": {
    "ExecuteTime": {
     "start_time": "2022-12-28T06:59:17.328Z"
    }
   },
   "outputs": [],
   "source": [
    "wb.save('Counts.xlsx')"
   ]
  },
  {
   "cell_type": "code",
   "execution_count": null,
   "id": "c6a328e5",
   "metadata": {},
   "outputs": [],
   "source": []
  }
 ],
 "metadata": {
  "kernelspec": {
   "display_name": "Python 3 (ipykernel)",
   "language": "python",
   "name": "python3"
  },
  "language_info": {
   "codemirror_mode": {
    "name": "ipython",
    "version": 3
   },
   "file_extension": ".py",
   "mimetype": "text/x-python",
   "name": "python",
   "nbconvert_exporter": "python",
   "pygments_lexer": "ipython3",
   "version": "3.9.12"
  }
 },
 "nbformat": 4,
 "nbformat_minor": 5
}
